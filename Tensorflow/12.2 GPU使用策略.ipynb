{
 "cells": [
  {
   "cell_type": "code",
   "execution_count": 1,
   "metadata": {},
   "outputs": [],
   "source": [
    "import tensorflow as tf"
   ]
  },
  {
   "cell_type": "markdown",
   "metadata": {},
   "source": [
    "获取当前主机上，**程序可见**的运算设备列表：带有experimental字样的，都是在以后版本可能会改变写法的！\n",
    "- gpus = tf.config.experimental.list_physical_devices( device_type = 'GPU' )\n",
    "- cpus = tf.config.experimental.list_physical_devices( device_type = 'CPU' )"
   ]
  },
  {
   "cell_type": "code",
   "execution_count": 4,
   "metadata": {},
   "outputs": [
    {
     "data": {
      "text/plain": [
       "[]"
      ]
     },
     "execution_count": 4,
     "metadata": {},
     "output_type": "execute_result"
    }
   ],
   "source": [
    "# 我是有GPU的，但是我安装的是Tensorflow-cpu，所以该程序看不见我那块GPU！\n",
    "gpus = tf.config.experimental.list_physical_devices( device_type = 'GPU' )\n",
    "gpus"
   ]
  },
  {
   "cell_type": "code",
   "execution_count": 5,
   "metadata": {},
   "outputs": [
    {
     "data": {
      "text/plain": [
       "[PhysicalDevice(name='/physical_device:CPU:0', device_type='CPU')]"
      ]
     },
     "execution_count": 5,
     "metadata": {},
     "output_type": "execute_result"
    }
   ],
   "source": [
    "cpus = tf.config.experimental.list_physical_devices( device_type = 'CPU' )\n",
    "cpus"
   ]
  },
  {
   "cell_type": "code",
   "execution_count": null,
   "metadata": {},
   "outputs": [],
   "source": []
  },
  {
   "cell_type": "markdown",
   "metadata": {},
   "source": [
    "设定当前程序可见的设备，即程序只会用你设定可见的设备：该语言写到程序最前面！\n",
    "- gpus = tf.config.experimental.list_physical_devices( device_type = 'GPU' )\n",
    "- tf.config.experimental.set_visible_devices( devices = gpus[0:4], device_type = 'GPU' )\n",
    "\n",
    "同样效果的操作：用环境变量控制，不推荐！\n",
    "- import os\n",
    "- os.environ[ 'CUDA_VISIBLE_DEVICES' ] = '0,1,2,3,4'"
   ]
  },
  {
   "cell_type": "code",
   "execution_count": null,
   "metadata": {},
   "outputs": [],
   "source": []
  },
  {
   "cell_type": "markdown",
   "metadata": {},
   "source": [
    "设置**显存**的使用策略：默认下Tensorflow会使用几乎所有可用的显存！下面是两种常见的显存设置策略\n",
    "- 仅在需要时申请显存空间（程序初始运行时消耗很少的显存，随着程序的运行需求增大而动态申请显存）：\n",
    "- 直接限定消耗固定大小的显存，若超出就报错："
   ]
  },
  {
   "cell_type": "code",
   "execution_count": null,
   "metadata": {},
   "outputs": [],
   "source": [
    "# 1. 多张卡的动态申请：\n",
    "# 容易出现的问题：如果某些显卡已经被程序所占，则该卡不能被进行如下设置！\n",
    "gpus = tf.config.experimental.list_physical_devices( device_type = 'GPU' )\n",
    "tf.config.experimental.set_visible_devices( devices = gpus[4:6], device_type = 'GPU' )  # 仅可见4张卡\n",
    "\n",
    "for gpu in gpus[4:6]:\n",
    "    tf.config.experimental.set_memory_growth( device = gpu, enable = True )"
   ]
  },
  {
   "cell_type": "code",
   "execution_count": null,
   "metadata": {},
   "outputs": [],
   "source": [
    "# 2. 设定消耗固定显存，超出报错：\n",
    "gpus = tf.config.experimental.list_physical_devices( device_type = 'GPU' )\n",
    "tf.config.experimental.set_visible_devices( devices = gpus[0:2], device_type = 'GPU' )  # 仅可见4张卡\n",
    "\n",
    "# 每一张卡单独设定：\n",
    "tf.config.experimental.set_virtual_device_configuration( \n",
    "    gpus[0],\n",
    "    [ tf.config.experimental.VirtualDeviceConfiguration( memory_limit = 10240 ) ]\n",
    ")\n",
    "\n",
    "tf.config.experimental.set_virtual_device_configuration( \n",
    "    gpus[1],\n",
    "    [ tf.config.experimental.VirtualDeviceConfiguration( memory_limit = 10240 ) ]\n",
    ")\n",
    "\n",
    "tf.config.experimental.set_virtual_device_configuration( \n",
    "    gpus[2],\n",
    "    [ tf.config.experimental.VirtualDeviceConfiguration( memory_limit = 10240 ) ]\n",
    ")"
   ]
  }
 ],
 "metadata": {
  "kernelspec": {
   "display_name": "Python 3",
   "language": "python",
   "name": "python3"
  },
  "language_info": {
   "codemirror_mode": {
    "name": "ipython",
    "version": 3
   },
   "file_extension": ".py",
   "mimetype": "text/x-python",
   "name": "python",
   "nbconvert_exporter": "python",
   "pygments_lexer": "ipython3",
   "version": "3.7.4"
  }
 },
 "nbformat": 4,
 "nbformat_minor": 2
}
