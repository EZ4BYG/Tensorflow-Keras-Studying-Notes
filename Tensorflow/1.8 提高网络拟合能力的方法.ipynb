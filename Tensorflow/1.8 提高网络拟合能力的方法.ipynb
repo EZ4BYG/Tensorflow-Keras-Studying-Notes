{
 "cells": [
  {
   "cell_type": "markdown",
   "metadata": {},
   "source": [
    "（1）网络容量：神经元数越多、层数越多 —— 未知参数越多 —— 网络容量越大！\n",
    "- 好处：拟合能力强！\n",
    "- 坏处：训练速度慢、容易过拟合！\n",
    "\n",
    "（2）超参数：网络搭建中各种需要自己来选的\n",
    "\n",
    "（3）提高网络的**拟合能力**：是拟合能力，不是**泛化能力**！\n",
    "- 适当增加单层的神经元数：32、64、128 ... —— 效果一般（但不能太小、否则有**信息瓶颈**）\n",
    "- 适当增加层数 —— 效果很好，真正的深度学习！\n",
    "\n",
    "提高的是对训练数据的拟合精度，不能太高，否则在测试数据上很容易过拟合（精度降低）！"
   ]
  },
  {
   "cell_type": "code",
   "execution_count": null,
   "metadata": {},
   "outputs": [],
   "source": []
  }
 ],
 "metadata": {
  "kernelspec": {
   "display_name": "Python 3",
   "language": "python",
   "name": "python3"
  },
  "language_info": {
   "codemirror_mode": {
    "name": "ipython",
    "version": 3
   },
   "file_extension": ".py",
   "mimetype": "text/x-python",
   "name": "python",
   "nbconvert_exporter": "python",
   "pygments_lexer": "ipython3",
   "version": "3.7.4"
  }
 },
 "nbformat": 4,
 "nbformat_minor": 2
}
