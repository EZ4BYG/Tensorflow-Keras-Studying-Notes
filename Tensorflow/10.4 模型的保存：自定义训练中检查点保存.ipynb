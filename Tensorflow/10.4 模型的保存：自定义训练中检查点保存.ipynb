{
 "cells": [
  {
   "cell_type": "markdown",
   "metadata": {},
   "source": [
    "说明：模型的自定义保存，需要用到的是tf.train.Checkpoint.xxx！\n",
    "\n",
    "注意\n",
    "- 训练过程中，变化的东西有：自定义的优化器、模型的权重值；\n",
    "- 模型恢复时，必须是**同名的**！！即使代码不相同，但是只要同名就可以恢复！！"
   ]
  },
  {
   "cell_type": "code",
   "execution_count": 1,
   "metadata": {},
   "outputs": [],
   "source": [
    "import tensorflow as tf\n",
    "import numpy as np"
   ]
  },
  {
   "cell_type": "code",
   "execution_count": 2,
   "metadata": {},
   "outputs": [],
   "source": [
    "# 加载数据集：只用训练集即可\n",
    "(train_image, train_label), (test_image, test_label) = tf.keras.datasets.fashion_mnist.load_data()"
   ]
  },
  {
   "cell_type": "code",
   "execution_count": 3,
   "metadata": {},
   "outputs": [
    {
     "data": {
      "text/plain": [
       "TensorShape([60000, 28, 28, 1])"
      ]
     },
     "execution_count": 3,
     "metadata": {},
     "output_type": "execute_result"
    }
   ],
   "source": [
    "# 维度拓展，从数组转为图像尺寸\n",
    "train_image = tf.expand_dims(train_image, -1)\n",
    "test_image = tf.expand_dims(test_image, -1)\n",
    "train_image.shape"
   ]
  },
  {
   "cell_type": "code",
   "execution_count": 4,
   "metadata": {},
   "outputs": [],
   "source": [
    "# 转换数据类型：\n",
    "train_image = tf.cast( train_image/255, tf.float32 )  # 归一化后，转为float32\n",
    "train_label = tf.cast( train_label, tf.int32 )\n",
    "\n",
    "test_image = tf.cast( test_image/255, tf.float32 )\n",
    "test_label = tf.cast( test_label, tf.int32 )"
   ]
  },
  {
   "cell_type": "code",
   "execution_count": 5,
   "metadata": {},
   "outputs": [
    {
     "data": {
      "text/plain": [
       "<TensorSliceDataset shapes: ((28, 28, 1), ()), types: (tf.float32, tf.int32)>"
      ]
     },
     "execution_count": 5,
     "metadata": {},
     "output_type": "execute_result"
    }
   ],
   "source": [
    "# tf.data进行数据集输入：\n",
    "train_dataset = tf.data.Dataset.from_tensor_slices( (train_image,train_label) )\n",
    "test_dataset = tf.data.Dataset.from_tensor_slices( (test_image,test_label) )\n",
    "train_dataset"
   ]
  },
  {
   "cell_type": "code",
   "execution_count": 6,
   "metadata": {},
   "outputs": [],
   "source": [
    "# 数据集乱序、分批次：\n",
    "train_dataset = train_dataset.shuffle(60000).batch(64)\n",
    "test_dataset = test_dataset.shuffle(10000).batch(64)"
   ]
  },
  {
   "cell_type": "code",
   "execution_count": null,
   "metadata": {},
   "outputs": [],
   "source": []
  },
  {
   "cell_type": "code",
   "execution_count": 7,
   "metadata": {},
   "outputs": [],
   "source": [
    "model = tf.keras.Sequential( [\n",
    "    tf.keras.layers.Flatten( input_shape = (28,28) ),\n",
    "    tf.keras.layers.Dense(128, activation = 'relu'),\n",
    "    tf.keras.layers.Dense(10, activation = 'softmax')\n",
    "] )"
   ]
  },
  {
   "cell_type": "code",
   "execution_count": null,
   "metadata": {},
   "outputs": [],
   "source": []
  },
  {
   "cell_type": "code",
   "execution_count": 8,
   "metadata": {},
   "outputs": [],
   "source": [
    "# 自定义优化器对象：\n",
    "optimizer = tf.keras.optimizers.Adam( lr = 0.001 )"
   ]
  },
  {
   "cell_type": "code",
   "execution_count": 9,
   "metadata": {},
   "outputs": [],
   "source": [
    "# 自定义损失函数对象：\n",
    "loss_func = tf.keras.losses.SparseCategoricalCrossentropy()"
   ]
  },
  {
   "cell_type": "code",
   "execution_count": 10,
   "metadata": {},
   "outputs": [],
   "source": [
    "# 定义指标计算“对象”：目标是求每个batch的！！ —— 故：加到train_step里。—— 公用对象，一直在变！！！★★★\n",
    "train_loss = tf.keras.metrics.Mean('train_loss')\n",
    "train_accuracy = tf.keras.metrics.SparseCategoricalAccuracy('train_acc')\n",
    "\n",
    "test_loss = tf.keras.metrics.Mean('test_loss')\n",
    "test_accuracy = tf.keras.metrics.SparseCategoricalAccuracy('test_acc')"
   ]
  },
  {
   "cell_type": "code",
   "execution_count": null,
   "metadata": {},
   "outputs": [],
   "source": []
  },
  {
   "cell_type": "code",
   "execution_count": 11,
   "metadata": {},
   "outputs": [],
   "source": [
    "# 每个batch的训练函数：\n",
    "def train_step(model, images, labels_real):\n",
    "    \n",
    "    with tf.GradientTape() as t:  # 定义t要跟踪哪些函数的梯度变化！\n",
    "        labels_predict = model(images)                      # 当前model对图像的预测\n",
    "        loss_step = loss_func(labels_real, labels_predict)  # 直接用\n",
    "        \n",
    "    # 梯度优化：\n",
    "    grads = t.gradient( loss_step, model.trainable_variables )  # 求目标函数关于“各个”可训练参数的梯度值！\n",
    "    # 用上一步得到“各个”可训练参数梯度值，修改“各个”可训练参数，即也就修改了model\n",
    "    optimizer.apply_gradients( zip(grads, model.trainable_variables) )  \n",
    "    \n",
    "    # 每个batch指标计算：64张训练图片的评价loss和acc —— 公用可调用对象，一直在变！★★★\n",
    "    train_loss( loss_step )  # 每个batch中所有图的误差的均值\n",
    "    train_accuracy( labels_real, labels_predict )"
   ]
  },
  {
   "cell_type": "code",
   "execution_count": 12,
   "metadata": {},
   "outputs": [],
   "source": [
    "# 一般每次epoch测试一次就行了，不用每个batch那么频繁！\n",
    "def test_step(model, images, labels_real):\n",
    "    labels_predict = model(images)\n",
    "    loss_step = loss_func(labels_real, labels_predict)\n",
    "    \n",
    "    # 每个batch指标计算：64张测试图片的评价loss和acc —— 公用可调用对象，一直在变！★★★\n",
    "    test_loss( loss_step )\n",
    "    test_accuracy( labels_real, labels_predict )"
   ]
  },
  {
   "cell_type": "markdown",
   "metadata": {},
   "source": [
    "### 设置检查点（类）："
   ]
  },
  {
   "cell_type": "code",
   "execution_count": 14,
   "metadata": {},
   "outputs": [],
   "source": [
    "import os \n",
    "\n",
    "cp_dir = 'E:/tensorflow2.0_日月光华/笔记/self_check_save/'\n",
    "cp_prefix = os.path.join(cp_dir, 'ckpt')  # 保存的文件都加一个ckpt前缀！\n",
    "\n",
    "# 设定检查点类：里面是要保存的东西\n",
    "# 如果是GAN的模型，可能有多个optimizer！  那就optimizer1 = optimizer1, optimizer2 = optimizer2, ...\n",
    "checkpoint = tf.train.Checkpoint( optimizer = optimizer, model = model )"
   ]
  },
  {
   "cell_type": "code",
   "execution_count": 13,
   "metadata": {},
   "outputs": [],
   "source": []
  },
  {
   "cell_type": "code",
   "execution_count": 18,
   "metadata": {},
   "outputs": [],
   "source": [
    "# 总体训练的执行函数：注函数！\n",
    "def train():\n",
    "    \n",
    "    # 每个epoch大循环：\n",
    "    for epoch in range(10):\n",
    "        # 每个batch小循环：\n",
    "        for (batch, (images, labels_real)) in enumerate(train_dataset):  # 每次拿一个单位（batch）出来，带上编号\n",
    "            train_step( model, images, labels_real )  # 每个batch的训练！\n",
    "            \n",
    "        # 一直在累积：内部for循环每完毕一次，就是一个epoch完成，打印\n",
    "        print('Epoch{}：train_loss：{}，train_acc：{}'.format(epoch+1,\n",
    "                                                              train_loss.result().numpy(), \n",
    "                                                              train_accuracy.result().numpy()) )\n",
    "        \n",
    "        # 每个epoch测试一下当前模型“预测”能力：\n",
    "        for (batch, (images, labels_real)) in enumerate(test_dataset):\n",
    "            test_step( model, images, labels_real )\n",
    "        print('Epoch{}：test_loss：{}，test_acc：{}'.format(epoch+1,\n",
    "                                                            test_loss.result().numpy(),\n",
    "                                                            test_accuracy.result().numpy()) )\n",
    "        \n",
    "        # 每个epoch所有训练集完毕，需要把对象重置：\n",
    "        train_loss.reset_states()\n",
    "        train_accuracy.reset_states()\n",
    "        test_loss.reset_states()\n",
    "        test_accuracy.reset_states()\n",
    "        \n",
    "        # 设置检查点：自定义的每隔2个epoch保存一次！\n",
    "        if (epoch + 1) % 2 == 0:\n",
    "            checkpoint.save( file_prefix = cp_prefix )"
   ]
  },
  {
   "cell_type": "code",
   "execution_count": 19,
   "metadata": {},
   "outputs": [
    {
     "name": "stdout",
     "output_type": "stream",
     "text": [
      "Epoch1：train_loss：0.5184522271156311，train_acc：0.8196666836738586\n",
      "Epoch1：test_loss：0.45428842306137085，test_acc：0.8382999897003174\n",
      "Epoch2：train_loss：0.3909893333911896，train_acc：0.8599166870117188\n",
      "Epoch2：test_loss：0.3910215198993683，test_acc：0.8611999750137329\n",
      "Epoch3：train_loss：0.35105305910110474，train_acc：0.8730666637420654\n",
      "Epoch3：test_loss：0.38229086995124817，test_acc：0.8583999872207642\n",
      "Epoch4：train_loss：0.3221920132637024，train_acc：0.8824999928474426\n",
      "Epoch4：test_loss：0.3929705023765564，test_acc：0.8589000105857849\n",
      "Epoch5：train_loss：0.3023349344730377，train_acc：0.8888999819755554\n",
      "Epoch5：test_loss：0.35588932037353516，test_acc：0.8730000257492065\n",
      "Epoch6：train_loss：0.29309675097465515，train_acc：0.891700029373169\n",
      "Epoch6：test_loss：0.3469688296318054，test_acc：0.8723000288009644\n",
      "Epoch7：train_loss：0.27551475167274475，train_acc：0.8988666534423828\n",
      "Epoch7：test_loss：0.34371089935302734，test_acc：0.8759999871253967\n",
      "Epoch8：train_loss：0.2679566442966461，train_acc：0.8999333381652832\n",
      "Epoch8：test_loss：0.34148862957954407，test_acc：0.8779000043869019\n",
      "Epoch9：train_loss：0.25619977712631226，train_acc：0.9057499766349792\n",
      "Epoch9：test_loss：0.35641175508499146，test_acc：0.8755999803543091\n",
      "Epoch10：train_loss：0.24627986550331116，train_acc：0.9092666506767273\n",
      "Epoch10：test_loss：0.3433087468147278，test_acc：0.8776000142097473\n"
     ]
    }
   ],
   "source": [
    "train()"
   ]
  },
  {
   "attachments": {
    "%E8%87%AA%E5%AE%9A%E4%B9%89%E8%AE%AD%E7%BB%83%E6%A3%80%E6%9F%A5%E7%82%B9%E4%BF%9D%E5%AD%98%E6%83%85%E5%86%B5.png": {
     "image/png": "[encoded data removed]"
    }
   },
   "cell_type": "markdown",
   "metadata": {},
   "source": [
    "说明：各个.index文件就是检查点文件！刚好是5个（每隔1个保存一次）\n",
    "\n",
    "![%E8%87%AA%E5%AE%9A%E4%B9%89%E8%AE%AD%E7%BB%83%E6%A3%80%E6%9F%A5%E7%82%B9%E4%BF%9D%E5%AD%98%E6%83%85%E5%86%B5.png](attachment:%E8%87%AA%E5%AE%9A%E4%B9%89%E8%AE%AD%E7%BB%83%E6%A3%80%E6%9F%A5%E7%82%B9%E4%BF%9D%E5%AD%98%E6%83%85%E5%86%B5.png)"
   ]
  },
  {
   "cell_type": "code",
   "execution_count": null,
   "metadata": {},
   "outputs": [],
   "source": []
  },
  {
   "cell_type": "markdown",
   "metadata": {},
   "source": [
    "### 恢复检查点（最新的）："
   ]
  },
  {
   "cell_type": "markdown",
   "metadata": {},
   "source": [
    "说明：前面的程序都还要运行一遍！除了最后的训练。"
   ]
  },
  {
   "cell_type": "code",
   "execution_count": 15,
   "metadata": {},
   "outputs": [
    {
     "data": {
      "text/plain": [
       "<tensorflow.python.training.tracking.util.CheckpointLoadStatus at 0x21a8913e288>"
      ]
     },
     "execution_count": 15,
     "metadata": {},
     "output_type": "execute_result"
    }
   ],
   "source": [
    "checkpoint.restore( tf.train.latest_checkpoint(cp_dir) )"
   ]
  },
  {
   "cell_type": "code",
   "execution_count": 18,
   "metadata": {},
   "outputs": [
    {
     "data": {
      "text/plain": [
       "<tf.Tensor: id=262, shape=(10000, 10), dtype=float32, numpy=\n",
       "array([[8.30821776e-08, 2.79016321e-09, 1.39898004e-08, ...,\n",
       "        1.17396250e-01, 1.12682972e-06, 8.77696574e-01],\n",
       "       [1.45589274e-05, 2.46944243e-10, 9.96791303e-01, ...,\n",
       "        1.05389381e-16, 1.05355591e-09, 6.10357203e-15],\n",
       "       [8.54943835e-07, 9.99998927e-01, 1.05221920e-09, ...,\n",
       "        2.64538024e-16, 3.88455157e-10, 4.09432789e-14],\n",
       "       ...,\n",
       "       [7.09529850e-04, 7.74319275e-09, 2.92541838e-04, ...,\n",
       "        5.54801680e-08, 9.97840285e-01, 1.22663579e-09],\n",
       "       [5.28027101e-07, 9.99586642e-01, 2.38278432e-07, ...,\n",
       "        3.72204940e-11, 2.04882369e-07, 4.63988048e-09],\n",
       "       [3.02293374e-05, 1.06692234e-07, 2.39806996e-05, ...,\n",
       "        1.75736174e-02, 1.01189420e-04, 1.94259228e-05]], dtype=float32)>"
      ]
     },
     "execution_count": 18,
     "metadata": {},
     "output_type": "execute_result"
    }
   ],
   "source": [
    "# 自定义模型，不能用.evaluate！—— 只能直接调用！\n",
    "model( test_image, training = False )"
   ]
  },
  {
   "cell_type": "code",
   "execution_count": 21,
   "metadata": {},
   "outputs": [],
   "source": [
    "pred = tf.argmax( model( test_image, training = False ), axis = -1 ).numpy()"
   ]
  },
  {
   "cell_type": "code",
   "execution_count": 26,
   "metadata": {},
   "outputs": [
    {
     "data": {
      "text/plain": [
       "0.8776"
      ]
     },
     "execution_count": 26,
     "metadata": {},
     "output_type": "execute_result"
    }
   ],
   "source": [
    "# 对应的正确率：\n",
    "(pred == test_label.numpy()).sum() / len(test_label)"
   ]
  },
  {
   "cell_type": "code",
   "execution_count": null,
   "metadata": {},
   "outputs": [],
   "source": []
  }
 ],
 "metadata": {
  "kernelspec": {
   "display_name": "Python 3",
   "language": "python",
   "name": "python3"
  },
  "language_info": {
   "codemirror_mode": {
    "name": "ipython",
    "version": 3
   },
   "file_extension": ".py",
   "mimetype": "text/x-python",
   "name": "python",
   "nbconvert_exporter": "python",
   "pygments_lexer": "ipython3",
   "version": "3.7.4"
  }
 },
 "nbformat": 4,
 "nbformat_minor": 2
}
