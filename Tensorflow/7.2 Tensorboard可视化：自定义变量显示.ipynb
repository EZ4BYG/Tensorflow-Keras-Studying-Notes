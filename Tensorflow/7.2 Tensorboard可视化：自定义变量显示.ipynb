{
 "cells": [
  {
   "cell_type": "markdown",
   "metadata": {},
   "source": [
    "# 说明"
   ]
  },
  {
   "cell_type": "markdown",
   "metadata": {},
   "source": [
    "本例增加一个“**学习率**”的变化，即：随着训练epoch的增加，学习率不断下降！—— 希望tensorboard中增加learn_rate变量的展示！\n",
    "\n",
    "方式：回调函数 + 自定义函数\n",
    "- 创建文件编写器：tf.summary.create_file_writer() —— 把tf.summary.scalar()的记录的东西写到磁盘中！\n",
    "- 自定义一个学习率变化功能函数；—— 为了给回调函数调用！\n",
    "- 在学习率变化功能函数中，用tf.summary.scalar()记录学习率的变化；—— 为了往磁盘里存写！\n",
    "- 来model.fit()中使用回调函数LearningRateScheduler() —— 总体的启动！"
   ]
  },
  {
   "cell_type": "code",
   "execution_count": 1,
   "metadata": {},
   "outputs": [],
   "source": [
    "import tensorboard as tb\n",
    "import tensorflow as tf"
   ]
  },
  {
   "cell_type": "code",
   "execution_count": 2,
   "metadata": {},
   "outputs": [],
   "source": [
    "# 加载数据集：只用训练集即可\n",
    "(train_image, train_label), (test_image, test_label) = tf.keras.datasets.mnist.load_data()\n",
    "\n",
    "# 维度拓展，从数组转为图像尺寸\n",
    "train_image = tf.expand_dims(train_image, -1)\n",
    "test_image = tf.expand_dims(test_image, -1)\n",
    "train_image.shape\n",
    "\n",
    "# 转换数据类型：\n",
    "train_image = tf.cast( train_image/255, tf.float32 )  # 归一化后，转为float32\n",
    "train_label = tf.cast( train_label, tf.int32 )\n",
    "\n",
    "test_image = tf.cast( test_image/255, tf.float32 )\n",
    "test_label = tf.cast( test_label, tf.int32 )"
   ]
  },
  {
   "cell_type": "code",
   "execution_count": 3,
   "metadata": {},
   "outputs": [
    {
     "data": {
      "text/plain": [
       "<TensorSliceDataset shapes: ((28, 28, 1), ()), types: (tf.float32, tf.int32)>"
      ]
     },
     "execution_count": 3,
     "metadata": {},
     "output_type": "execute_result"
    }
   ],
   "source": [
    "# tf.data进行数据集输入：\n",
    "train_dataset = tf.data.Dataset.from_tensor_slices( (train_image,train_label) )\n",
    "test_dataset = tf.data.Dataset.from_tensor_slices( (test_image,test_label) )\n",
    "train_dataset"
   ]
  },
  {
   "cell_type": "code",
   "execution_count": 4,
   "metadata": {},
   "outputs": [],
   "source": [
    "# 数据集乱序、分批次：因为后面用tf.keras直接搭网络，所以训练数据一般要.repeat()\n",
    "train_dataset = train_dataset.shuffle(60000).repeat().batch(64)\n",
    "test_dataset = test_dataset.shuffle(10000).batch(64)"
   ]
  },
  {
   "cell_type": "code",
   "execution_count": 5,
   "metadata": {},
   "outputs": [],
   "source": [
    "model = tf.keras.Sequential( [\n",
    "    tf.keras.layers.Conv2D( 16, [3,3], activation = 'relu', input_shape = (None, None, 1) ),\n",
    "    tf.keras.layers.Conv2D( 32, [3,3], activation = 'relu' ),\n",
    "    tf.keras.layers.GlobalMaxPooling2D(),  # 换一个Max池化看看（不是重点）\n",
    "    tf.keras.layers.Dense(10, activation = 'softmax')\n",
    "] )"
   ]
  },
  {
   "cell_type": "code",
   "execution_count": 6,
   "metadata": {},
   "outputs": [],
   "source": [
    "model.compile(\n",
    "    optimizer = 'adam',\n",
    "    loss = 'sparse_categorical_crossentropy',\n",
    "    metrics = ['acc']\n",
    ")"
   ]
  },
  {
   "cell_type": "markdown",
   "metadata": {},
   "source": [
    "### 创建回调函数："
   ]
  },
  {
   "cell_type": "code",
   "execution_count": 7,
   "metadata": {},
   "outputs": [],
   "source": [
    "import os\n",
    "import datetime"
   ]
  },
  {
   "cell_type": "code",
   "execution_count": 8,
   "metadata": {},
   "outputs": [],
   "source": [
    "# 自定义一个学习率变化功能函数：\n",
    "def lr_rate(epoch):\n",
    "    learning_rate = 0.2\n",
    "    if epoch > 5:\n",
    "        learning_rate = 0.02\n",
    "    if epoch > 10:\n",
    "        learning_rate = 0.01\n",
    "    if epoch > 20:\n",
    "        learning_rate = 0.005\n",
    "    tf.summary.scalar( 'learning_rate', data = learning_rate, step = epoch )  # 时时记录\n",
    "    return learning_rate"
   ]
  },
  {
   "cell_type": "code",
   "execution_count": 9,
   "metadata": {},
   "outputs": [],
   "source": [
    "log_dir = os.path.join('logs', datetime.datetime.now().strftime(\"%Y%m%d_%H%M%S\"))\n",
    "\n",
    "# 文件编写器：把记录的东西写到磁盘中\n",
    "file_writer = tf.summary.create_file_writer( log_dir + '/lr' )  # log_dir下现有3个文件夹：train、test、lr\n",
    "file_writer.set_as_default()  # 设定为默认的文件编写器"
   ]
  },
  {
   "cell_type": "code",
   "execution_count": 10,
   "metadata": {},
   "outputs": [],
   "source": [
    "# 创建回调函数：\n",
    "tensorboard_callback = tf.keras.callbacks.TensorBoard( log_dir, histogram_freq = 1 )  \n",
    "lr_callback = tf.keras.callbacks.LearningRateScheduler( lr_rate )  # 把上面写的函数，放入回调函数中"
   ]
  },
  {
   "cell_type": "markdown",
   "metadata": {},
   "source": [
    "### 训练时使用："
   ]
  },
  {
   "cell_type": "code",
   "execution_count": null,
   "metadata": {},
   "outputs": [],
   "source": [
    "model.fit(\n",
    "    train_dataset,\n",
    "    epochs = 22,\n",
    "    steps_per_epoch = 60000 // 64,\n",
    "    validation_data = test_dataset,\n",
    "    validation_steps = 10000 // 64,\n",
    "    callbacks = [tensorboard_callback, lr_callback]\n",
    ")"
   ]
  },
  {
   "cell_type": "code",
   "execution_count": null,
   "metadata": {},
   "outputs": [],
   "source": [
    "# tensorboard在Notebook中显示的方法：\n",
    "%load_ext tensorboard\n",
    "%matplotlib inline\n",
    "\n",
    "%tensorboard --logdir logs  # 其中logs就是那个文件夹名"
   ]
  }
 ],
 "metadata": {
  "kernelspec": {
   "display_name": "Python 3",
   "language": "python",
   "name": "python3"
  },
  "language_info": {
   "codemirror_mode": {
    "name": "ipython",
    "version": 3
   },
   "file_extension": ".py",
   "mimetype": "text/x-python",
   "name": "python",
   "nbconvert_exporter": "python",
   "pygments_lexer": "ipython3",
   "version": "3.7.4"
  }
 },
 "nbformat": 4,
 "nbformat_minor": 2
}
