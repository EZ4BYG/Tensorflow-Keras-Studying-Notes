{
 "cells": [
  {
   "cell_type": "code",
   "execution_count": 1,
   "metadata": {},
   "outputs": [],
   "source": [
    "import tensorflow as tf\n",
    "import pandas as pd\n",
    "import numpy as np\n",
    "import matplotlib.pyplot as plt"
   ]
  },
  {
   "cell_type": "code",
   "execution_count": 2,
   "metadata": {},
   "outputs": [],
   "source": [
    "# 加载数据集:\n",
    "(train_image, train_label), (test_image, test_label) = tf.keras.datasets.fashion_mnist.load_data()\n",
    "\n",
    "# 归一化：\n",
    "train_image = train_image / 255\n",
    "test_image = test_image / 255\n",
    "\n",
    "# 把标签进独热编码：\n",
    "train_label_onehot = tf.keras.utils.to_categorical(train_label)\n",
    "test_label_onehot = tf.keras.utils.to_categorical(test_label)"
   ]
  },
  {
   "cell_type": "markdown",
   "metadata": {},
   "source": [
    "# 说明："
   ]
  },
  {
   "cell_type": "markdown",
   "metadata": {},
   "source": [
    "函数式API还是用Keras已经封装好的方法，把**各种层**都当作是**函数来使用/调用** —— 用层来调用层！\n",
    "\n",
    "使用方式：\n",
    "- 1. from tensorflow import keras\n",
    "- 2. x = keras.layers.Dense(原始的各种设置)(上一层的输出) \n",
    "\n",
    "说明：我们直接把keras.layers.Dense()()中的前半部分：keras.layers.Dense()看成一个**已写好的层函数**即可，后面的()内是要调用的层。\n",
    "\n",
    "本节仅仅是用函数调用的形式改写原来的搭建，还没有体现函数式编程的功能！"
   ]
  },
  {
   "cell_type": "code",
   "execution_count": 3,
   "metadata": {},
   "outputs": [],
   "source": [
    "from tensorflow import keras"
   ]
  },
  {
   "cell_type": "code",
   "execution_count": 4,
   "metadata": {},
   "outputs": [],
   "source": [
    "# 网络的数据：每张原始图像是多大，就按多大输入即可 —— 不需要管第一维的batch\n",
    "input = keras.Input( shape = (28,28) )  "
   ]
  },
  {
   "cell_type": "code",
   "execution_count": 5,
   "metadata": {},
   "outputs": [],
   "source": [
    "# 函数式API搭建：必须是前后连着的，中间不能用断裂！\n",
    "x1 = keras.layers.Flatten()(input)\n",
    "x2 = keras.layers.Dense(32, activation = 'relu')(x1)  # x2调用x1层 \n",
    "x3 = keras.layers.Dropout(0.5)(x2)\n",
    "x4 = keras.layers.Dense(32, activation = 'relu')(x3)\n",
    "# 最后的输出层：\n",
    "output = keras.layers.Dense(10, activation = 'softmax')(x4)"
   ]
  },
  {
   "cell_type": "code",
   "execution_count": 9,
   "metadata": {},
   "outputs": [],
   "source": [
    "# 把模型组起来：从input到output，中间的数据流必须是个“闭环”\n",
    "model = keras.Model( inputs = input, outputs = output)"
   ]
  },
  {
   "cell_type": "code",
   "execution_count": 10,
   "metadata": {},
   "outputs": [
    {
     "name": "stdout",
     "output_type": "stream",
     "text": [
      "Model: \"model_2\"\n",
      "_________________________________________________________________\n",
      "Layer (type)                 Output Shape              Param #   \n",
      "=================================================================\n",
      "input_2 (InputLayer)         [(None, 28, 28)]          0         \n",
      "_________________________________________________________________\n",
      "flatten_1 (Flatten)          (None, 784)               0         \n",
      "_________________________________________________________________\n",
      "dense_3 (Dense)              (None, 32)                25120     \n",
      "_________________________________________________________________\n",
      "dropout_1 (Dropout)          (None, 32)                0         \n",
      "_________________________________________________________________\n",
      "dense_4 (Dense)              (None, 32)                1056      \n",
      "_________________________________________________________________\n",
      "dense_5 (Dense)              (None, 10)                330       \n",
      "=================================================================\n",
      "Total params: 26,506\n",
      "Trainable params: 26,506\n",
      "Non-trainable params: 0\n",
      "_________________________________________________________________\n"
     ]
    }
   ],
   "source": [
    "model.summary()"
   ]
  },
  {
   "cell_type": "code",
   "execution_count": 13,
   "metadata": {},
   "outputs": [],
   "source": [
    "# 下面编译和训练都是一样的：\n",
    "model.compile(\n",
    "    optimizer = tf.keras.optimizers.Adam( learning_rate = 0.001),  # 优化器实例：这里可以自定义一些参数！！！\n",
    "    loss = 'categorical_crossentropy',\n",
    "    metrics = ['acc'] \n",
    ")"
   ]
  },
  {
   "cell_type": "code",
   "execution_count": 14,
   "metadata": {},
   "outputs": [
    {
     "name": "stdout",
     "output_type": "stream",
     "text": [
      "Train on 60000 samples\n",
      "Epoch 1/5\n",
      "60000/60000 [==============================] - 3s 47us/sample - loss: 2.3052 - acc: 0.0999\n",
      "Epoch 2/5\n",
      "60000/60000 [==============================] - 2s 41us/sample - loss: 2.3028 - acc: 0.0975\n",
      "Epoch 3/5\n",
      "60000/60000 [==============================] - 2s 41us/sample - loss: 2.3028 - acc: 0.0982\n",
      "Epoch 4/5\n",
      "60000/60000 [==============================] - 2s 41us/sample - loss: 2.3028 - acc: 0.0983\n",
      "Epoch 5/5\n",
      "60000/60000 [==============================] - 3s 46us/sample - loss: 2.3028 - acc: 0.0975\n"
     ]
    },
    {
     "data": {
      "text/plain": [
       "<tensorflow.python.keras.callbacks.History at 0x132d1661288>"
      ]
     },
     "execution_count": 14,
     "metadata": {},
     "output_type": "execute_result"
    }
   ],
   "source": [
    "model.fit(train_image, train_label_onehot, epochs = 5)"
   ]
  },
  {
   "cell_type": "code",
   "execution_count": null,
   "metadata": {},
   "outputs": [],
   "source": []
  },
  {
   "cell_type": "code",
   "execution_count": null,
   "metadata": {},
   "outputs": [],
   "source": []
  },
  {
   "cell_type": "code",
   "execution_count": 8,
   "metadata": {},
   "outputs": [
    {
     "name": "stdout",
     "output_type": "stream",
     "text": [
      "Model: \"model_1\"\n",
      "_________________________________________________________________\n",
      "Layer (type)                 Output Shape              Param #   \n",
      "=================================================================\n",
      "input_2 (InputLayer)         [(None, 28, 28)]          0         \n",
      "_________________________________________________________________\n",
      "flatten_1 (Flatten)          (None, 784)               0         \n",
      "_________________________________________________________________\n",
      "dense_3 (Dense)              (None, 32)                25120     \n",
      "_________________________________________________________________\n",
      "dropout_1 (Dropout)          (None, 32)                0         \n",
      "_________________________________________________________________\n",
      "dense_4 (Dense)              (None, 32)                1056      \n",
      "_________________________________________________________________\n",
      "dense_5 (Dense)              (None, 10)                330       \n",
      "=================================================================\n",
      "Total params: 26,506\n",
      "Trainable params: 26,506\n",
      "Non-trainable params: 0\n",
      "_________________________________________________________________\n"
     ]
    }
   ],
   "source": [
    "# 直接这样写也可以：无需多导入一次keras\n",
    "input = tf.keras.Input( shape = (28,28) )  \n",
    "\n",
    "# 函数式API搭建：\n",
    "x1 = tf.keras.layers.Flatten()(input)\n",
    "x2 = tf.keras.layers.Dense(32, activation = 'relu')(x1)  # x2调用x1层 \n",
    "x3 = tf.keras.layers.Dropout(0.5)(x2)\n",
    "x4 = tf.keras.layers.Dense(32, activation = 'relu')(x3)\n",
    "# 最后的输出层：\n",
    "output = tf.keras.layers.Dense(10, activation = 'softmax')(x4)\n",
    "\n",
    "# 把模型组起来：从input到output，中间的数据流必须是个“闭环”\n",
    "model = tf.keras.Model( inputs = input, outputs = output)\n",
    "\n",
    "model.summary()"
   ]
  },
  {
   "cell_type": "code",
   "execution_count": null,
   "metadata": {},
   "outputs": [],
   "source": []
  }
 ],
 "metadata": {
  "kernelspec": {
   "display_name": "Python 3",
   "language": "python",
   "name": "python3"
  },
  "language_info": {
   "codemirror_mode": {
    "name": "ipython",
    "version": 3
   },
   "file_extension": ".py",
   "mimetype": "text/x-python",
   "name": "python",
   "nbconvert_exporter": "python",
   "pygments_lexer": "ipython3",
   "version": "3.7.4"
  }
 },
 "nbformat": 4,
 "nbformat_minor": 2
}
