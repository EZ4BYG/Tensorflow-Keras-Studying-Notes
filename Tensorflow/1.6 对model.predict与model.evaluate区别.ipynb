{
 "cells": [
  {
   "cell_type": "markdown",
   "metadata": {},
   "source": [
    "# 说明："
   ]
  },
  {
   "cell_type": "markdown",
   "metadata": {},
   "source": [
    "深度学习模型分3大部分 - 3种数据类型：\n",
    "- 训练数据（数据 + 标签）：不断更新训练网络；\n",
    "- 测试数据（数据 + 标签）：不断测试当前模型，对“新数据”的泛化准确率；—— evaluate\n",
    "- 预测数据（数据）：利用最终模型，对未知标签的数据的预测。—— predict\n",
    "\n",
    "所以：根据数据不同的功能，可得两个函数的区别\n",
    "- model.evaluate(data, data_label)：利用测试数据，对当前模型预测能力的评估。—— 参数有数据，有数据对应标签；返回模型猜中的准确率！\n",
    "- model.predict(data)：利用预测数据，直接让模型预测数据对应的标签。 —— 参数只有数据，返回对该数据的预测结果（标签）。\n",
    "\n",
    "补充：\n",
    "- model.evaluate()是在网络完全训练好后，对测试数据进行一次准确度的评估；\n",
    "- model.fit(x, y, epoch, validation_data() )这里是再每个epoch之后，都对测试数据进行一次准确度的评估；"
   ]
  },
  {
   "cell_type": "code",
   "execution_count": null,
   "metadata": {},
   "outputs": [],
   "source": []
  }
 ],
 "metadata": {
  "kernelspec": {
   "display_name": "Python 3",
   "language": "python",
   "name": "python3"
  },
  "language_info": {
   "codemirror_mode": {
    "name": "ipython",
    "version": 3
   },
   "file_extension": ".py",
   "mimetype": "text/x-python",
   "name": "python",
   "nbconvert_exporter": "python",
   "pygments_lexer": "ipython3",
   "version": "3.7.4"
  }
 },
 "nbformat": 4,
 "nbformat_minor": 2
}
