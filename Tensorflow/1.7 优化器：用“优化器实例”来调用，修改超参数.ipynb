{
 "cells": [
  {
   "cell_type": "markdown",
   "metadata": {},
   "source": [
    "# 说明："
   ]
  },
  {
   "cell_type": "markdown",
   "metadata": {},
   "source": [
    "在深度学习中，从来不用担心陷入局部极小值！—— 因为“优化器 + 足够多样本 + 大量深层的训练”保证了可以搜索到最值（loss最小值）。\n",
    "\n",
    "最基本的**优化器就是SGD**：**随机梯度下降**。—— 其他的（如adam）改进优化器都是基于此。—— 因此都能保证不陷入局部最小。\n",
    "\n",
    "优化器：可以自动完成梯度下降 + 反向传播！\n",
    "\n",
    "常见的优化器：最关键的超参数就是lr = learn rate\n",
    "- SGD：最传统的优化器\n",
    "- RMSprop：序列/一维卷积/RNN问题常用；增加了一个衰减系数来控制历史信息的获取多少 —— 会对学习率进行衰减！（建议使用默认参数）\n",
    "- adam：对超参数选择很鲁棒！\n",
    "\n",
    "--- \n",
    "\n",
    "前面调用优化器，直接使用的是它的名字（字符），这种方式即使用优化器自带的默认参数。\n",
    "\n",
    "当然利用用优化器的“**实例化方法**”来调用，这样可以修改各种默认的参数。"
   ]
  },
  {
   "cell_type": "code",
   "execution_count": 1,
   "metadata": {},
   "outputs": [],
   "source": [
    "import tensorflow as tf\n",
    "import pandas as pd\n",
    "import numpy as np\n",
    "import matplotlib.pyplot as plt"
   ]
  },
  {
   "cell_type": "code",
   "execution_count": 2,
   "metadata": {},
   "outputs": [],
   "source": [
    "# 加载数据集:\n",
    "(train_image, train_label), (test_image, test_label) = tf.keras.datasets.fashion_mnist.load_data()\n",
    "\n",
    "# 归一化：\n",
    "train_image = train_image / 255\n",
    "test_image = test_image / 255\n",
    "\n",
    "# 把标签进独热编码：\n",
    "train_label_onehot = tf.keras.utils.to_categorical(train_label)\n",
    "test_label_onehot = tf.keras.utils.to_categorical(test_label)"
   ]
  },
  {
   "cell_type": "markdown",
   "metadata": {},
   "source": [
    "# 模型搭建："
   ]
  },
  {
   "cell_type": "code",
   "execution_count": 3,
   "metadata": {},
   "outputs": [],
   "source": [
    "model = tf.keras.Sequential()"
   ]
  },
  {
   "cell_type": "code",
   "execution_count": 4,
   "metadata": {},
   "outputs": [],
   "source": [
    "model.add( tf.keras.layers.Flatten( input_shape = (28,28) ) )\n",
    "model.add( tf.keras.layers.Dense(128, activation = 'relu') )\n",
    "model.add( tf.keras.layers.Dense(10, activation = 'softmax') )  "
   ]
  },
  {
   "cell_type": "code",
   "execution_count": 5,
   "metadata": {},
   "outputs": [],
   "source": [
    "# 用“实例化”调用优化器：注意参数名字不要写错！\n",
    "model.compile(\n",
    "    optimizer = tf.keras.optimizers.Adam( learning_rate = 0.1),  # 优化器实例：这里可以自定义一些参数！！！\n",
    "    loss = 'categorical_crossentropy',\n",
    "    metrics = ['acc'] \n",
    ")"
   ]
  },
  {
   "cell_type": "code",
   "execution_count": 6,
   "metadata": {},
   "outputs": [
    {
     "name": "stdout",
     "output_type": "stream",
     "text": [
      "Train on 60000 samples\n",
      "Epoch 1/5\n",
      "60000/60000 [==============================] - 3s 56us/sample - loss: 1.7750 - acc: 0.4026\n",
      "Epoch 2/5\n",
      "60000/60000 [==============================] - 3s 46us/sample - loss: 1.5569 - acc: 0.3985\n",
      "Epoch 3/5\n",
      "60000/60000 [==============================] - 3s 45us/sample - loss: 1.6379 - acc: 0.3856\n",
      "Epoch 4/5\n",
      "60000/60000 [==============================] - 3s 45us/sample - loss: 2.0911 - acc: 0.2100\n",
      "Epoch 5/5\n",
      "60000/60000 [==============================] - 3s 45us/sample - loss: 2.2993 - acc: 0.1062\n"
     ]
    },
    {
     "data": {
      "text/plain": [
       "<tensorflow.python.keras.callbacks.History at 0x2aea7e07808>"
      ]
     },
     "execution_count": 6,
     "metadata": {},
     "output_type": "execute_result"
    }
   ],
   "source": [
    "model.fit(train_image, train_label_onehot, epochs = 5)\n",
    "# 结果很不，因为收敛太快，来回大幅震荡"
   ]
  },
  {
   "cell_type": "code",
   "execution_count": null,
   "metadata": {},
   "outputs": [],
   "source": []
  }
 ],
 "metadata": {
  "kernelspec": {
   "display_name": "Python 3",
   "language": "python",
   "name": "python3"
  },
  "language_info": {
   "codemirror_mode": {
    "name": "ipython",
    "version": 3
   },
   "file_extension": ".py",
   "mimetype": "text/x-python",
   "name": "python",
   "nbconvert_exporter": "python",
   "pygments_lexer": "ipython3",
   "version": "3.7.4"
  }
 },
 "nbformat": 4,
 "nbformat_minor": 2
}
