{
 "cells": [
  {
   "cell_type": "markdown",
   "metadata": {},
   "source": [
    "# 简介"
   ]
  },
  {
   "cell_type": "markdown",
   "metadata": {},
   "source": [
    "Eager是tf2.0中非常重要的更新，已默认使用！\n",
    "\n",
    "tf.keras模块是tf2.0一个非常重要的高阶模块，可以轻易进行网络的搭建！但是，正因为封装的太好，留给用户自定义和可视化的空间非常狭小。所以，tf2.0新推出了Eager模式和**自定义训练**，这种高（tf.keras）低（Eager）搭配非常好用！\n",
    "\n",
    "Eager模式其实就是tf1.x版本中的“**图运算模式**”的升级版！—— Eager模式就是一个“**命令行式编程环境**”，即一个操控后可以立即看产生的结果，不再需要构建整个运算图。—— 下面用“猪-火腿”的生产过程来形象化理解二者的不同：\n",
    "- **图运算**：先搭建好杀猪设备、清洗设备、绞肉设备、制作香肠设备，已搭建好所有设备后，才能在输入猪的地方输入一头猪，在获得香肠的地方获得香肠，看不到中间产物；—— 必须全部搭建好，才能进行工作！不利于**检查中间错误和自定义**！\n",
    "- **Eager模式/交互模式**：直接输入一头猪，经过杀猪设备后看到被杀死的猪；经过清洗设备后看到干净的死猪；经过绞肉设备后看到肉馅；经过制火腿设备后看到火腿；一系列中间产物全可以看到；—— 经过一个步骤，看一个步骤结果！\n",
    "\n",
    "查看当前是否启用Eager模式的命令：tf2.0以后默认启用！"
   ]
  },
  {
   "cell_type": "code",
   "execution_count": 2,
   "metadata": {},
   "outputs": [],
   "source": [
    "import tensorflow as tf "
   ]
  },
  {
   "cell_type": "code",
   "execution_count": 3,
   "metadata": {},
   "outputs": [
    {
     "data": {
      "text/plain": [
       "True"
      ]
     },
     "execution_count": 3,
     "metadata": {},
     "output_type": "execute_result"
    }
   ],
   "source": [
    "tf.executing_eagerly()"
   ]
  },
  {
   "cell_type": "markdown",
   "metadata": {},
   "source": [
    "Eager模式好处：\n",
    "- 用直观的界面，灵活的查看、调试（有错误立即报）和研究，自然地一步一步构建代码；\n",
    "- Eager模式下使用的python控制流，即结果与返回值等立即交回给python，是python认识的数值类型！不是图控制流和图中节点、符号和句柄，非常容易动态操控；—— Eager模式下可以直接使用**宿主语言（python）**的所有功能！\n",
    "- Eager模式大多数Tensorflow操作和GPU加速；\n",
    "- Eager模式下可以和python的Numpy库无缝协作！xxx.tensor()和xxx.numpy()可以张量tensor和数组ndarray互转！"
   ]
  }
 ],
 "metadata": {
  "kernelspec": {
   "display_name": "Python 3",
   "language": "python",
   "name": "python3"
  },
  "language_info": {
   "codemirror_mode": {
    "name": "ipython",
    "version": 3
   },
   "file_extension": ".py",
   "mimetype": "text/x-python",
   "name": "python",
   "nbconvert_exporter": "python",
   "pygments_lexer": "ipython3",
   "version": "3.7.4"
  }
 },
 "nbformat": 4,
 "nbformat_minor": 2
}
