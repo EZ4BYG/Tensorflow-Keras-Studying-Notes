{
 "cells": [
  {
   "cell_type": "code",
   "execution_count": 1,
   "metadata": {},
   "outputs": [],
   "source": [
    "import tensorflow as tf"
   ]
  },
  {
   "cell_type": "markdown",
   "metadata": {},
   "source": [
    "# 说明："
   ]
  },
  {
   "cell_type": "markdown",
   "metadata": {},
   "source": [
    "tf.data模块，和tf.keras模块一样，都是TF2.0的核心模块之一！\n",
    "\n",
    "tf.data模块主要负责将极其方便的数据形式（list、dict、ndarray等）转为TF能使用的样本数据类型Dataset！并且TF2.0可以直接对转成的Dataset进行迭代！\n",
    "把输入数据的每一个元素，变成Dataset中的一个**组件**。—— 要求：每个组件，形状和属性必须是一致的！\n",
    "\n",
    "所用的函数：\n",
    "- tf.data.Dataset.from_tensor_slices()  —— 里面的参数可以numpy和list，直接被转为对应的tensor（tf.data.Dataset对象类型）\n",
    "- Dataset.zip()  —— 可以把多个tf.data.Dataset类型合并为一个！"
   ]
  },
  {
   "cell_type": "markdown",
   "metadata": {},
   "source": [
    "### 使用一维list："
   ]
  },
  {
   "cell_type": "code",
   "execution_count": 2,
   "metadata": {},
   "outputs": [],
   "source": [
    "# 使用list：\n",
    "dataset = tf.data.Dataset.from_tensor_slices( [1,2,3,4,5,6] )"
   ]
  },
  {
   "cell_type": "code",
   "execution_count": 3,
   "metadata": {},
   "outputs": [
    {
     "name": "stdout",
     "output_type": "stream",
     "text": [
      "tf.Tensor(1, shape=(), dtype=int32)\n",
      "tf.Tensor(2, shape=(), dtype=int32)\n",
      "tf.Tensor(3, shape=(), dtype=int32)\n",
      "tf.Tensor(4, shape=(), dtype=int32)\n",
      "tf.Tensor(5, shape=(), dtype=int32)\n",
      "tf.Tensor(6, shape=(), dtype=int32)\n"
     ]
    }
   ],
   "source": [
    "# 可直接迭代：每一个元素都已转为了Tenor类型，是TF的数据类型（很好理解）；每个元素就是一个数字，0维的，故shape就是()\n",
    "for ele in dataset:\n",
    "    print(ele)"
   ]
  },
  {
   "cell_type": "code",
   "execution_count": 7,
   "metadata": {},
   "outputs": [
    {
     "name": "stdout",
     "output_type": "stream",
     "text": [
      "1\n",
      "2\n",
      "3\n",
      "4\n",
      "5\n",
      "6\n"
     ]
    }
   ],
   "source": [
    "# 也可以转再把tensor转为它的numpy数据类型：tf2.0的新方法！\n",
    "for ele in dataset:\n",
    "    print( ele.numpy() )"
   ]
  },
  {
   "cell_type": "code",
   "execution_count": null,
   "metadata": {},
   "outputs": [],
   "source": []
  },
  {
   "cell_type": "markdown",
   "metadata": {},
   "source": [
    "### 使用二维list："
   ]
  },
  {
   "cell_type": "code",
   "execution_count": 5,
   "metadata": {},
   "outputs": [],
   "source": [
    "list2d = [ [1,2,3], [4,5,6], [7,8,9] ]  # 每个元素必须长度相等！\n",
    "dataset_list2d = tf.data.Dataset.from_tensor_slices(list2d)"
   ]
  },
  {
   "cell_type": "code",
   "execution_count": 6,
   "metadata": {},
   "outputs": [
    {
     "name": "stdout",
     "output_type": "stream",
     "text": [
      "tf.Tensor([1 2 3], shape=(3,), dtype=int32)\n",
      "tf.Tensor([4 5 6], shape=(3,), dtype=int32)\n",
      "tf.Tensor([7 8 9], shape=(3,), dtype=int32)\n"
     ]
    }
   ],
   "source": [
    "# shape是(3,)，意思就是：一维的，长度是3\n",
    "for ele in dataset_list2d:\n",
    "    print(ele)"
   ]
  },
  {
   "cell_type": "code",
   "execution_count": null,
   "metadata": {},
   "outputs": [],
   "source": []
  },
  {
   "cell_type": "markdown",
   "metadata": {},
   "source": [
    "### 使用字典："
   ]
  },
  {
   "cell_type": "code",
   "execution_count": 7,
   "metadata": {},
   "outputs": [],
   "source": [
    "dic = { 'a':[1,2,3,4], 'b':[6,7,8,9], 'c':[12,13,14,15] }\n",
    "dataset_dic = tf.data.Dataset.from_tensor_slices(dic)"
   ]
  },
  {
   "cell_type": "code",
   "execution_count": 8,
   "metadata": {},
   "outputs": [
    {
     "name": "stdout",
     "output_type": "stream",
     "text": [
      "{'a': <tf.Tensor: id=33, shape=(), dtype=int32, numpy=1>, 'b': <tf.Tensor: id=34, shape=(), dtype=int32, numpy=6>, 'c': <tf.Tensor: id=35, shape=(), dtype=int32, numpy=12>}\n",
      "{'a': <tf.Tensor: id=36, shape=(), dtype=int32, numpy=2>, 'b': <tf.Tensor: id=37, shape=(), dtype=int32, numpy=7>, 'c': <tf.Tensor: id=38, shape=(), dtype=int32, numpy=13>}\n",
      "{'a': <tf.Tensor: id=39, shape=(), dtype=int32, numpy=3>, 'b': <tf.Tensor: id=40, shape=(), dtype=int32, numpy=8>, 'c': <tf.Tensor: id=41, shape=(), dtype=int32, numpy=14>}\n",
      "{'a': <tf.Tensor: id=42, shape=(), dtype=int32, numpy=4>, 'b': <tf.Tensor: id=43, shape=(), dtype=int32, numpy=9>, 'c': <tf.Tensor: id=44, shape=(), dtype=int32, numpy=15>}\n"
     ]
    }
   ],
   "source": [
    "# 把字典按“键”拆开了：一个4个组件！每个组件是从“所有键”中提取对应位置的元素！\n",
    "for ele in dataset_dic:\n",
    "    print(ele)"
   ]
  },
  {
   "cell_type": "code",
   "execution_count": 16,
   "metadata": {},
   "outputs": [
    {
     "data": {
      "text/plain": [
       "<TensorSliceDataset shapes: {a: (), b: (), c: ()}, types: {a: tf.int32, b: tf.int32, c: tf.int32}>"
      ]
     },
     "execution_count": 16,
     "metadata": {},
     "output_type": "execute_result"
    }
   ],
   "source": [
    "dataset_dic"
   ]
  },
  {
   "cell_type": "code",
   "execution_count": null,
   "metadata": {},
   "outputs": [],
   "source": []
  },
  {
   "cell_type": "markdown",
   "metadata": {},
   "source": [
    "### 使用一维ndarray：和一维list一样"
   ]
  },
  {
   "cell_type": "code",
   "execution_count": 13,
   "metadata": {},
   "outputs": [],
   "source": [
    "import numpy as np"
   ]
  },
  {
   "cell_type": "code",
   "execution_count": 14,
   "metadata": {},
   "outputs": [],
   "source": [
    "data_1darray = np.array( [1,2,3,4,5,6] )\n",
    "dataset_1dnarray = tf.data.Dataset.from_tensor_slices(data_1darray)"
   ]
  },
  {
   "cell_type": "code",
   "execution_count": 15,
   "metadata": {},
   "outputs": [
    {
     "name": "stdout",
     "output_type": "stream",
     "text": [
      "tf.Tensor(1, shape=(), dtype=int32)\n",
      "tf.Tensor(2, shape=(), dtype=int32)\n",
      "tf.Tensor(3, shape=(), dtype=int32)\n",
      "tf.Tensor(4, shape=(), dtype=int32)\n",
      "tf.Tensor(5, shape=(), dtype=int32)\n",
      "tf.Tensor(6, shape=(), dtype=int32)\n"
     ]
    }
   ],
   "source": [
    "for ele in dataset_1dnarray:\n",
    "    print(ele)"
   ]
  },
  {
   "cell_type": "code",
   "execution_count": 17,
   "metadata": {},
   "outputs": [
    {
     "name": "stdout",
     "output_type": "stream",
     "text": [
      "1\n",
      "2\n",
      "3\n",
      "4\n",
      "5\n",
      "6\n"
     ]
    }
   ],
   "source": [
    "for ele in dataset_1dnarray:\n",
    "    print( ele.numpy() )"
   ]
  },
  {
   "cell_type": "markdown",
   "metadata": {},
   "source": [
    "**补充：取出其中的前几个：dataset.take()**"
   ]
  },
  {
   "cell_type": "code",
   "execution_count": 18,
   "metadata": {},
   "outputs": [
    {
     "name": "stdout",
     "output_type": "stream",
     "text": [
      "tf.Tensor(1, shape=(), dtype=int32)\n",
      "tf.Tensor(2, shape=(), dtype=int32)\n",
      "tf.Tensor(3, shape=(), dtype=int32)\n"
     ]
    }
   ],
   "source": [
    "for ele in dataset_1dnarray.take(3):  # 取前3个\n",
    "    print(ele)"
   ]
  },
  {
   "cell_type": "code",
   "execution_count": null,
   "metadata": {},
   "outputs": [],
   "source": []
  },
  {
   "cell_type": "markdown",
   "metadata": {},
   "source": [
    "### 使用二维数组：和二维list一样"
   ]
  },
  {
   "cell_type": "code",
   "execution_count": 16,
   "metadata": {},
   "outputs": [],
   "source": [
    "data_2darray = np.array( [ [1,2,3], [4,5,6],[7,8,9] ] ) # 二维数组\n",
    "dataset_2darray = tf.data.Dataset.from_tensor_slices( data_2darray )"
   ]
  },
  {
   "cell_type": "code",
   "execution_count": 18,
   "metadata": {},
   "outputs": [
    {
     "name": "stdout",
     "output_type": "stream",
     "text": [
      "tf.Tensor([1 2 3], shape=(3,), dtype=int32)\n",
      "tf.Tensor([4 5 6], shape=(3,), dtype=int32)\n",
      "tf.Tensor([7 8 9], shape=(3,), dtype=int32)\n"
     ]
    }
   ],
   "source": [
    "for ele in dataset_2darray:\n",
    "    print(ele)"
   ]
  },
  {
   "cell_type": "code",
   "execution_count": null,
   "metadata": {},
   "outputs": [],
   "source": []
  },
  {
   "cell_type": "markdown",
   "metadata": {},
   "source": [
    "### 使用三维数组：每个张量组件是2维的（好理解）！"
   ]
  },
  {
   "cell_type": "code",
   "execution_count": 19,
   "metadata": {},
   "outputs": [],
   "source": [
    "data_3darray = np.zeros( (4,3,3) ) + 2.1\n",
    "dataset_3darray = tf.data.Dataset.from_tensor_slices( data_3darray )"
   ]
  },
  {
   "cell_type": "code",
   "execution_count": 20,
   "metadata": {},
   "outputs": [
    {
     "name": "stdout",
     "output_type": "stream",
     "text": [
      "tf.Tensor(\n",
      "[[2.1 2.1 2.1]\n",
      " [2.1 2.1 2.1]\n",
      " [2.1 2.1 2.1]], shape=(3, 3), dtype=float64)\n",
      "tf.Tensor(\n",
      "[[2.1 2.1 2.1]\n",
      " [2.1 2.1 2.1]\n",
      " [2.1 2.1 2.1]], shape=(3, 3), dtype=float64)\n",
      "tf.Tensor(\n",
      "[[2.1 2.1 2.1]\n",
      " [2.1 2.1 2.1]\n",
      " [2.1 2.1 2.1]], shape=(3, 3), dtype=float64)\n",
      "tf.Tensor(\n",
      "[[2.1 2.1 2.1]\n",
      " [2.1 2.1 2.1]\n",
      " [2.1 2.1 2.1]], shape=(3, 3), dtype=float64)\n"
     ]
    }
   ],
   "source": [
    "for ele in dataset_3darray:\n",
    "    print(ele)"
   ]
  },
  {
   "cell_type": "code",
   "execution_count": null,
   "metadata": {},
   "outputs": [],
   "source": []
  },
  {
   "cell_type": "markdown",
   "metadata": {},
   "source": [
    "### 使用四维数组：每个张量组件是3维的（好理解）！"
   ]
  },
  {
   "cell_type": "code",
   "execution_count": 22,
   "metadata": {},
   "outputs": [],
   "source": [
    "data_4darray = np.zeros( (4,3,4,4) ) + 2.1\n",
    "dataset_4darray = tf.data.Dataset.from_tensor_slices( data_4darray )"
   ]
  },
  {
   "cell_type": "code",
   "execution_count": 23,
   "metadata": {},
   "outputs": [
    {
     "name": "stdout",
     "output_type": "stream",
     "text": [
      "tf.Tensor(\n",
      "[[[2.1 2.1 2.1 2.1]\n",
      "  [2.1 2.1 2.1 2.1]\n",
      "  [2.1 2.1 2.1 2.1]\n",
      "  [2.1 2.1 2.1 2.1]]\n",
      "\n",
      " [[2.1 2.1 2.1 2.1]\n",
      "  [2.1 2.1 2.1 2.1]\n",
      "  [2.1 2.1 2.1 2.1]\n",
      "  [2.1 2.1 2.1 2.1]]\n",
      "\n",
      " [[2.1 2.1 2.1 2.1]\n",
      "  [2.1 2.1 2.1 2.1]\n",
      "  [2.1 2.1 2.1 2.1]\n",
      "  [2.1 2.1 2.1 2.1]]], shape=(3, 4, 4), dtype=float64)\n",
      "tf.Tensor(\n",
      "[[[2.1 2.1 2.1 2.1]\n",
      "  [2.1 2.1 2.1 2.1]\n",
      "  [2.1 2.1 2.1 2.1]\n",
      "  [2.1 2.1 2.1 2.1]]\n",
      "\n",
      " [[2.1 2.1 2.1 2.1]\n",
      "  [2.1 2.1 2.1 2.1]\n",
      "  [2.1 2.1 2.1 2.1]\n",
      "  [2.1 2.1 2.1 2.1]]\n",
      "\n",
      " [[2.1 2.1 2.1 2.1]\n",
      "  [2.1 2.1 2.1 2.1]\n",
      "  [2.1 2.1 2.1 2.1]\n",
      "  [2.1 2.1 2.1 2.1]]], shape=(3, 4, 4), dtype=float64)\n",
      "tf.Tensor(\n",
      "[[[2.1 2.1 2.1 2.1]\n",
      "  [2.1 2.1 2.1 2.1]\n",
      "  [2.1 2.1 2.1 2.1]\n",
      "  [2.1 2.1 2.1 2.1]]\n",
      "\n",
      " [[2.1 2.1 2.1 2.1]\n",
      "  [2.1 2.1 2.1 2.1]\n",
      "  [2.1 2.1 2.1 2.1]\n",
      "  [2.1 2.1 2.1 2.1]]\n",
      "\n",
      " [[2.1 2.1 2.1 2.1]\n",
      "  [2.1 2.1 2.1 2.1]\n",
      "  [2.1 2.1 2.1 2.1]\n",
      "  [2.1 2.1 2.1 2.1]]], shape=(3, 4, 4), dtype=float64)\n",
      "tf.Tensor(\n",
      "[[[2.1 2.1 2.1 2.1]\n",
      "  [2.1 2.1 2.1 2.1]\n",
      "  [2.1 2.1 2.1 2.1]\n",
      "  [2.1 2.1 2.1 2.1]]\n",
      "\n",
      " [[2.1 2.1 2.1 2.1]\n",
      "  [2.1 2.1 2.1 2.1]\n",
      "  [2.1 2.1 2.1 2.1]\n",
      "  [2.1 2.1 2.1 2.1]]\n",
      "\n",
      " [[2.1 2.1 2.1 2.1]\n",
      "  [2.1 2.1 2.1 2.1]\n",
      "  [2.1 2.1 2.1 2.1]\n",
      "  [2.1 2.1 2.1 2.1]]], shape=(3, 4, 4), dtype=float64)\n"
     ]
    }
   ],
   "source": [
    "for ele in dataset_4darray:\n",
    "    print(ele)"
   ]
  },
  {
   "cell_type": "code",
   "execution_count": null,
   "metadata": {},
   "outputs": [],
   "source": []
  },
  {
   "cell_type": "markdown",
   "metadata": {},
   "source": [
    "### 使用字典："
   ]
  },
  {
   "cell_type": "code",
   "execution_count": 24,
   "metadata": {},
   "outputs": [],
   "source": [
    "data_dict = { 'a':[1,2,3,4], 'b':[5,6,7,8], 'c':[9,10,11,12]  }\n",
    "dataset_dict = tf.data.Dataset.from_tensor_slices( data_dict )"
   ]
  },
  {
   "cell_type": "code",
   "execution_count": 30,
   "metadata": {},
   "outputs": [
    {
     "name": "stdout",
     "output_type": "stream",
     "text": [
      "{'a': <tf.Tensor: id=136, shape=(), dtype=int32, numpy=1>, 'b': <tf.Tensor: id=137, shape=(), dtype=int32, numpy=5>, 'c': <tf.Tensor: id=138, shape=(), dtype=int32, numpy=9>} \n",
      "\n",
      "{'a': <tf.Tensor: id=139, shape=(), dtype=int32, numpy=2>, 'b': <tf.Tensor: id=140, shape=(), dtype=int32, numpy=6>, 'c': <tf.Tensor: id=141, shape=(), dtype=int32, numpy=10>} \n",
      "\n",
      "{'a': <tf.Tensor: id=142, shape=(), dtype=int32, numpy=3>, 'b': <tf.Tensor: id=143, shape=(), dtype=int32, numpy=7>, 'c': <tf.Tensor: id=144, shape=(), dtype=int32, numpy=11>} \n",
      "\n",
      "{'a': <tf.Tensor: id=145, shape=(), dtype=int32, numpy=4>, 'b': <tf.Tensor: id=146, shape=(), dtype=int32, numpy=8>, 'c': <tf.Tensor: id=147, shape=(), dtype=int32, numpy=12>} \n",
      "\n"
     ]
    }
   ],
   "source": [
    "# 实际就是“把字典按键”切开了：每个键中相同位置的值，组成一个新键值对。\n",
    "for ele in dataset_dict:\n",
    "    print(ele, '\\n')"
   ]
  },
  {
   "cell_type": "code",
   "execution_count": 32,
   "metadata": {},
   "outputs": [
    {
     "data": {
      "text/plain": [
       "(dict, dict_keys(['a', 'b', 'c']), 3)"
      ]
     },
     "execution_count": 32,
     "metadata": {},
     "output_type": "execute_result"
    }
   ],
   "source": [
    "type(ele), ele.keys(), len(ele)"
   ]
  },
  {
   "cell_type": "code",
   "execution_count": null,
   "metadata": {},
   "outputs": [],
   "source": []
  }
 ],
 "metadata": {
  "kernelspec": {
   "display_name": "Python 3",
   "language": "python",
   "name": "python3"
  },
  "language_info": {
   "codemirror_mode": {
    "name": "ipython",
    "version": 3
   },
   "file_extension": ".py",
   "mimetype": "text/x-python",
   "name": "python",
   "nbconvert_exporter": "python",
   "pygments_lexer": "ipython3",
   "version": "3.7.4"
  }
 },
 "nbformat": 4,
 "nbformat_minor": 2
}
