{
 "cells": [
  {
   "cell_type": "code",
   "execution_count": 12,
   "metadata": {},
   "outputs": [],
   "source": [
    "import tensorflow as tf\n",
    "import numpy as np"
   ]
  },
  {
   "cell_type": "code",
   "execution_count": 13,
   "metadata": {},
   "outputs": [
    {
     "data": {
      "text/plain": [
       "numpy.ndarray"
      ]
     },
     "execution_count": 13,
     "metadata": {},
     "output_type": "execute_result"
    }
   ],
   "source": [
    "# 加载数据集:\n",
    "(train_image, train_label), (test_image, test_label) = tf.keras.datasets.fashion_mnist.load_data()\n",
    "type(train_image)"
   ]
  },
  {
   "cell_type": "code",
   "execution_count": 14,
   "metadata": {},
   "outputs": [
    {
     "data": {
      "text/plain": [
       "(60000, 28, 28)"
      ]
     },
     "execution_count": 14,
     "metadata": {},
     "output_type": "execute_result"
    }
   ],
   "source": [
    "train_image.shape"
   ]
  },
  {
   "cell_type": "markdown",
   "metadata": {},
   "source": [
    "此时原始数据都是3为数组，但是**CNN的输入只认图片数据**！图片的格式都是**4维数组**！（总张图, 高, 宽, 通道数） —— 因此需要人为在最后补一维！下面3种方式可完全替换，效果一样：\n",
    "- numpy方法1：np.expand_dims(train_image, -1)\n",
    "- numpy方法2：train_image.reshape(60000, 28, 28, 1)\n",
    "- tf方法：tf.expand_dims(train_image, -1) —— 返回结果直接是Tensor！前两个都还是ndarray"
   ]
  },
  {
   "cell_type": "code",
   "execution_count": 15,
   "metadata": {},
   "outputs": [
    {
     "data": {
      "text/plain": [
       "(60000, 28, 28, 1)"
      ]
     },
     "execution_count": 15,
     "metadata": {},
     "output_type": "execute_result"
    }
   ],
   "source": [
    "#  最后一维加个通道：\n",
    "train_image = np.expand_dims(train_image, -1)\n",
    "test_image = np.expand_dims(test_image, -1)\n",
    "train_image.shape"
   ]
  },
  {
   "cell_type": "code",
   "execution_count": null,
   "metadata": {},
   "outputs": [],
   "source": []
  },
  {
   "cell_type": "markdown",
   "metadata": {},
   "source": [
    "# 模型搭建"
   ]
  },
  {
   "cell_type": "code",
   "execution_count": 17,
   "metadata": {},
   "outputs": [],
   "source": [
    "model = tf.keras.Sequential()"
   ]
  },
  {
   "cell_type": "markdown",
   "metadata": {},
   "source": [
    "注意：\n",
    "- 卷积层也是需要激活的，直接在层里完成即可；\n",
    "- 第一隐藏层都是要写明input_shape的（单位元素的尺寸）！—— ANN、CNN等必须得有\n",
    "- 卷积核的数量，一般都是$2^{n}$，且往后递增！"
   ]
  },
  {
   "cell_type": "code",
   "execution_count": 18,
   "metadata": {},
   "outputs": [
    {
     "data": {
      "text/plain": [
       "(None, 26, 26, 32)"
      ]
     },
     "execution_count": 18,
     "metadata": {},
     "output_type": "execute_result"
    }
   ],
   "source": [
    "# 卷积层1：\n",
    "model.add( tf.keras.layers.Conv2D(32, (3,3), input_shape=(28,28,1), activation = 'relu') )  # 默认不padding！\n",
    "model.output_shape"
   ]
  },
  {
   "cell_type": "code",
   "execution_count": 19,
   "metadata": {},
   "outputs": [
    {
     "data": {
      "text/plain": [
       "(None, 13, 13, 32)"
      ]
     },
     "execution_count": 19,
     "metadata": {},
     "output_type": "execute_result"
    }
   ],
   "source": [
    "# 池化层1：图片变小，相当于同样大小的卷积核的“感受野”在变大 —— 没有要训练的参数！\n",
    "model.add( tf.keras.layers.MaxPooling2D() )\n",
    "model.output_shape"
   ]
  },
  {
   "cell_type": "code",
   "execution_count": 20,
   "metadata": {},
   "outputs": [
    {
     "data": {
      "text/plain": [
       "(None, 13, 13, 64)"
      ]
     },
     "execution_count": 20,
     "metadata": {},
     "output_type": "execute_result"
    }
   ],
   "source": [
    "# 卷积层2：填充，图片大小不变！\n",
    "model.add( tf.keras.layers.Conv2D(64, (3,3), activation = 'relu', padding = 'same' ) )\n",
    "model.output_shape"
   ]
  },
  {
   "cell_type": "code",
   "execution_count": 21,
   "metadata": {},
   "outputs": [
    {
     "data": {
      "text/plain": [
       "(None, 64)"
      ]
     },
     "execution_count": 21,
     "metadata": {},
     "output_type": "execute_result"
    }
   ],
   "source": [
    "# 全局展平层：每个通道求一个平均（每张特征图求出一个平均值，即每个特征有一个均值数代替！） —— 64个\n",
    "model.add( tf.keras.layers.GlobalAveragePooling2D() )\n",
    "model.output_shape"
   ]
  },
  {
   "cell_type": "code",
   "execution_count": 22,
   "metadata": {},
   "outputs": [
    {
     "data": {
      "text/plain": [
       "(None, 10)"
      ]
     },
     "execution_count": 22,
     "metadata": {},
     "output_type": "execute_result"
    }
   ],
   "source": [
    "# 全连接层：10分类\n",
    "model.add( tf.keras.layers.Dense(10, activation = 'softmax') )\n",
    "model.output_shape"
   ]
  },
  {
   "cell_type": "code",
   "execution_count": 23,
   "metadata": {},
   "outputs": [
    {
     "name": "stdout",
     "output_type": "stream",
     "text": [
      "Model: \"sequential\"\n",
      "_________________________________________________________________\n",
      "Layer (type)                 Output Shape              Param #   \n",
      "=================================================================\n",
      "conv2d (Conv2D)              (None, 26, 26, 32)        320       \n",
      "_________________________________________________________________\n",
      "max_pooling2d (MaxPooling2D) (None, 13, 13, 32)        0         \n",
      "_________________________________________________________________\n",
      "conv2d_1 (Conv2D)            (None, 13, 13, 64)        18496     \n",
      "_________________________________________________________________\n",
      "global_average_pooling2d (Gl (None, 64)                0         \n",
      "_________________________________________________________________\n",
      "dense (Dense)                (None, 10)                650       \n",
      "=================================================================\n",
      "Total params: 19,466\n",
      "Trainable params: 19,466\n",
      "Non-trainable params: 0\n",
      "_________________________________________________________________\n"
     ]
    }
   ],
   "source": [
    "model.summary()"
   ]
  },
  {
   "cell_type": "markdown",
   "metadata": {},
   "source": [
    "待训练参数多少的计算：\n",
    "- 卷积层1：(3*3 + 1)*32 = 320\n",
    "- 池化层1（最大值池化）：没有需要训练的参数\n",
    "- 卷积层2：比较复杂的组合搭配，远大于(3*3 + 1)*64=640！\n",
    "- 池化层2（全局均值池化）：没有需要训练的参数\n",
    "- 全连接层：(64 + 1)*10 = 650"
   ]
  },
  {
   "cell_type": "code",
   "execution_count": null,
   "metadata": {},
   "outputs": [],
   "source": []
  },
  {
   "cell_type": "markdown",
   "metadata": {},
   "source": [
    "# 训练与优化"
   ]
  },
  {
   "cell_type": "code",
   "execution_count": 25,
   "metadata": {},
   "outputs": [],
   "source": [
    "# 编译：\n",
    "model.compile(\n",
    "    optimizer = 'adam',\n",
    "    loss = 'sparse_categorical_crossentropy',  # 顺序编码\n",
    "    metrics = ['acc']\n",
    ")"
   ]
  },
  {
   "cell_type": "code",
   "execution_count": 26,
   "metadata": {},
   "outputs": [
    {
     "name": "stdout",
     "output_type": "stream",
     "text": [
      "Train on 60000 samples, validate on 10000 samples\n",
      "Epoch 1/5\n",
      "60000/60000 [==============================] - 34s 572us/sample - loss: 0.7959 - acc: 0.7372 - val_loss: 0.5822 - val_acc: 0.7999\n",
      "Epoch 2/5\n",
      "60000/60000 [==============================] - 33s 546us/sample - loss: 0.4965 - acc: 0.8268 - val_loss: 0.4971 - val_acc: 0.8280\n",
      "Epoch 3/5\n",
      "60000/60000 [==============================] - 32s 535us/sample - loss: 0.4342 - acc: 0.8468 - val_loss: 0.4508 - val_acc: 0.8393\n",
      "Epoch 4/5\n",
      "60000/60000 [==============================] - 32s 529us/sample - loss: 0.3974 - acc: 0.8597 - val_loss: 0.4094 - val_acc: 0.8608\n",
      "Epoch 5/5\n",
      "60000/60000 [==============================] - 32s 530us/sample - loss: 0.3693 - acc: 0.8688 - val_loss: 0.3861 - val_acc: 0.8642\n"
     ]
    }
   ],
   "source": [
    "history = model.fit( train_image, train_label, epochs = 5, validation_data = (test_image, test_label) )"
   ]
  },
  {
   "cell_type": "code",
   "execution_count": 27,
   "metadata": {},
   "outputs": [],
   "source": [
    "# 绘图：\n",
    "import matplotlib.pyplot as plt"
   ]
  },
  {
   "cell_type": "code",
   "execution_count": 30,
   "metadata": {},
   "outputs": [
    {
     "data": {
      "text/plain": [
       "dict_keys(['loss', 'acc', 'val_loss', 'val_acc'])"
      ]
     },
     "execution_count": 30,
     "metadata": {},
     "output_type": "execute_result"
    }
   ],
   "source": [
    "history.history.keys()"
   ]
  },
  {
   "cell_type": "code",
   "execution_count": 31,
   "metadata": {},
   "outputs": [
    {
     "data": {
      "text/plain": [
       "[<matplotlib.lines.Line2D at 0x14bd33e1d48>]"
      ]
     },
     "execution_count": 31,
     "metadata": {},
     "output_type": "execute_result"
    },
    {
     "data": {
      "image/png": "[encoded data removed]",
      "text/plain": [
       "<Figure size 432x288 with 1 Axes>"
      ]
     },
     "metadata": {
      "needs_background": "light"
     },
     "output_type": "display_data"
    }
   ],
   "source": [
    "# loss变化对比：\n",
    "plt.plot(history.epoch, history.history.get('loss'), c = 'r', label = 'loss')\n",
    "plt.plot(history.epoch, history.history.get('val_loss'), c = 'b', label = 'val_loss')"
   ]
  },
  {
   "cell_type": "code",
   "execution_count": 32,
   "metadata": {},
   "outputs": [
    {
     "data": {
      "text/plain": [
       "[<matplotlib.lines.Line2D at 0x14bd38f7e08>]"
      ]
     },
     "execution_count": 32,
     "metadata": {},
     "output_type": "execute_result"
    },
    {
     "data": {
      "image/png": "[encoded data removed]",
      "text/plain": [
       "<Figure size 432x288 with 1 Axes>"
      ]
     },
     "metadata": {
      "needs_background": "light"
     },
     "output_type": "display_data"
    }
   ],
   "source": [
    "# acc变化对比：\n",
    "plt.plot(history.epoch, history.history.get('acc'), c = 'r', label = 'acc')\n",
    "plt.plot(history.epoch, history.history.get('val_acc'), c = 'b', label = 'val_acc')"
   ]
  },
  {
   "cell_type": "markdown",
   "metadata": {},
   "source": [
    "改进网络策略：和之前讲的一样\n",
    "- 增加卷积层数、每个卷积层的卷积核数也增加（最主要提取特征的方式！）；\n",
    "- 在“**卷积池化**”的组合中，可以每次多**几个连续的卷积层（提高拟合能力！）**，最后加一个池化层！\n",
    "- 适量增多池化层，增大下一卷积层中卷积核的感受野！\n",
    "- 配着加一些dropout层，一般加在池化层后：model.add(tf.keras.layers.Dropout(0.5))\n",
    "- 全连接层也多加一些\n",
    "\n",
    "总之：优化的策略只要大体方向正确即可，没有具体的要求。"
   ]
  },
  {
   "cell_type": "code",
   "execution_count": null,
   "metadata": {},
   "outputs": [],
   "source": []
  }
 ],
 "metadata": {
  "kernelspec": {
   "display_name": "Python 3",
   "language": "python",
   "name": "python3"
  },
  "language_info": {
   "codemirror_mode": {
    "name": "ipython",
    "version": 3
   },
   "file_extension": ".py",
   "mimetype": "text/x-python",
   "name": "python",
   "nbconvert_exporter": "python",
   "pygments_lexer": "ipython3",
   "version": "3.7.4"
  }
 },
 "nbformat": 4,
 "nbformat_minor": 2
}
