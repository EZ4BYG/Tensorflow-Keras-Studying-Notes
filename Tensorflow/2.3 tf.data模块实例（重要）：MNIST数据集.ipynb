{
 "cells": [
  {
   "cell_type": "markdown",
   "metadata": {},
   "source": [
    "# 说明："
   ]
  },
  {
   "cell_type": "markdown",
   "metadata": {},
   "source": [
    "使用的数据是MNIST手写数字数据集；用tf.data来自己创建TF能识别的Tensor数据。"
   ]
  },
  {
   "cell_type": "code",
   "execution_count": 2,
   "metadata": {},
   "outputs": [],
   "source": [
    "import tensorflow as tf"
   ]
  },
  {
   "cell_type": "code",
   "execution_count": 3,
   "metadata": {},
   "outputs": [],
   "source": [
    "# 加载数据集:\n",
    "(train_image, train_label), (test_image, test_label) = tf.keras.datasets.mnist.load_data()"
   ]
  },
  {
   "cell_type": "code",
   "execution_count": 4,
   "metadata": {},
   "outputs": [
    {
     "data": {
      "text/plain": [
       "numpy.ndarray"
      ]
     },
     "execution_count": 4,
     "metadata": {},
     "output_type": "execute_result"
    }
   ],
   "source": [
    "# 原始的数据都是ndarray，虽然可以直接用！但预先转为tensor数据类型会更好更快（因为张量快）：以后也要这么写！！\n",
    "type(train_image)"
   ]
  },
  {
   "cell_type": "code",
   "execution_count": null,
   "metadata": {},
   "outputs": [],
   "source": []
  },
  {
   "cell_type": "markdown",
   "metadata": {},
   "source": [
    "# 数据转换："
   ]
  },
  {
   "cell_type": "code",
   "execution_count": 5,
   "metadata": {},
   "outputs": [],
   "source": [
    "# 训练集转化：数据 + 标签\n",
    "ds_train_image = tf.data.Dataset.from_tensor_slices( train_image )\n",
    "ds_train_label = tf.data.Dataset.from_tensor_slices( train_label )"
   ]
  },
  {
   "cell_type": "code",
   "execution_count": 6,
   "metadata": {},
   "outputs": [],
   "source": [
    "# 把数据和标签“一一对应”联系在一起（对应组件合并为一个组件）：之后的变换，要变一起变！\n",
    "ds_train = tf.data.Dataset.zip( (ds_train_image, ds_train_label) )  # 注：要求元组的形式（同numpy用法）！"
   ]
  },
  {
   "cell_type": "code",
   "execution_count": 7,
   "metadata": {},
   "outputs": [
    {
     "data": {
      "text/plain": [
       "<ZipDataset shapes: ((28, 28), ()), types: (tf.uint8, tf.uint8)>"
      ]
     },
     "execution_count": 7,
     "metadata": {},
     "output_type": "execute_result"
    }
   ],
   "source": [
    "ds_train  # 后者是()，因为label就是一个数！"
   ]
  },
  {
   "cell_type": "code",
   "execution_count": 10,
   "metadata": {},
   "outputs": [],
   "source": [
    "# 随机打散：对合并后组件的处理\n",
    "# 打散：60000个元素中取10000个进行打乱，无限重复打乱过程 \n",
    "# 分批次：每个批次64个\n",
    "ds_train = ds_train.shuffle(10000).repeat().batch(64) # 每一次输入64张，一个epoch下又会输入60000/64 = 938次！"
   ]
  },
  {
   "cell_type": "code",
   "execution_count": 11,
   "metadata": {},
   "outputs": [
    {
     "data": {
      "text/plain": [
       "(60000, 28, 28)"
      ]
     },
     "execution_count": 11,
     "metadata": {},
     "output_type": "execute_result"
    }
   ],
   "source": [
    "train_image.shape"
   ]
  },
  {
   "cell_type": "code",
   "execution_count": null,
   "metadata": {},
   "outputs": [],
   "source": []
  },
  {
   "cell_type": "markdown",
   "metadata": {},
   "source": [
    "# 模型训练："
   ]
  },
  {
   "cell_type": "code",
   "execution_count": 12,
   "metadata": {},
   "outputs": [],
   "source": [
    "model = tf.keras.Sequential()"
   ]
  },
  {
   "cell_type": "code",
   "execution_count": 13,
   "metadata": {},
   "outputs": [],
   "source": [
    "model.add( tf.keras.layers.Flatten(input_shape = (28,28)) )\n",
    "model.add( tf.keras.layers.Dense(128, activation = 'relu') )\n",
    "model.add( tf.keras.layers.Dense(10, activation = 'softmax') )"
   ]
  },
  {
   "cell_type": "code",
   "execution_count": 14,
   "metadata": {},
   "outputs": [],
   "source": [
    "model.compile(\n",
    "    optimizer = 'adam',\n",
    "    loss = 'sparse_categorical_crossentropy',\n",
    "    metrics = ['acc']\n",
    ")"
   ]
  },
  {
   "cell_type": "code",
   "execution_count": 17,
   "metadata": {},
   "outputs": [],
   "source": [
    "# 因为有了repeat()，导致可迭代对象(每个epoch)是无限循环的，需要人为设置每个epoch中到底有多少个batch！\n",
    "steps_per_epoch = train_image.shape[0] // 64  # 必须是整数"
   ]
  },
  {
   "cell_type": "code",
   "execution_count": 18,
   "metadata": {},
   "outputs": [
    {
     "name": "stdout",
     "output_type": "stream",
     "text": [
      "Train for 937 steps\n",
      "Epoch 1/5\n",
      "937/937 [==============================] - 6s 6ms/step - loss: 3.1579 - acc: 0.8511\n",
      "Epoch 2/5\n",
      "937/937 [==============================] - 4s 4ms/step - loss: 0.4434 - acc: 0.9043\n",
      "Epoch 3/5\n",
      "937/937 [==============================] - 4s 4ms/step - loss: 0.2916 - acc: 0.9287\n",
      "Epoch 4/5\n",
      "937/937 [==============================] - 4s 4ms/step - loss: 0.2421 - acc: 0.9402\n",
      "Epoch 5/5\n",
      "937/937 [==============================] - 4s 4ms/step - loss: 0.2055 - acc: 0.9482\n"
     ]
    },
    {
     "data": {
      "text/plain": [
       "<tensorflow.python.keras.callbacks.History at 0x174c8152948>"
      ]
     },
     "execution_count": 18,
     "metadata": {},
     "output_type": "execute_result"
    }
   ],
   "source": [
    "# 直接对ds_train进行训练：既包含数据，又包含对应的标签\n",
    "# 原来是每个epoch一次性放入60000张图；现在是每个epoch中又分937次放入，每次放入64张！—— 实质没变\n",
    "model.fit( ds_train, epochs = 5, steps_per_epoch = steps_per_epoch )"
   ]
  },
  {
   "cell_type": "code",
   "execution_count": null,
   "metadata": {},
   "outputs": [],
   "source": []
  },
  {
   "cell_type": "markdown",
   "metadata": {},
   "source": [
    "# 把测试数据也加入：validation_data —— 标准写法！"
   ]
  },
  {
   "cell_type": "markdown",
   "metadata": {},
   "source": [
    "说明：操作和train是完全一样的。\n",
    "\n",
    "改进：其实**tf.data.Dataset.zip都可以省略的**。直接在tf.data.Dataset.from_tensor_slices( (数据,标签) ) —— 一起放入就好。\n",
    "\n",
    "---\n",
    "对测试数据没必要shuffle，但依旧需要batch（因为一次性放入10000张还是太多！）"
   ]
  },
  {
   "cell_type": "code",
   "execution_count": 20,
   "metadata": {},
   "outputs": [],
   "source": [
    "# 数据转换：改进 —— 直接元组形式放入，直接拼凑好！\n",
    "\n",
    "# 训练集：数据 + 标签\n",
    "ds_train = tf.data.Dataset.from_tensor_slices( (train_image, train_label) )\n",
    "# 测试集：数据 + 标签\n",
    "ds_test = tf.data.Dataset.from_tensor_slices( (test_image, test_label) )"
   ]
  },
  {
   "cell_type": "code",
   "execution_count": 21,
   "metadata": {},
   "outputs": [
    {
     "data": {
      "text/plain": [
       "(<TensorSliceDataset shapes: ((28, 28), ()), types: (tf.uint8, tf.uint8)>,\n",
       " <TensorSliceDataset shapes: ((28, 28), ()), types: (tf.uint8, tf.uint8)>)"
      ]
     },
     "execution_count": 21,
     "metadata": {},
     "output_type": "execute_result"
    }
   ],
   "source": [
    "ds_train, ds_test"
   ]
  },
  {
   "cell_type": "code",
   "execution_count": 22,
   "metadata": {},
   "outputs": [],
   "source": [
    "# 乱序：训练、测试数据都要进行！\n",
    "ds_train = ds_train.shuffle(60000).repeat().batch(64)\n",
    "ds_test = ds_test.repeat().batch(64)\n",
    "\n",
    "# 同样，因为都加了repeat，都需要人为设置每个epoch中的batch的数量：为了让repeat停下来！\n",
    "train_per_epochs = train_image.shape[0] // 64\n",
    "test_per_epochs = test_image.shape[0] // 64"
   ]
  },
  {
   "cell_type": "code",
   "execution_count": 23,
   "metadata": {},
   "outputs": [],
   "source": [
    "model = tf.keras.Sequential()\n",
    "\n",
    "model.add( tf.keras.layers.Flatten(input_shape = (28,28)) )\n",
    "model.add( tf.keras.layers.Dense(128, activation = 'relu') )\n",
    "model.add( tf.keras.layers.Dense(10, activation = 'softmax') )\n",
    "\n",
    "model.compile(\n",
    "    optimizer = 'adam',\n",
    "    loss = 'sparse_categorical_crossentropy',\n",
    "    metrics = ['acc']\n",
    ")"
   ]
  },
  {
   "cell_type": "code",
   "execution_count": 24,
   "metadata": {},
   "outputs": [
    {
     "name": "stdout",
     "output_type": "stream",
     "text": [
      "Model: \"sequential_1\"\n",
      "_________________________________________________________________\n",
      "Layer (type)                 Output Shape              Param #   \n",
      "=================================================================\n",
      "flatten_1 (Flatten)          (None, 784)               0         \n",
      "_________________________________________________________________\n",
      "dense_2 (Dense)              (None, 128)               100480    \n",
      "_________________________________________________________________\n",
      "dense_3 (Dense)              (None, 10)                1290      \n",
      "=================================================================\n",
      "Total params: 101,770\n",
      "Trainable params: 101,770\n",
      "Non-trainable params: 0\n",
      "_________________________________________________________________\n"
     ]
    }
   ],
   "source": [
    "model.summary()"
   ]
  },
  {
   "cell_type": "code",
   "execution_count": 25,
   "metadata": {},
   "outputs": [
    {
     "name": "stdout",
     "output_type": "stream",
     "text": [
      "Train for 937 steps, validate for 156 steps\n",
      "Epoch 1/5\n",
      "937/937 [==============================] - 5s 5ms/step - loss: 3.5022 - acc: 0.8747 - val_loss: 0.7747 - val_acc: 0.8880\n",
      "Epoch 2/5\n",
      "937/937 [==============================] - 4s 5ms/step - loss: 0.4756 - acc: 0.9107 - val_loss: 0.4535 - val_acc: 0.9169\n",
      "Epoch 3/5\n",
      "937/937 [==============================] - 5s 5ms/step - loss: 0.2947 - acc: 0.9315 - val_loss: 0.3982 - val_acc: 0.9229\n",
      "Epoch 4/5\n",
      "937/937 [==============================] - 5s 5ms/step - loss: 0.2398 - acc: 0.9403 - val_loss: 0.3374 - val_acc: 0.9254\n",
      "Epoch 5/5\n",
      "937/937 [==============================] - 5s 5ms/step - loss: 0.2148 - acc: 0.9468 - val_loss: 0.2942 - val_acc: 0.9370\n"
     ]
    },
    {
     "data": {
      "text/plain": [
       "<tensorflow.python.keras.callbacks.History at 0x174ca6c7608>"
      ]
     },
     "execution_count": 25,
     "metadata": {},
     "output_type": "execute_result"
    }
   ],
   "source": [
    "# 模型训练：训练集、测试集都还是每个epoch的结果（只不过输送数据还是按batch来）\n",
    "# 打印结果还是按一个epoch来的（不是按batch来的，这是肯定的）！\n",
    "model.fit( \n",
    "    ds_train, \n",
    "    epochs = 5, \n",
    "    steps_per_epoch = train_per_epochs,  # 训练数据部分\n",
    "    validation_data = ds_test,\n",
    "    validation_steps = test_per_epochs   # 测试数据部分\n",
    ")"
   ]
  },
  {
   "cell_type": "code",
   "execution_count": null,
   "metadata": {},
   "outputs": [],
   "source": []
  }
 ],
 "metadata": {
  "kernelspec": {
   "display_name": "Python 3",
   "language": "python",
   "name": "python3"
  },
  "language_info": {
   "codemirror_mode": {
    "name": "ipython",
    "version": 3
   },
   "file_extension": ".py",
   "mimetype": "text/x-python",
   "name": "python",
   "nbconvert_exporter": "python",
   "pygments_lexer": "ipython3",
   "version": "3.7.4"
  }
 },
 "nbformat": 4,
 "nbformat_minor": 2
}
