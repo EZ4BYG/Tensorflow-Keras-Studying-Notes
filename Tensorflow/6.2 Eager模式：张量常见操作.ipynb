{
 "cells": [
  {
   "cell_type": "code",
   "execution_count": 9,
   "metadata": {},
   "outputs": [],
   "source": [
    "import tensorflow as tf \n",
    "import numpy as np"
   ]
  },
  {
   "cell_type": "code",
   "execution_count": 10,
   "metadata": {},
   "outputs": [
    {
     "data": {
      "text/plain": [
       "True"
      ]
     },
     "execution_count": 10,
     "metadata": {},
     "output_type": "execute_result"
    }
   ],
   "source": [
    "# 是否在Eager模式下：各种计算可以立即出结果！\n",
    "tf.executing_eagerly()"
   ]
  },
  {
   "cell_type": "markdown",
   "metadata": {},
   "source": [
    "# 说明"
   ]
  },
  {
   "cell_type": "markdown",
   "metadata": {},
   "source": [
    "下面用一系列计算，来展示张量的各种操作；并体会Eager模式下，每一步计算都可立即出结果！\n",
    "\n",
    "tf中的tensor数据类型 v.s. numpy中的ndarray数据类型：★\n",
    "- tensor就是ndarray，就当成**高维数组**看待即可！—— 因为Tensorflow最初就是照着Numpy改写的，但又想替代Numpy，故把核心数据类型换了个名字！\n",
    "- tensor数据类型具有的3个属性：结构、尺寸(shape)、元素的数据类型 —— 也和Numpy很像！\n",
    "- **最大区别**：tensor内部数值不能修改！！！ndarray可以修改！—— 所以所有的张量，都可以当作是“**常量**”！★★\n",
    "- 小区别：tensor既可以内存中存，又可在gpu显存中存。"
   ]
  },
  {
   "cell_type": "code",
   "execution_count": 11,
   "metadata": {},
   "outputs": [
    {
     "name": "stdout",
     "output_type": "stream",
     "text": [
      "[[2 3]\n",
      " [4 5]]\n"
     ]
    }
   ],
   "source": [
    "# 一个numpy的2维数组：\n",
    "x = np.array( [[2,3], [4,5]] )\n",
    "print(x)"
   ]
  },
  {
   "cell_type": "code",
   "execution_count": 12,
   "metadata": {},
   "outputs": [
    {
     "name": "stdout",
     "output_type": "stream",
     "text": [
      "tf.Tensor(\n",
      "[[16 21]\n",
      " [28 37]], shape=(2, 2), dtype=int32)\n"
     ]
    }
   ],
   "source": [
    "# 用一个tf的运算：\n",
    "m = tf.matmul(x, x)\n",
    "print(m)  # Eager模式，可以理解打印计算后的结果！"
   ]
  },
  {
   "cell_type": "code",
   "execution_count": null,
   "metadata": {},
   "outputs": [],
   "source": [
    "# ndarray可以修改数组里的数值："
   ]
  },
  {
   "cell_type": "code",
   "execution_count": 15,
   "metadata": {},
   "outputs": [
    {
     "data": {
      "text/plain": [
       "array([[  2, 199],\n",
       "       [  4,   5]])"
      ]
     },
     "execution_count": 15,
     "metadata": {},
     "output_type": "execute_result"
    }
   ],
   "source": [
    "x[0][1] = 199\n",
    "x"
   ]
  },
  {
   "cell_type": "code",
   "execution_count": null,
   "metadata": {},
   "outputs": [],
   "source": [
    "m[0][1] = 199  # tensor不能修改，这里会报错！"
   ]
  },
  {
   "cell_type": "code",
   "execution_count": null,
   "metadata": {},
   "outputs": [],
   "source": []
  },
  {
   "cell_type": "markdown",
   "metadata": {},
   "source": [
    "# 一些关于张量的操作"
   ]
  },
  {
   "cell_type": "markdown",
   "metadata": {},
   "source": [
    "下面介绍一些常见关于张量的操作：\n",
    "1. 张量（张量常量）的创建：tf.constant( [[2,3],[4,5]] ) —— 写法和np.array()一样！\n",
    "2. 张量转ndarray数据类型：xxx.numpy()\n",
    "3. ndarray、python数据类型转tensor：tf.convert_to_tensor()\n",
    "4. 张量加法运算：tf.add(x,y) —— y可以是一个数值，也可以是一个同shape的张量\n",
    "5. 张量乘法运算：tf.multiply(x,y) —— 同上\n",
    "6. python运算符和数据、numpy运算符和数据、tensor运算符和数据，3者间无缝进行！！！★★\n",
    "7. 直接使用宿主语言python控制流等“**结构化、功能化**”语句"
   ]
  },
  {
   "cell_type": "code",
   "execution_count": 18,
   "metadata": {},
   "outputs": [
    {
     "name": "stdout",
     "output_type": "stream",
     "text": [
      "tf.Tensor(\n",
      "[[2 3]\n",
      " [4 5]], shape=(2, 2), dtype=int32)\n"
     ]
    }
   ],
   "source": [
    "# 1. 创建一个张量（张量常量）：\n",
    "a = tf.constant( [[2,3],[4,5]] )\n",
    "print(a)"
   ]
  },
  {
   "cell_type": "code",
   "execution_count": null,
   "metadata": {},
   "outputs": [],
   "source": []
  },
  {
   "cell_type": "code",
   "execution_count": 19,
   "metadata": {},
   "outputs": [
    {
     "data": {
      "text/plain": [
       "numpy.ndarray"
      ]
     },
     "execution_count": 19,
     "metadata": {},
     "output_type": "execute_result"
    }
   ],
   "source": [
    "# 2. 把张量转为对应的ndarray：\n",
    "a1 = a.numpy()\n",
    "type(a1)"
   ]
  },
  {
   "cell_type": "code",
   "execution_count": null,
   "metadata": {},
   "outputs": [],
   "source": []
  },
  {
   "cell_type": "code",
   "execution_count": 28,
   "metadata": {},
   "outputs": [
    {
     "name": "stdout",
     "output_type": "stream",
     "text": [
      "tf.Tensor(\n",
      "[[1 2]\n",
      " [3 4]], shape=(2, 2), dtype=int32)\n",
      "tf.Tensor(10, shape=(), dtype=int32)\n"
     ]
    },
    {
     "data": {
      "text/plain": [
       "(None, None)"
      ]
     },
     "execution_count": 28,
     "metadata": {},
     "output_type": "execute_result"
    }
   ],
   "source": [
    "# 3. python数据转tensor\n",
    "n1 = np.array( [[1,2],[3,4]] )\n",
    "n2 = 10\n",
    "\n",
    "tn1 = tf.convert_to_tensor(n1)\n",
    "tn2 = tf.convert_to_tensor(n2)\n",
    "print(tn1), print(tn2)"
   ]
  },
  {
   "cell_type": "code",
   "execution_count": null,
   "metadata": {},
   "outputs": [],
   "source": []
  },
  {
   "cell_type": "code",
   "execution_count": 23,
   "metadata": {},
   "outputs": [
    {
     "name": "stdout",
     "output_type": "stream",
     "text": [
      "tf.Tensor(\n",
      "[[ 5  7]\n",
      " [ 9 11]], shape=(2, 2), dtype=int32)\n"
     ]
    }
   ],
   "source": [
    "# 4. 张量加法：\n",
    "b = tf.add(a,a+1)\n",
    "print(b)"
   ]
  },
  {
   "cell_type": "code",
   "execution_count": null,
   "metadata": {},
   "outputs": [],
   "source": []
  },
  {
   "cell_type": "code",
   "execution_count": 24,
   "metadata": {},
   "outputs": [
    {
     "name": "stdout",
     "output_type": "stream",
     "text": [
      "tf.Tensor(\n",
      "[[10 21]\n",
      " [36 55]], shape=(2, 2), dtype=int32)\n"
     ]
    }
   ],
   "source": [
    "# 5. 张量乘法：\n",
    "c = tf.multiply(a,b)\n",
    "print(c)"
   ]
  },
  {
   "cell_type": "code",
   "execution_count": null,
   "metadata": {},
   "outputs": [],
   "source": []
  },
  {
   "cell_type": "code",
   "execution_count": 32,
   "metadata": {},
   "outputs": [
    {
     "name": "stdout",
     "output_type": "stream",
     "text": [
      "tf.Tensor(\n",
      "[[ 4  6]\n",
      " [ 8 10]], shape=(2, 2), dtype=int32)\n",
      "2.0\n",
      "<class 'float'>\n"
     ]
    },
    {
     "data": {
      "text/plain": [
       "(None, None)"
      ]
     },
     "execution_count": 32,
     "metadata": {},
     "output_type": "execute_result"
    }
   ],
   "source": [
    "# 6. python、numpy、tensor无缝协作：\n",
    "d1 = 2\n",
    "d2 = np.array( [[2,3],[4,5]] )\n",
    "t1 = tf.convert_to_tensor(d1)\n",
    "t2 = tf.convert_to_tensor(d2)\n",
    "\n",
    "result1 = tf.add(d2,t2)  # 放在一起算\n",
    "print(result1)\n",
    "\n",
    "result2 = float(t1)  # 用python运算符直接作用于tensor常量上\n",
    "print(result2), print( type(result2) )"
   ]
  },
  {
   "cell_type": "code",
   "execution_count": null,
   "metadata": {},
   "outputs": [],
   "source": []
  }
 ],
 "metadata": {
  "kernelspec": {
   "display_name": "Python 3",
   "language": "python",
   "name": "python3"
  },
  "language_info": {
   "codemirror_mode": {
    "name": "ipython",
    "version": 3
   },
   "file_extension": ".py",
   "mimetype": "text/x-python",
   "name": "python",
   "nbconvert_exporter": "python",
   "pygments_lexer": "ipython3",
   "version": "3.7.4"
  }
 },
 "nbformat": 4,
 "nbformat_minor": 2
}
