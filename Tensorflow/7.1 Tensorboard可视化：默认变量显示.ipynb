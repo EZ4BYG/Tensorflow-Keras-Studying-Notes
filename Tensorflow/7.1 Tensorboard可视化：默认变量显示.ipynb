{
 "cells": [
  {
   "cell_type": "markdown",
   "metadata": {},
   "source": [
    "# 说明"
   ]
  },
  {
   "cell_type": "markdown",
   "metadata": {},
   "source": [
    "Tensorboard是随Tensorflow安装而安装的包（二者是独立的，需要都import进来）。Tensorboard在tf2.0中是非常简单、高效的训练过程可视化工具。下面用tf.keras高阶模块直接搭建网络进行MNIST数据集运算，展示Tensorboard的使用："
   ]
  },
  {
   "cell_type": "code",
   "execution_count": 1,
   "metadata": {},
   "outputs": [],
   "source": [
    "import tensorboard as tb\n",
    "import tensorflow as tf"
   ]
  },
  {
   "cell_type": "code",
   "execution_count": 2,
   "metadata": {},
   "outputs": [
    {
     "data": {
      "text/plain": [
       "'2.0.2'"
      ]
     },
     "execution_count": 2,
     "metadata": {},
     "output_type": "execute_result"
    }
   ],
   "source": [
    "tb.__version__"
   ]
  },
  {
   "cell_type": "markdown",
   "metadata": {},
   "source": [
    "### 数据导入：tf.data"
   ]
  },
  {
   "cell_type": "code",
   "execution_count": 3,
   "metadata": {},
   "outputs": [],
   "source": [
    "# 加载数据集：只用训练集即可\n",
    "(train_image, train_label), (test_image, test_label) = tf.keras.datasets.mnist.load_data()"
   ]
  },
  {
   "cell_type": "code",
   "execution_count": 4,
   "metadata": {},
   "outputs": [
    {
     "data": {
      "text/plain": [
       "TensorShape([60000, 28, 28, 1])"
      ]
     },
     "execution_count": 4,
     "metadata": {},
     "output_type": "execute_result"
    }
   ],
   "source": [
    "# 维度拓展，从数组转为图像尺寸\n",
    "train_image = tf.expand_dims(train_image, -1)\n",
    "test_image = tf.expand_dims(test_image, -1)\n",
    "train_image.shape"
   ]
  },
  {
   "cell_type": "code",
   "execution_count": 5,
   "metadata": {},
   "outputs": [],
   "source": [
    "# 转换数据类型：\n",
    "train_image = tf.cast( train_image/255, tf.float32 )  # 归一化后，转为float32\n",
    "train_label = tf.cast( train_label, tf.int32 )\n",
    "\n",
    "test_image = tf.cast( test_image/255, tf.float32 )\n",
    "test_label = tf.cast( test_label, tf.int32 )"
   ]
  },
  {
   "cell_type": "code",
   "execution_count": 6,
   "metadata": {},
   "outputs": [
    {
     "data": {
      "text/plain": [
       "<TensorSliceDataset shapes: ((28, 28, 1), ()), types: (tf.float32, tf.int32)>"
      ]
     },
     "execution_count": 6,
     "metadata": {},
     "output_type": "execute_result"
    }
   ],
   "source": [
    "# tf.data进行数据集输入：\n",
    "train_dataset = tf.data.Dataset.from_tensor_slices( (train_image,train_label) )\n",
    "test_dataset = tf.data.Dataset.from_tensor_slices( (test_image,test_label) )\n",
    "train_dataset"
   ]
  },
  {
   "cell_type": "code",
   "execution_count": 7,
   "metadata": {},
   "outputs": [],
   "source": [
    "# 数据集乱序、分批次：因为后面用tf.keras直接搭网络，所以训练数据一般要.repeat()\n",
    "train_dataset = train_dataset.shuffle(60000).repeat().batch(64)\n",
    "test_dataset = test_dataset.shuffle(10000).batch(64)"
   ]
  },
  {
   "cell_type": "markdown",
   "metadata": {},
   "source": [
    "### 网络搭建：tf.keras"
   ]
  },
  {
   "cell_type": "code",
   "execution_count": 8,
   "metadata": {},
   "outputs": [],
   "source": [
    "model = tf.keras.Sequential( [\n",
    "    tf.keras.layers.Conv2D( 16, [3,3], activation = 'relu', input_shape = (None, None, 1) ),\n",
    "    tf.keras.layers.Conv2D( 32, [3,3], activation = 'relu' ),\n",
    "    tf.keras.layers.GlobalMaxPooling2D(),  # 换一个Max池化看看（不是重点）\n",
    "    tf.keras.layers.Dense(10, activation = 'softmax')\n",
    "] )"
   ]
  },
  {
   "cell_type": "code",
   "execution_count": 9,
   "metadata": {},
   "outputs": [],
   "source": [
    "model.compile(\n",
    "    optimizer = 'adam',\n",
    "    loss = 'sparse_categorical_crossentropy',\n",
    "    metrics = ['acc']\n",
    ")"
   ]
  },
  {
   "cell_type": "markdown",
   "metadata": {},
   "source": [
    "### 创建tensorboard回调对象：tf.keras.callbacks.Tensorboard"
   ]
  },
  {
   "cell_type": "markdown",
   "metadata": {},
   "source": [
    "注意：\n",
    "- tf.keras.callbacks.xxx里面有非常多种、不同功能的回调函数，tensorboard仅是其中一种而已；这些回调函数的使用都是一样的！都是在model.fit()中加入到callbacks参数中；\n",
    "- Tensorboard建议，每次生成的log文件根据“**时间**”来命名最好！"
   ]
  },
  {
   "cell_type": "code",
   "execution_count": 10,
   "metadata": {},
   "outputs": [],
   "source": [
    "import os\n",
    "import datetime"
   ]
  },
  {
   "cell_type": "code",
   "execution_count": 11,
   "metadata": {},
   "outputs": [
    {
     "data": {
      "text/plain": [
       "('logs\\\\20200516_170730', str)"
      ]
     },
     "execution_count": 11,
     "metadata": {},
     "output_type": "execute_result"
    }
   ],
   "source": [
    "# os.path.join()路径拼接函数：所有日志文件，都放这个文件夹里 —— 因为程序不可能只运行一回！\n",
    "# datetime.datetime.now()获取当前时间，strftime()自定义格式转换为字符串！\n",
    "log_dir = os.path.join('logs', datetime.datetime.now().strftime(\"%Y%m%d_%H%M%S\"))\n",
    "log_dir, type(log_dir)"
   ]
  },
  {
   "cell_type": "code",
   "execution_count": 12,
   "metadata": {},
   "outputs": [],
   "source": [
    "# 参数1：日志文件存储地址，参数2：几个epoch存一个新文件\n",
    "tensorboard_callback = tf.keras.callbacks.TensorBoard( log_dir, histogram_freq = 1 )  "
   ]
  },
  {
   "cell_type": "code",
   "execution_count": null,
   "metadata": {},
   "outputs": [],
   "source": []
  },
  {
   "cell_type": "code",
   "execution_count": 13,
   "metadata": {},
   "outputs": [
    {
     "name": "stdout",
     "output_type": "stream",
     "text": [
      "Train for 937 steps, validate for 937 steps\n",
      "Epoch 1/5\n",
      "936/937 [============================>.] - ETA: 0s - loss: 1.0434 - acc: 0.6881WARNING:tensorflow:Your input ran out of data; interrupting training. Make sure that your dataset or generator can generate at least `steps_per_epoch * epochs` batches (in this case, 937 batches). You may need to use the repeat() function when building your dataset.\n",
      "937/937 [==============================] - 36s 39ms/step - loss: 1.0427 - acc: 0.6883 - val_loss: 0.0790 - val_acc: 0.8537\n"
     ]
    },
    {
     "data": {
      "text/plain": [
       "<tensorflow.python.keras.callbacks.History at 0x27a96ced5c8>"
      ]
     },
     "execution_count": 13,
     "metadata": {},
     "output_type": "execute_result"
    }
   ],
   "source": [
    "# 回调函数在model.fit()中使用：\n",
    "model.fit(\n",
    "    train_dataset,\n",
    "    epochs = 5,\n",
    "    steps_per_epoch = 60000 // 64,\n",
    "    validation_data = test_dataset,\n",
    "    validation_steps = 10000 // 64,  # 这如果打错，运行完1个epoch就停止了！\n",
    "    #callbacks = [tensorboard_callback]\n",
    ")"
   ]
  },
  {
   "cell_type": "markdown",
   "metadata": {},
   "source": [
    "### tensorboard显示：1. 在Notebook中；2. 在浏览器中"
   ]
  },
  {
   "cell_type": "code",
   "execution_count": null,
   "metadata": {},
   "outputs": [],
   "source": [
    "# tensorboard在Notebook中显示的方法：\n",
    "%load_ext tensorboard\n",
    "%matplotlib inline\n",
    "\n",
    "%tensorboard --logdir logs  # 其中logs就是那个文件夹名"
   ]
  },
  {
   "cell_type": "code",
   "execution_count": null,
   "metadata": {},
   "outputs": [],
   "source": [
    "# tensorboard在浏览器中显示：\n",
    "在cmd中输入到logs文件夹所在地址，然后输入：tensorboard --logdir logs —— 生成一个网址！"
   ]
  }
 ],
 "metadata": {
  "kernelspec": {
   "display_name": "Python 3",
   "language": "python",
   "name": "python3"
  },
  "language_info": {
   "codemirror_mode": {
    "name": "ipython",
    "version": 3
   },
   "file_extension": ".py",
   "mimetype": "text/x-python",
   "name": "python",
   "nbconvert_exporter": "python",
   "pygments_lexer": "ipython3",
   "version": "3.7.4"
  }
 },
 "nbformat": 4,
 "nbformat_minor": 2
}
