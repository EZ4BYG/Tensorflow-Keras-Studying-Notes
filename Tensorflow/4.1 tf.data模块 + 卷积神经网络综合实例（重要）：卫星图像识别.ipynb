{
 "cells": [
  {
   "cell_type": "code",
   "execution_count": 10,
   "metadata": {},
   "outputs": [],
   "source": [
    "import tensorflow as tf"
   ]
  },
  {
   "cell_type": "code",
   "execution_count": 11,
   "metadata": {},
   "outputs": [],
   "source": [
    "import matplotlib.pyplot as plt\n",
    "import numpy as np\n",
    "import pathlib  # 路径管理工具：比os.path更好用"
   ]
  },
  {
   "cell_type": "markdown",
   "metadata": {},
   "source": [
    "说明：本数据集虽然按图片类型进行了文件夹的分组，并且每个图片也有对应的文件名；但是还是需要人为进行数据集的搭建 + 对应标签的生成（毕竟是两种文件都要有）！"
   ]
  },
  {
   "cell_type": "markdown",
   "metadata": {},
   "source": [
    "# 一、文件提取："
   ]
  },
  {
   "cell_type": "code",
   "execution_count": 12,
   "metadata": {},
   "outputs": [],
   "source": [
    "data_dir = 'E:/tensorflow2.0_日月光华/日月光华-tensorflow资料/数据集/2_class'"
   ]
  },
  {
   "cell_type": "code",
   "execution_count": 13,
   "metadata": {},
   "outputs": [
    {
     "data": {
      "text/plain": [
       "WindowsPath('E:/tensorflow2.0_日月光华/日月光华-tensorflow资料/数据集/2_class')"
      ]
     },
     "execution_count": 13,
     "metadata": {},
     "output_type": "execute_result"
    }
   ],
   "source": [
    "# 创建一个路径对象：\n",
    "data_root = pathlib.Path(data_dir)\n",
    "data_root "
   ]
  },
  {
   "cell_type": "code",
   "execution_count": 14,
   "metadata": {},
   "outputs": [
    {
     "name": "stdout",
     "output_type": "stream",
     "text": [
      "E:\\tensorflow2.0_日月光华\\日月光华-tensorflow资料\\数据集\\2_class\\airplane\n",
      "E:\\tensorflow2.0_日月光华\\日月光华-tensorflow资料\\数据集\\2_class\\lake\n"
     ]
    }
   ],
   "source": [
    "# 看看路径对象下，有哪些分类/目录：对目录进行迭代\n",
    "for item in data_root.iterdir():\n",
    "    print(item)"
   ]
  },
  {
   "cell_type": "code",
   "execution_count": 15,
   "metadata": {},
   "outputs": [
    {
     "name": "stdout",
     "output_type": "stream",
     "text": [
      "1400\n"
     ]
    },
    {
     "data": {
      "text/plain": [
       "[WindowsPath('E:/tensorflow2.0_日月光华/日月光华-tensorflow资料/数据集/2_class/airplane/airplane_001.jpg'),\n",
       " WindowsPath('E:/tensorflow2.0_日月光华/日月光华-tensorflow资料/数据集/2_class/airplane/airplane_002.jpg'),\n",
       " WindowsPath('E:/tensorflow2.0_日月光华/日月光华-tensorflow资料/数据集/2_class/airplane/airplane_003.jpg')]"
      ]
     },
     "execution_count": 15,
     "metadata": {},
     "output_type": "execute_result"
    }
   ],
   "source": [
    "# 提取所有图片的路径：直接用glob库也可以\n",
    "all_image_path = list( data_root.glob('*/*') )  # 所有目录里的所有文件；返回的是可迭代对象，直接转为list\n",
    "\n",
    "print( len(all_image_path) )\n",
    "all_image_path[0:3]  # 元素是WindowsPath类型/对象"
   ]
  },
  {
   "cell_type": "code",
   "execution_count": 16,
   "metadata": {},
   "outputs": [
    {
     "name": "stdout",
     "output_type": "stream",
     "text": [
      "<class 'str'>\n"
     ]
    },
    {
     "data": {
      "text/plain": [
       "['E:\\\\tensorflow2.0_日月光华\\\\日月光华-tensorflow资料\\\\数据集\\\\2_class\\\\airplane\\\\airplane_001.jpg',\n",
       " 'E:\\\\tensorflow2.0_日月光华\\\\日月光华-tensorflow资料\\\\数据集\\\\2_class\\\\airplane\\\\airplane_002.jpg',\n",
       " 'E:\\\\tensorflow2.0_日月光华\\\\日月光华-tensorflow资料\\\\数据集\\\\2_class\\\\airplane\\\\airplane_003.jpg']"
      ]
     },
     "execution_count": 16,
     "metadata": {},
     "output_type": "execute_result"
    }
   ],
   "source": [
    "# 把WindowsPath类型，转成真正的路径类型(字符串)：\n",
    "all_image_path = [ str(path) for path in all_image_path ]\n",
    "\n",
    "print( type(all_image_path[0]) )\n",
    "all_image_path[0:3]"
   ]
  },
  {
   "cell_type": "code",
   "execution_count": null,
   "metadata": {},
   "outputs": [],
   "source": []
  },
  {
   "cell_type": "markdown",
   "metadata": {},
   "source": [
    "# 二、文件预处理："
   ]
  },
  {
   "cell_type": "markdown",
   "metadata": {},
   "source": [
    "### 1. 对文件（路径即可）进行乱序："
   ]
  },
  {
   "cell_type": "code",
   "execution_count": 17,
   "metadata": {},
   "outputs": [],
   "source": [
    "# 对文件（路径即可）进行乱序：\n",
    "import random "
   ]
  },
  {
   "cell_type": "code",
   "execution_count": 18,
   "metadata": {},
   "outputs": [],
   "source": [
    "random.shuffle(all_image_path)"
   ]
  },
  {
   "cell_type": "code",
   "execution_count": 19,
   "metadata": {},
   "outputs": [
    {
     "data": {
      "text/plain": [
       "['E:\\\\tensorflow2.0_日月光华\\\\日月光华-tensorflow资料\\\\数据集\\\\2_class\\\\lake\\\\lake_695.jpg',\n",
       " 'E:\\\\tensorflow2.0_日月光华\\\\日月光华-tensorflow资料\\\\数据集\\\\2_class\\\\lake\\\\lake_153.jpg',\n",
       " 'E:\\\\tensorflow2.0_日月光华\\\\日月光华-tensorflow资料\\\\数据集\\\\2_class\\\\airplane\\\\airplane_076.jpg']"
      ]
     },
     "execution_count": 19,
     "metadata": {},
     "output_type": "execute_result"
    }
   ],
   "source": [
    "# 查看洗牌后结果：\n",
    "all_image_path[0:3]"
   ]
  },
  {
   "cell_type": "code",
   "execution_count": null,
   "metadata": {},
   "outputs": [],
   "source": []
  },
  {
   "cell_type": "markdown",
   "metadata": {},
   "source": [
    "### 2. 记录总图片数："
   ]
  },
  {
   "cell_type": "code",
   "execution_count": 20,
   "metadata": {},
   "outputs": [],
   "source": [
    "image_count = len(all_image_path)  # 总图片数"
   ]
  },
  {
   "cell_type": "markdown",
   "metadata": {},
   "source": [
    "### 3. 提取标签/编码："
   ]
  },
  {
   "cell_type": "code",
   "execution_count": 21,
   "metadata": {},
   "outputs": [
    {
     "data": {
      "text/plain": [
       "['airplane', 'lake']"
      ]
     },
     "execution_count": 21,
     "metadata": {},
     "output_type": "execute_result"
    }
   ],
   "source": [
    "# 直接按照“目录”来划分即可：\n",
    "label_names = sorted( item.name for item in data_root.glob('*') ) # 按首字母进行一个排序\n",
    "label_names"
   ]
  },
  {
   "cell_type": "code",
   "execution_count": 22,
   "metadata": {},
   "outputs": [
    {
     "data": {
      "text/plain": [
       "{'airplane': 0, 'lake': 1}"
      ]
     },
     "execution_count": 22,
     "metadata": {},
     "output_type": "execute_result"
    }
   ],
   "source": [
    "# 把字符串换成数字编码：转为字典\n",
    "label_to_index = dict( (name, index) for (index,name) in enumerate(label_names) )\n",
    "label_to_index"
   ]
  },
  {
   "cell_type": "markdown",
   "metadata": {},
   "source": [
    "### 提示：当前有用的3个变量"
   ]
  },
  {
   "cell_type": "code",
   "execution_count": 23,
   "metadata": {},
   "outputs": [
    {
     "data": {
      "text/plain": [
       "{'airplane': 0, 'lake': 1}"
      ]
     },
     "execution_count": 23,
     "metadata": {},
     "output_type": "execute_result"
    }
   ],
   "source": [
    "# 图片总数：\n",
    "image_count\n",
    "\n",
    "# 所有图片的路径：\n",
    "all_image_path\n",
    "\n",
    "# 便签对应的编码：\n",
    "label_to_index"
   ]
  },
  {
   "cell_type": "markdown",
   "metadata": {},
   "source": [
    "### 4. 给予每张图片对应的标签："
   ]
  },
  {
   "cell_type": "code",
   "execution_count": 24,
   "metadata": {},
   "outputs": [
    {
     "data": {
      "text/plain": [
       "'airplane'"
      ]
     },
     "execution_count": 24,
     "metadata": {},
     "output_type": "execute_result"
    }
   ],
   "source": [
    "# 提取所有图片的标签：图片文件名的“上一级目录名”，就是对应的标签 —— 利用pathlib.Path\n",
    "# 例如：\n",
    "pathlib.Path( 'E:\\\\tensorflow2.0_日月光华\\\\日月光华-tensorflow资料\\\\数据集\\\\2_class\\\\airplane\\\\airplane_363.jpg' ).parent.name"
   ]
  },
  {
   "cell_type": "code",
   "execution_count": 25,
   "metadata": {},
   "outputs": [
    {
     "data": {
      "text/plain": [
       "[1, 1, 0]"
      ]
     },
     "execution_count": 25,
     "metadata": {},
     "output_type": "execute_result"
    }
   ],
   "source": [
    "# 提取所有图片的标签：\n",
    "all_image_label = [ pathlib.Path(p).parent.name for p in all_image_path ]  # 标签字符串的列表\n",
    "# 转为对应的数字编码：\n",
    "all_image_label = [ label_to_index.get(label) for label in all_image_label ]\n",
    "all_image_label[0:3]"
   ]
  },
  {
   "cell_type": "markdown",
   "metadata": {},
   "source": [
    "### 5. 再创建一个索引对标签的对象：方便展示"
   ]
  },
  {
   "cell_type": "code",
   "execution_count": 28,
   "metadata": {},
   "outputs": [
    {
     "data": {
      "text/plain": [
       "{0: 'airplane', 1: 'lake'}"
      ]
     },
     "execution_count": 28,
     "metadata": {},
     "output_type": "execute_result"
    }
   ],
   "source": [
    "index_to_label = dict( (v,k) for (k,v) in label_to_index.items() )  # 方便最后说明结果\n",
    "index_to_label"
   ]
  },
  {
   "cell_type": "markdown",
   "metadata": {},
   "source": [
    "### 提示：当前有用的5个变量："
   ]
  },
  {
   "cell_type": "code",
   "execution_count": 29,
   "metadata": {},
   "outputs": [],
   "source": [
    "# 图片总数：\n",
    "image_count\n",
    "\n",
    "# 标签-索引：\n",
    "label_to_index\n",
    "\n",
    "# 索引-标签：\n",
    "index_to_label\n",
    "\n",
    "# 所有图片的路径：都是字符串！\n",
    "all_image_path\n",
    "\n",
    "# 所有图片对应的编码化标签：都已编码为数字！\n",
    "all_image_label;"
   ]
  },
  {
   "cell_type": "code",
   "execution_count": null,
   "metadata": {},
   "outputs": [],
   "source": []
  },
  {
   "cell_type": "markdown",
   "metadata": {},
   "source": [
    "# 三、查看文件提取之后的图像："
   ]
  },
  {
   "cell_type": "code",
   "execution_count": 30,
   "metadata": {},
   "outputs": [],
   "source": [
    "import IPython.display as display  # 展示图像很方便"
   ]
  },
  {
   "cell_type": "code",
   "execution_count": 31,
   "metadata": {},
   "outputs": [
    {
     "data": {
      "image/jpeg": "[encoded data removed]",
      "text/plain": [
       "<IPython.core.display.Image object>"
      ]
     },
     "metadata": {},
     "output_type": "display_data"
    },
    {
     "name": "stdout",
     "output_type": "stream",
     "text": [
      "airplane\n"
     ]
    },
    {
     "data": {
      "image/jpeg": "[encoded data removed]",
      "text/plain": [
       "<IPython.core.display.Image object>"
      ]
     },
     "metadata": {},
     "output_type": "display_data"
    },
    {
     "name": "stdout",
     "output_type": "stream",
     "text": [
      "airplane\n"
     ]
    },
    {
     "data": {
      "image/jpeg": "[encoded data removed]",
      "text/plain": [
       "<IPython.core.display.Image object>"
      ]
     },
     "metadata": {},
     "output_type": "display_data"
    },
    {
     "name": "stdout",
     "output_type": "stream",
     "text": [
      "airplane\n"
     ]
    }
   ],
   "source": [
    "# 随机读取几张图片看看：\n",
    "for n in range(3):\n",
    "    image = random.choice( range(image_count) )  # 每次随机在全部中取一张：1400以内的一个随机数\n",
    "    display.display( display.Image(all_image_path[image]) )  # 取出那张图\n",
    "    index = all_image_label[image]\n",
    "    print( index_to_label.get( index ) )  # 打印它对应的标签"
   ]
  },
  {
   "cell_type": "code",
   "execution_count": null,
   "metadata": {},
   "outputs": [],
   "source": []
  },
  {
   "cell_type": "markdown",
   "metadata": {},
   "source": [
    "# 四、用tf读取文件、文件预处理："
   ]
  },
  {
   "cell_type": "markdown",
   "metadata": {},
   "source": [
    "tf文件读取/解码函数：\n",
    "- 文件读取：tf.io.read_file( 路径字符串 ) —— 读入后是原始的二进制文件（省空间），不能直接用！\n",
    "- 文件解码：tf.image.decode_image( 读入的二进制文件 ) —— 解码为对应的张量！\n",
    "\n",
    "tf转换数据类型函数：\n",
    "- tf.cast( 原数据, 新数据类型 ) —— 区别：Numpy中是用astype实现的！这里二者不同！\n",
    "- tensor转numpy数据类型：xtensor.numpy() —— xtensor是一个张量！"
   ]
  },
  {
   "cell_type": "code",
   "execution_count": 39,
   "metadata": {},
   "outputs": [
    {
     "name": "stdout",
     "output_type": "stream",
     "text": [
      "<class 'str'>\n"
     ]
    },
    {
     "data": {
      "text/plain": [
       "'E:\\\\tensorflow2.0_日月光华\\\\日月光华-tensorflow资料\\\\数据集\\\\2_class\\\\lake\\\\lake_695.jpg'"
      ]
     },
     "execution_count": 39,
     "metadata": {},
     "output_type": "execute_result"
    }
   ],
   "source": [
    "# 以一张图片进行例如：\n",
    "img_path = all_image_path[0]\n",
    "print( type(img_path) )\n",
    "img_path"
   ]
  },
  {
   "cell_type": "code",
   "execution_count": 40,
   "metadata": {},
   "outputs": [],
   "source": [
    "# 文件读入：\n",
    "img_raw = tf.io.read_file( img_path )  # 文件读入之后，自动转为了二进制形式！"
   ]
  },
  {
   "cell_type": "code",
   "execution_count": 41,
   "metadata": {},
   "outputs": [
    {
     "data": {
      "text/plain": [
       "(TensorShape([256, 256, 3]), tf.uint8)"
      ]
     },
     "execution_count": 41,
     "metadata": {},
     "output_type": "execute_result"
    }
   ],
   "source": [
    "# 文件解码为图像/张量：\n",
    "img_picture = tf.image.decode_image(img_raw)\n",
    "img_picture.shape, img_picture.dtype # 每个像素的值都是0-255范围（uint8）！"
   ]
  },
  {
   "cell_type": "code",
   "execution_count": 42,
   "metadata": {},
   "outputs": [],
   "source": [
    "# 转换数据类型 + 归一化：\n",
    "img_picture = tf.cast( img_picture, tf.float32 )\n",
    "img_picture = img_picture / 255"
   ]
  },
  {
   "cell_type": "code",
   "execution_count": 43,
   "metadata": {},
   "outputs": [
    {
     "name": "stdout",
     "output_type": "stream",
     "text": [
      "<class 'tensorflow.python.framework.ops.EagerTensor'>\n",
      "<class 'numpy.ndarray'>\n",
      "0.8862745\n",
      "0.007843138\n"
     ]
    }
   ],
   "source": [
    "# 查看对应的numpy数据、最值：\n",
    "print( type(img_picture) )\n",
    "print( type(img_picture.numpy()) )\n",
    "\n",
    "print( img_picture.numpy().max() )\n",
    "print( img_picture.numpy().min() )"
   ]
  },
  {
   "cell_type": "markdown",
   "metadata": {},
   "source": [
    "说明：上面tf对图像的读取与预处理，共做了3步，可以写成下面的函数：\n",
    "- 1. 文件读入：输入的是路径（字符串）\n",
    "- 2. 图片解码\n",
    "- 3. 数值预处理：转数据类型 + 归一化\n",
    "\n",
    "下面写一个函数，用函数来完成对所有图片完成上面的操作："
   ]
  },
  {
   "cell_type": "code",
   "execution_count": 60,
   "metadata": {},
   "outputs": [],
   "source": [
    "def load_preprocess_image(image_path):\n",
    "    img_raw = tf.io.read_file( image_path )  # 原始二进制文件\n",
    "    img_picture = tf.image.decode_image(img_raw)  # 解码为图片：通用解码方式，不管图片是什么格式\n",
    "    img_picture = tf.cast( img_picture, tf.float32 ) # 类型转为float\n",
    "    img_picture = img_picture / 255  # 归一化\n",
    "    image = img_picture\n",
    "    return image  # 返回处理好的图片：已归一化后的张量！\n",
    "\n",
    "# 改进版函数：特定图片格式解码 + 大小resize\n",
    "def load_preprocess_image1(image_path):\n",
    "    img_raw = tf.io.read_file( image_path )  # 原始二进制文件\n",
    "    img_picture = tf.image.decode_jpeg( img_raw, channels=3 )  # 原图就是jpg，就用特定的解码格式！\n",
    "    \n",
    "    # 新加resize：改变图片的size\n",
    "    img_picture = tf.image.resize( img_picture, [128,128] )  # 这里只需要[高,宽]，不需要通道数！\n",
    "    \n",
    "    img_picture = tf.cast( img_picture, tf.float32 ) # 类型转为float\n",
    "    img_picture = img_picture / 255  # 归一化\n",
    "    image = img_picture\n",
    "    return image"
   ]
  },
  {
   "cell_type": "code",
   "execution_count": 61,
   "metadata": {},
   "outputs": [
    {
     "data": {
      "text/plain": [
       "TensorShape([128, 128, 3])"
      ]
     },
     "execution_count": 61,
     "metadata": {},
     "output_type": "execute_result"
    },
    {
     "data": {
      "image/png": "[encoded data removed]",
      "text/plain": [
       "<Figure size 432x288 with 1 Axes>"
      ]
     },
     "metadata": {
      "needs_background": "light"
     },
     "output_type": "display_data"
    }
   ],
   "source": [
    "# 测试一下上面的批处理函数：\n",
    "img_path_test = all_image_path[1399]\n",
    "# image_test = load_preprocess_image(img_path_test)\n",
    "# 改用改进函数：\n",
    "image_test = load_preprocess_image1(img_path_test)\n",
    "plt.imshow(image_test)\n",
    "image_test.shape"
   ]
  },
  {
   "cell_type": "markdown",
   "metadata": {},
   "source": [
    "# 五、用tf.data.Dataset创建数据集：重要！"
   ]
  },
  {
   "cell_type": "markdown",
   "metadata": {},
   "source": [
    "### 1. 创建数据集： "
   ]
  },
  {
   "cell_type": "code",
   "execution_count": 64,
   "metadata": {},
   "outputs": [
    {
     "data": {
      "text/plain": [
       "<TensorSliceDataset shapes: (), types: tf.string>"
      ]
     },
     "execution_count": 64,
     "metadata": {},
     "output_type": "execute_result"
    }
   ],
   "source": [
    "# 获取数据集所有文件的路径：可迭代对象！\n",
    "path_dataset = tf.data.Dataset.from_tensor_slices(all_image_path)\n",
    "path_dataset"
   ]
  },
  {
   "cell_type": "markdown",
   "metadata": {},
   "source": [
    "变量名.map(函数名) —— 用括号里函数名，作用于前面的变量名 —— 其实就是简单的函数调用！"
   ]
  },
  {
   "cell_type": "code",
   "execution_count": 65,
   "metadata": {},
   "outputs": [
    {
     "data": {
      "text/plain": [
       "<MapDataset shapes: (128, 128, 3), types: tf.float32>"
      ]
     },
     "execution_count": 65,
     "metadata": {},
     "output_type": "execute_result"
    }
   ],
   "source": [
    "# 读入所有路径所对应的所有图像 + 预处理：用前面创建好的批处理函数 —— map方法\n",
    "image_dataset = path_dataset.map( load_preprocess_image1 )\n",
    "image_dataset  # 这里shape竟然是unknown，虽然不影响结果，但是不好看！ —— 修改上面的load_preprocess_image函数\n",
    "\n",
    "# 用新的函数：\n",
    "# image_dataset = path_dataset.map( load_preprocess_image1 )\n",
    "# image_dataset  "
   ]
  },
  {
   "cell_type": "code",
   "execution_count": 66,
   "metadata": {},
   "outputs": [
    {
     "data": {
      "text/plain": [
       "<TensorSliceDataset shapes: (), types: tf.int32>"
      ]
     },
     "execution_count": 66,
     "metadata": {},
     "output_type": "execute_result"
    }
   ],
   "source": [
    "# 读入所有图像所对应的标签：可迭代对象！\n",
    "label_dataset = tf.data.Dataset.from_tensor_slices( all_image_label )\n",
    "label_dataset"
   ]
  },
  {
   "cell_type": "code",
   "execution_count": 67,
   "metadata": {},
   "outputs": [
    {
     "name": "stdout",
     "output_type": "stream",
     "text": [
      "1\n",
      "1\n",
      "0\n"
     ]
    }
   ],
   "source": [
    "# 查看一下标签与图像是否对应：取前3个标签\n",
    "for label in label_dataset.take(3):\n",
    "    print( label.numpy() )  # 把张量转为numpy好看"
   ]
  },
  {
   "cell_type": "code",
   "execution_count": 68,
   "metadata": {},
   "outputs": [
    {
     "data": {
      "image/png": "[encoded data removed]",
      "text/plain": [
       "<Figure size 432x288 with 1 Axes>"
      ]
     },
     "metadata": {
      "needs_background": "light"
     },
     "output_type": "display_data"
    }
   ],
   "source": [
    "# 查看一下第一张图片：\n",
    "for picture in image_dataset.take(1):\n",
    "    plt.imshow(picture)"
   ]
  },
  {
   "cell_type": "markdown",
   "metadata": {},
   "source": [
    "现在要用到的关键变量：\n",
    "- image_dataset：所有图片数据集；每张图片元素都已转为张量，已做过归一化！\n",
    "- label_dataset：标签数据集；每个元素也都是张量！"
   ]
  },
  {
   "cell_type": "code",
   "execution_count": null,
   "metadata": {},
   "outputs": [],
   "source": []
  },
  {
   "cell_type": "markdown",
   "metadata": {},
   "source": [
    "### 2. 把“图像数据集”与“标签数据集”合并为一个数据集："
   ]
  },
  {
   "cell_type": "code",
   "execution_count": 69,
   "metadata": {},
   "outputs": [
    {
     "data": {
      "text/plain": [
       "<ZipDataset shapes: ((128, 128, 3), ()), types: (tf.float32, tf.int32)>"
      ]
     },
     "execution_count": 69,
     "metadata": {},
     "output_type": "execute_result"
    }
   ],
   "source": [
    "# 用元组：\n",
    "dataset = tf.data.Dataset.zip( (image_dataset, label_dataset) )\n",
    "dataset"
   ]
  },
  {
   "cell_type": "markdown",
   "metadata": {},
   "source": [
    "### 提示：现在有用的4个变量"
   ]
  },
  {
   "cell_type": "code",
   "execution_count": 70,
   "metadata": {},
   "outputs": [],
   "source": [
    "# 图片总数：√\n",
    "image_count\n",
    "\n",
    "# 图片数据集：√\n",
    "image_dataset\n",
    "\n",
    "# 标签数据集：√\n",
    "label_dataset\n",
    "\n",
    "# 总合并数据集：√ —— 后面都只用这个！\n",
    "dataset;"
   ]
  },
  {
   "cell_type": "markdown",
   "metadata": {},
   "source": [
    "### 3. 划分测试集、训练集： "
   ]
  },
  {
   "cell_type": "code",
   "execution_count": 71,
   "metadata": {},
   "outputs": [],
   "source": [
    "# 2:8\n",
    "test_count = int( image_count*0.2 )\n",
    "train_count = image_count - test_count"
   ]
  },
  {
   "cell_type": "code",
   "execution_count": 72,
   "metadata": {},
   "outputs": [
    {
     "data": {
      "text/plain": [
       "(1120, 280)"
      ]
     },
     "execution_count": 72,
     "metadata": {},
     "output_type": "execute_result"
    }
   ],
   "source": [
    "train_count, test_count"
   ]
  },
  {
   "cell_type": "code",
   "execution_count": 75,
   "metadata": {},
   "outputs": [],
   "source": [
    "# skip函数是略过多少，take函数是取多少：\n",
    "train_dataset = dataset.skip( test_count )  # 略过280个，剩下全要\n",
    "test_dataset = dataset.take( test_count )   # 取280个，剩下全不要"
   ]
  },
  {
   "cell_type": "markdown",
   "metadata": {},
   "source": [
    "### 4. 设置batch："
   ]
  },
  {
   "cell_type": "code",
   "execution_count": 76,
   "metadata": {},
   "outputs": [],
   "source": [
    "# 每个epoch下再分32个批次：训练集、测试集的batch都是32。\n",
    "BATCH_SIZE = 32 "
   ]
  },
  {
   "cell_type": "code",
   "execution_count": 78,
   "metadata": {},
   "outputs": [],
   "source": [
    "# 乱序：训练数据！\n",
    "train_dataset = train_dataset.shuffle( buffer_size=train_count ).repeat().batch( BATCH_SIZE ) # 训练数据是乱序的，每次给一个batch的数据\n",
    "# 测试集：只用设计batch大小即可，无需随机！\n",
    "test_dataset = test_dataset.batch( BATCH_SIZE )"
   ]
  },
  {
   "cell_type": "code",
   "execution_count": 42,
   "metadata": {},
   "outputs": [],
   "source": []
  },
  {
   "cell_type": "markdown",
   "metadata": {},
   "source": [
    "### 5. 设置一个epoch里有多少batch："
   ]
  },
  {
   "cell_type": "code",
   "execution_count": 79,
   "metadata": {},
   "outputs": [],
   "source": [
    "# 训练集：每个epoch里有多少个batch\n",
    "steps_per_epoch = train_count // BATCH_SIZE   # 每个epoch有35批\n",
    "# 测试集：\n",
    "validation_steps = test_count // BATCH_SIZE   # 每个epoch有8批"
   ]
  },
  {
   "cell_type": "code",
   "execution_count": 80,
   "metadata": {},
   "outputs": [
    {
     "data": {
      "text/plain": [
       "(35, 8)"
      ]
     },
     "execution_count": 80,
     "metadata": {},
     "output_type": "execute_result"
    }
   ],
   "source": [
    "steps_per_epoch, validation_steps  "
   ]
  },
  {
   "cell_type": "markdown",
   "metadata": {},
   "source": [
    "至此，所有的数据预处理完毕！下面可以开始网络训练。\n",
    "\n",
    "这里总结一下tf.data.Dataset模块干了什么和对应的函数：\n",
    "- 数据读取（图像+标签）：tf.data.Dataset.from_tensor_slices( 路径文件 )\n",
    "- 标签数据集、图像数据集合并：tf.data.Dataset.zip()"
   ]
  },
  {
   "cell_type": "markdown",
   "metadata": {},
   "source": [
    "# 六、网络搭建："
   ]
  },
  {
   "cell_type": "code",
   "execution_count": 85,
   "metadata": {},
   "outputs": [],
   "source": [
    "model = tf.keras.Sequential()   #顺序模型\n",
    "model.add(tf.keras.layers.Conv2D(64, (3, 3), input_shape=(128, 128, 3), activation='relu'))\n",
    "model.add(tf.keras.layers.Conv2D(64, (3, 3), activation='relu'))\n",
    "model.add(tf.keras.layers.MaxPooling2D())\n",
    "\n",
    "model.add(tf.keras.layers.Conv2D(128, (3, 3), activation='relu'))\n",
    "model.add(tf.keras.layers.Conv2D(128, (3, 3), activation='relu'))\n",
    "model.add(tf.keras.layers.MaxPooling2D())\n",
    "\n",
    "model.add(tf.keras.layers.Conv2D(256, (3, 3), activation='relu'))\n",
    "model.add(tf.keras.layers.Conv2D(256, (3, 3), activation='relu'))\n",
    "model.add(tf.keras.layers.MaxPooling2D())\n",
    "\n",
    "model.add(tf.keras.layers.Conv2D(512, (3, 3), activation='relu'))\n",
    "model.add(tf.keras.layers.MaxPooling2D())\n",
    "\n",
    "model.add(tf.keras.layers.Conv2D(1024, (3, 3), activation='relu'))\n",
    "model.add(tf.keras.layers.GlobalAveragePooling2D())  # 最后一个全局均值池化\n",
    "\n",
    "model.add(tf.keras.layers.Dense(1024, activation='relu'))\n",
    "model.add(tf.keras.layers.Dense(256, activation='relu'))\n",
    "model.add(tf.keras.layers.Dense(1, activation='softmax'))  # 2分类\n",
    "\n",
    "# 注：这里运行之后容易报错，注意很可能是网络太深了，导致后面图片不断减少后小于卷积核的大小！"
   ]
  },
  {
   "cell_type": "code",
   "execution_count": 86,
   "metadata": {},
   "outputs": [
    {
     "name": "stdout",
     "output_type": "stream",
     "text": [
      "Model: \"sequential_2\"\n",
      "_________________________________________________________________\n",
      "Layer (type)                 Output Shape              Param #   \n",
      "=================================================================\n",
      "conv2d_17 (Conv2D)           (None, 126, 126, 64)      1792      \n",
      "_________________________________________________________________\n",
      "conv2d_18 (Conv2D)           (None, 124, 124, 64)      36928     \n",
      "_________________________________________________________________\n",
      "max_pooling2d_9 (MaxPooling2 (None, 62, 62, 64)        0         \n",
      "_________________________________________________________________\n",
      "conv2d_19 (Conv2D)           (None, 60, 60, 128)       73856     \n",
      "_________________________________________________________________\n",
      "conv2d_20 (Conv2D)           (None, 58, 58, 128)       147584    \n",
      "_________________________________________________________________\n",
      "max_pooling2d_10 (MaxPooling (None, 29, 29, 128)       0         \n",
      "_________________________________________________________________\n",
      "conv2d_21 (Conv2D)           (None, 27, 27, 256)       295168    \n",
      "_________________________________________________________________\n",
      "conv2d_22 (Conv2D)           (None, 25, 25, 256)       590080    \n",
      "_________________________________________________________________\n",
      "max_pooling2d_11 (MaxPooling (None, 12, 12, 256)       0         \n",
      "_________________________________________________________________\n",
      "conv2d_23 (Conv2D)           (None, 10, 10, 512)       1180160   \n",
      "_________________________________________________________________\n",
      "max_pooling2d_12 (MaxPooling (None, 5, 5, 512)         0         \n",
      "_________________________________________________________________\n",
      "conv2d_24 (Conv2D)           (None, 3, 3, 1024)        4719616   \n",
      "_________________________________________________________________\n",
      "global_average_pooling2d_1 ( (None, 1024)              0         \n",
      "_________________________________________________________________\n",
      "dense_3 (Dense)              (None, 1024)              1049600   \n",
      "_________________________________________________________________\n",
      "dense_4 (Dense)              (None, 256)               262400    \n",
      "_________________________________________________________________\n",
      "dense_5 (Dense)              (None, 2)                 514       \n",
      "=================================================================\n",
      "Total params: 8,357,698\n",
      "Trainable params: 8,357,698\n",
      "Non-trainable params: 0\n",
      "_________________________________________________________________\n"
     ]
    }
   ],
   "source": [
    "model.summary()"
   ]
  },
  {
   "cell_type": "code",
   "execution_count": 87,
   "metadata": {},
   "outputs": [],
   "source": [
    "# 模型编译：\n",
    "model.compile(optimizer = 'adam',\n",
    "              loss='sparse_categorical_crossentropy',\n",
    "              metrics = ['acc']\n",
    ")"
   ]
  },
  {
   "cell_type": "code",
   "execution_count": null,
   "metadata": {},
   "outputs": [
    {
     "name": "stdout",
     "output_type": "stream",
     "text": [
      "Train for 35 steps, validate for 8 steps\n",
      "Epoch 1/30\n"
     ]
    }
   ],
   "source": [
    "history = model.fit( train_dataset, \n",
    "                     epochs = 30, \n",
    "                     steps_per_epoch = steps_per_epoch,   # 训练数据：\n",
    "                     validation_data = test_dataset, \n",
    "                     validation_steps = validation_steps  # 测试数据：\n",
    ")"
   ]
  },
  {
   "cell_type": "code",
   "execution_count": null,
   "metadata": {},
   "outputs": [],
   "source": []
  }
 ],
 "metadata": {
  "kernelspec": {
   "display_name": "Python 3",
   "language": "python",
   "name": "python3"
  },
  "language_info": {
   "codemirror_mode": {
    "name": "ipython",
    "version": 3
   },
   "file_extension": ".py",
   "mimetype": "text/x-python",
   "name": "python",
   "nbconvert_exporter": "python",
   "pygments_lexer": "ipython3",
   "version": "3.7.4"
  }
 },
 "nbformat": 4,
 "nbformat_minor": 2
}
