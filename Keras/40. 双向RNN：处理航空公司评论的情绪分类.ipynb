{
 "cells": [
  {
   "cell_type": "markdown",
   "metadata": {},
   "source": [
    "# 说明："
   ]
  },
  {
   "cell_type": "markdown",
   "metadata": {},
   "source": [
    "数据处理部分完全同文件38，本文件只是在最后的网络搭建进行修改。—— 这里不再重复前面的“数据处理”内容。这里展示网络搭建。"
   ]
  },
  {
   "cell_type": "markdown",
   "metadata": {},
   "source": [
    "# 网络搭建：双向RNN"
   ]
  },
  {
   "cell_type": "code",
   "execution_count": 4,
   "metadata": {},
   "outputs": [],
   "source": [
    "import keras\n",
    "from keras import layers"
   ]
  },
  {
   "cell_type": "code",
   "execution_count": 6,
   "metadata": {},
   "outputs": [],
   "source": [
    "def train_model(maxword, maxlen):\n",
    "    model = keras.Sequential()\n",
    "    \n",
    "    # 前面数据需要的“词向量化”的操作，不算双向RNN的要求：\n",
    "    model.add( layers.Embedding(maxword, 50, input_length=maxlen) )\n",
    "    \n",
    "    # 双向RNN搭建：\n",
    "    model.add( layers.Bidirectional( layers.LSTM(64, dropout = 0.2, recurrent_dropout = 0.5) ) )\n",
    "    \n",
    "    # 外接一个单独的dropout层：非必须\n",
    "    model.add( layers.Dropout(0.2) )\n",
    "    \n",
    "    # 进入全连接层：二分类，1个神经元就够\n",
    "    model.add( layers.Dense(1, activation='sigmoid') )\n",
    "    \n",
    "    # 网络编译也在这个函数内完成：内容没变化\n",
    "    model.compile( optimizer='adam',\n",
    "                   loss = 'binary_crossentropy',\n",
    "                   metrics = ['acc']\n",
    "    ) \n",
    "    return model"
   ]
  },
  {
   "cell_type": "code",
   "execution_count": 7,
   "metadata": {},
   "outputs": [
    {
     "name": "stdout",
     "output_type": "stream",
     "text": [
      "WARNING:tensorflow:From e:\\pycharm\\python374\\lib\\site-packages\\tensorflow\\python\\ops\\nn_impl.py:180: add_dispatch_support.<locals>.wrapper (from tensorflow.python.ops.array_ops) is deprecated and will be removed in a future version.\n",
      "Instructions for updating:\n",
      "Use tf.where in 2.0, which has the same broadcast rule as np.where\n"
     ]
    }
   ],
   "source": [
    "model = train_model(100, 10)  # 传入的数据，自己定"
   ]
  },
  {
   "cell_type": "code",
   "execution_count": null,
   "metadata": {},
   "outputs": [],
   "source": []
  }
 ],
 "metadata": {
  "kernelspec": {
   "display_name": "Python 3",
   "language": "python",
   "name": "python3"
  },
  "language_info": {
   "codemirror_mode": {
    "name": "ipython",
    "version": 3
   },
   "file_extension": ".py",
   "mimetype": "text/x-python",
   "name": "python",
   "nbconvert_exporter": "python",
   "pygments_lexer": "ipython3",
   "version": "3.7.4"
  }
 },
 "nbformat": 4,
 "nbformat_minor": 2
}
