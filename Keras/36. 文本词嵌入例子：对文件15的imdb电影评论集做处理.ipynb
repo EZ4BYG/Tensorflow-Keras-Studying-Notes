{
 "cells": [
  {
   "cell_type": "code",
   "execution_count": 34,
   "metadata": {},
   "outputs": [],
   "source": [
    "import keras\n",
    "import numpy as np\n",
    "import pandas as pd\n",
    "import matplotlib.pyplot as plt"
   ]
  },
  {
   "cell_type": "code",
   "execution_count": 35,
   "metadata": {},
   "outputs": [],
   "source": [
    "data = keras.datasets.imdb"
   ]
  },
  {
   "cell_type": "code",
   "execution_count": 36,
   "metadata": {},
   "outputs": [],
   "source": [
    "max_word = 10000  # 考虑前10000个最常用的单词"
   ]
  },
  {
   "cell_type": "code",
   "execution_count": 37,
   "metadata": {},
   "outputs": [
    {
     "data": {
      "text/plain": [
       "((25000,), (25000,))"
      ]
     },
     "execution_count": 37,
     "metadata": {},
     "output_type": "execute_result"
    }
   ],
   "source": [
    "# x是数据，y是标签\n",
    "(x_train, y_train), (x_test, y_test) = data.load_data(num_words = max_word)\n",
    "\n",
    "x_train.shape, x_test.shape"
   ]
  },
  {
   "cell_type": "code",
   "execution_count": 38,
   "metadata": {},
   "outputs": [
    {
     "data": {
      "text/plain": [
       "([1,\n",
       "  14,\n",
       "  22,\n",
       "  16,\n",
       "  43,\n",
       "  530,\n",
       "  973,\n",
       "  1622,\n",
       "  1385,\n",
       "  65,\n",
       "  458,\n",
       "  4468,\n",
       "  66,\n",
       "  3941,\n",
       "  4,\n",
       "  173,\n",
       "  36,\n",
       "  256,\n",
       "  5,\n",
       "  25,\n",
       "  100,\n",
       "  43,\n",
       "  838,\n",
       "  112,\n",
       "  50,\n",
       "  670,\n",
       "  2,\n",
       "  9,\n",
       "  35,\n",
       "  480,\n",
       "  284,\n",
       "  5,\n",
       "  150,\n",
       "  4,\n",
       "  172,\n",
       "  112,\n",
       "  167,\n",
       "  2,\n",
       "  336,\n",
       "  385,\n",
       "  39,\n",
       "  4,\n",
       "  172,\n",
       "  4536,\n",
       "  1111,\n",
       "  17,\n",
       "  546,\n",
       "  38,\n",
       "  13,\n",
       "  447,\n",
       "  4,\n",
       "  192,\n",
       "  50,\n",
       "  16,\n",
       "  6,\n",
       "  147,\n",
       "  2025,\n",
       "  19,\n",
       "  14,\n",
       "  22,\n",
       "  4,\n",
       "  1920,\n",
       "  4613,\n",
       "  469,\n",
       "  4,\n",
       "  22,\n",
       "  71,\n",
       "  87,\n",
       "  12,\n",
       "  16,\n",
       "  43,\n",
       "  530,\n",
       "  38,\n",
       "  76,\n",
       "  15,\n",
       "  13,\n",
       "  1247,\n",
       "  4,\n",
       "  22,\n",
       "  17,\n",
       "  515,\n",
       "  17,\n",
       "  12,\n",
       "  16,\n",
       "  626,\n",
       "  18,\n",
       "  2,\n",
       "  5,\n",
       "  62,\n",
       "  386,\n",
       "  12,\n",
       "  8,\n",
       "  316,\n",
       "  8,\n",
       "  106,\n",
       "  5,\n",
       "  4,\n",
       "  2223,\n",
       "  5244,\n",
       "  16,\n",
       "  480,\n",
       "  66,\n",
       "  3785,\n",
       "  33,\n",
       "  4,\n",
       "  130,\n",
       "  12,\n",
       "  16,\n",
       "  38,\n",
       "  619,\n",
       "  5,\n",
       "  25,\n",
       "  124,\n",
       "  51,\n",
       "  36,\n",
       "  135,\n",
       "  48,\n",
       "  25,\n",
       "  1415,\n",
       "  33,\n",
       "  6,\n",
       "  22,\n",
       "  12,\n",
       "  215,\n",
       "  28,\n",
       "  77,\n",
       "  52,\n",
       "  5,\n",
       "  14,\n",
       "  407,\n",
       "  16,\n",
       "  82,\n",
       "  2,\n",
       "  8,\n",
       "  4,\n",
       "  107,\n",
       "  117,\n",
       "  5952,\n",
       "  15,\n",
       "  256,\n",
       "  4,\n",
       "  2,\n",
       "  7,\n",
       "  3766,\n",
       "  5,\n",
       "  723,\n",
       "  36,\n",
       "  71,\n",
       "  43,\n",
       "  530,\n",
       "  476,\n",
       "  26,\n",
       "  400,\n",
       "  317,\n",
       "  46,\n",
       "  7,\n",
       "  4,\n",
       "  2,\n",
       "  1029,\n",
       "  13,\n",
       "  104,\n",
       "  88,\n",
       "  4,\n",
       "  381,\n",
       "  15,\n",
       "  297,\n",
       "  98,\n",
       "  32,\n",
       "  2071,\n",
       "  56,\n",
       "  26,\n",
       "  141,\n",
       "  6,\n",
       "  194,\n",
       "  7486,\n",
       "  18,\n",
       "  4,\n",
       "  226,\n",
       "  22,\n",
       "  21,\n",
       "  134,\n",
       "  476,\n",
       "  26,\n",
       "  480,\n",
       "  5,\n",
       "  144,\n",
       "  30,\n",
       "  5535,\n",
       "  18,\n",
       "  51,\n",
       "  36,\n",
       "  28,\n",
       "  224,\n",
       "  92,\n",
       "  25,\n",
       "  104,\n",
       "  4,\n",
       "  226,\n",
       "  65,\n",
       "  16,\n",
       "  38,\n",
       "  1334,\n",
       "  88,\n",
       "  12,\n",
       "  16,\n",
       "  283,\n",
       "  5,\n",
       "  16,\n",
       "  4472,\n",
       "  113,\n",
       "  103,\n",
       "  32,\n",
       "  15,\n",
       "  16,\n",
       "  5345,\n",
       "  19,\n",
       "  178,\n",
       "  32],\n",
       " 218)"
      ]
     },
     "execution_count": 38,
     "metadata": {},
     "output_type": "execute_result"
    }
   ],
   "source": [
    "x_train[0], len(x_train[0])"
   ]
  },
  {
   "cell_type": "markdown",
   "metadata": {},
   "source": [
    "# 词嵌入处理："
   ]
  },
  {
   "cell_type": "code",
   "execution_count": 39,
   "metadata": {},
   "outputs": [],
   "source": [
    "# 把长度不同的评论(训练+测试)，填充为长度相同：\n",
    "maxlen = 200  # 填充的最大长度\n",
    "x_train = keras.preprocessing.sequence.pad_sequences(x_train, maxlen=maxlen)\n",
    "x_test = keras.preprocessing.sequence.pad_sequences(x_test, maxlen=maxlen)"
   ]
  },
  {
   "cell_type": "code",
   "execution_count": 40,
   "metadata": {},
   "outputs": [
    {
     "data": {
      "text/plain": [
       "((25000, 200), (25000, 200))"
      ]
     },
     "execution_count": 40,
     "metadata": {},
     "output_type": "execute_result"
    }
   ],
   "source": [
    "x_train.shape, x_test.shape   # 每一句话，又转为一个长度为200的一维数组里"
   ]
  },
  {
   "cell_type": "code",
   "execution_count": 41,
   "metadata": {},
   "outputs": [
    {
     "data": {
      "text/plain": [
       "(array([   5,   25,  100,   43,  838,  112,   50,  670,    2,    9,   35,\n",
       "         480,  284,    5,  150,    4,  172,  112,  167,    2,  336,  385,\n",
       "          39,    4,  172, 4536, 1111,   17,  546,   38,   13,  447,    4,\n",
       "         192,   50,   16,    6,  147, 2025,   19,   14,   22,    4, 1920,\n",
       "        4613,  469,    4,   22,   71,   87,   12,   16,   43,  530,   38,\n",
       "          76,   15,   13, 1247,    4,   22,   17,  515,   17,   12,   16,\n",
       "         626,   18,    2,    5,   62,  386,   12,    8,  316,    8,  106,\n",
       "           5,    4, 2223, 5244,   16,  480,   66, 3785,   33,    4,  130,\n",
       "          12,   16,   38,  619,    5,   25,  124,   51,   36,  135,   48,\n",
       "          25, 1415,   33,    6,   22,   12,  215,   28,   77,   52,    5,\n",
       "          14,  407,   16,   82,    2,    8,    4,  107,  117, 5952,   15,\n",
       "         256,    4,    2,    7, 3766,    5,  723,   36,   71,   43,  530,\n",
       "         476,   26,  400,  317,   46,    7,    4,    2, 1029,   13,  104,\n",
       "          88,    4,  381,   15,  297,   98,   32, 2071,   56,   26,  141,\n",
       "           6,  194, 7486,   18,    4,  226,   22,   21,  134,  476,   26,\n",
       "         480,    5,  144,   30, 5535,   18,   51,   36,   28,  224,   92,\n",
       "          25,  104,    4,  226,   65,   16,   38, 1334,   88,   12,   16,\n",
       "         283,    5,   16, 4472,  113,  103,   32,   15,   16, 5345,   19,\n",
       "         178,   32]), 200)"
      ]
     },
     "execution_count": 41,
     "metadata": {},
     "output_type": "execute_result"
    }
   ],
   "source": [
    "x_train[0], len(x_train[0])"
   ]
  },
  {
   "cell_type": "markdown",
   "metadata": {},
   "source": [
    "# 模型创建："
   ]
  },
  {
   "cell_type": "code",
   "execution_count": 42,
   "metadata": {},
   "outputs": [],
   "source": [
    "model = keras.Sequential()"
   ]
  },
  {
   "cell_type": "code",
   "execution_count": 43,
   "metadata": {},
   "outputs": [],
   "source": [
    "from keras import layers"
   ]
  },
  {
   "cell_type": "code",
   "execution_count": 44,
   "metadata": {},
   "outputs": [],
   "source": [
    "# 先加入一个“词嵌入层”：把每一个“单词（注意这里是每个单词，上面是每句话）”映射到一个高维向量中。\n",
    "# 原先有10000个单词，每个单词映射为一个长度为16的向量；input_length是输入数据的长度（输入的虽然是一句话，但其实就是200个单词）\n",
    "model.add( layers.Embedding(10000, 16, input_length=maxlen) )\n",
    "# 经过这一层之后，输出的数据应该变成了三维数据：[10000, 200, 16] —— 200是有200个单词，16是每个单词转换后的长度为16的向量！"
   ]
  },
  {
   "cell_type": "code",
   "execution_count": 45,
   "metadata": {},
   "outputs": [
    {
     "data": {
      "text/plain": [
       "(None, 200, 16)"
      ]
     },
     "execution_count": 45,
     "metadata": {},
     "output_type": "execute_result"
    }
   ],
   "source": [
    "model.output_shape  "
   ]
  },
  {
   "cell_type": "code",
   "execution_count": 46,
   "metadata": {},
   "outputs": [],
   "source": [
    "# 上一层是一个三维数据，要想放入Dense层就需要Flatten()\n",
    "model.add( layers.Flatten() )\n",
    "model.add( layers.Dense(128, activation='relu') )\n",
    "model.add( layers.Dense(1, activation='sigmoid') )  # 二分类"
   ]
  },
  {
   "cell_type": "code",
   "execution_count": 47,
   "metadata": {},
   "outputs": [
    {
     "name": "stdout",
     "output_type": "stream",
     "text": [
      "Model: \"sequential_2\"\n",
      "_________________________________________________________________\n",
      "Layer (type)                 Output Shape              Param #   \n",
      "=================================================================\n",
      "embedding_2 (Embedding)      (None, 200, 16)           160000    \n",
      "_________________________________________________________________\n",
      "flatten_1 (Flatten)          (None, 3200)              0         \n",
      "_________________________________________________________________\n",
      "dense_1 (Dense)              (None, 128)               409728    \n",
      "_________________________________________________________________\n",
      "dense_2 (Dense)              (None, 1)                 129       \n",
      "=================================================================\n",
      "Total params: 569,857\n",
      "Trainable params: 569,857\n",
      "Non-trainable params: 0\n",
      "_________________________________________________________________\n"
     ]
    }
   ],
   "source": [
    "model.summary()"
   ]
  },
  {
   "cell_type": "code",
   "execution_count": 48,
   "metadata": {},
   "outputs": [
    {
     "name": "stdout",
     "output_type": "stream",
     "text": [
      "WARNING:tensorflow:From e:\\pycharm\\python374\\lib\\site-packages\\tensorflow\\python\\ops\\nn_impl.py:180: add_dispatch_support.<locals>.wrapper (from tensorflow.python.ops.array_ops) is deprecated and will be removed in a future version.\n",
      "Instructions for updating:\n",
      "Use tf.where in 2.0, which has the same broadcast rule as np.where\n"
     ]
    }
   ],
   "source": [
    "model.compile( optimizer = 'adam',\n",
    "               loss = 'binary_crossentropy',\n",
    "               metrics = ['acc']  # 因为metrics里面可以算很多东西，所以用列表\n",
    ")"
   ]
  },
  {
   "cell_type": "code",
   "execution_count": 49,
   "metadata": {},
   "outputs": [
    {
     "name": "stdout",
     "output_type": "stream",
     "text": [
      "WARNING:tensorflow:From e:\\pycharm\\python374\\lib\\site-packages\\keras\\backend\\tensorflow_backend.py:422: The name tf.global_variables is deprecated. Please use tf.compat.v1.global_variables instead.\n",
      "\n",
      "Train on 25000 samples, validate on 25000 samples\n",
      "Epoch 1/15\n",
      "25000/25000 [==============================] - 2s 95us/step - loss: 0.5335 - acc: 0.7096 - val_loss: 0.3263 - val_acc: 0.8561\n",
      "Epoch 2/15\n",
      "25000/25000 [==============================] - 2s 72us/step - loss: 0.2218 - acc: 0.9124 - val_loss: 0.2939 - val_acc: 0.8754\n",
      "Epoch 3/15\n",
      "25000/25000 [==============================] - 2s 74us/step - loss: 0.1042 - acc: 0.9681 - val_loss: 0.3364 - val_acc: 0.8674\n",
      "Epoch 4/15\n",
      "25000/25000 [==============================] - 2s 76us/step - loss: 0.0368 - acc: 0.9934 - val_loss: 0.3955 - val_acc: 0.8662\n",
      "Epoch 5/15\n",
      "25000/25000 [==============================] - 2s 82us/step - loss: 0.0123 - acc: 0.9990 - val_loss: 0.4381 - val_acc: 0.8654\n",
      "Epoch 6/15\n",
      "25000/25000 [==============================] - 2s 75us/step - loss: 0.0052 - acc: 0.9998 - val_loss: 0.4757 - val_acc: 0.8634\n",
      "Epoch 7/15\n",
      "25000/25000 [==============================] - 2s 68us/step - loss: 0.0028 - acc: 0.9999 - val_loss: 0.4992 - val_acc: 0.8655\n",
      "Epoch 8/15\n",
      "25000/25000 [==============================] - 2s 73us/step - loss: 0.0017 - acc: 1.0000 - val_loss: 0.5215 - val_acc: 0.8654\n",
      "Epoch 9/15\n",
      "25000/25000 [==============================] - 2s 66us/step - loss: 0.0012 - acc: 1.0000 - val_loss: 0.5396 - val_acc: 0.8651\n",
      "Epoch 10/15\n",
      "25000/25000 [==============================] - 2s 67us/step - loss: 9.0242e-04 - acc: 1.0000 - val_loss: 0.5559 - val_acc: 0.8647\n",
      "Epoch 11/15\n",
      "25000/25000 [==============================] - 2s 77us/step - loss: 7.0191e-04 - acc: 1.0000 - val_loss: 0.5703 - val_acc: 0.8645\n",
      "Epoch 12/15\n",
      "25000/25000 [==============================] - 2s 74us/step - loss: 5.5897e-04 - acc: 1.0000 - val_loss: 0.5836 - val_acc: 0.8640\n",
      "Epoch 13/15\n",
      "25000/25000 [==============================] - 2s 73us/step - loss: 4.5663e-04 - acc: 1.0000 - val_loss: 0.5955 - val_acc: 0.8641\n",
      "Epoch 14/15\n",
      "25000/25000 [==============================] - 2s 71us/step - loss: 3.7856e-04 - acc: 1.0000 - val_loss: 0.6066 - val_acc: 0.8643\n",
      "Epoch 15/15\n",
      "25000/25000 [==============================] - 2s 73us/step - loss: 3.2051e-04 - acc: 1.0000 - val_loss: 0.6167 - val_acc: 0.8644\n"
     ]
    }
   ],
   "source": [
    "history = model.fit( x_train, y_train, epochs = 15, batch_size = 256, validation_data = (x_test, y_test) )"
   ]
  },
  {
   "cell_type": "code",
   "execution_count": 50,
   "metadata": {},
   "outputs": [
    {
     "data": {
      "text/plain": [
       "<matplotlib.legend.Legend at 0x2636add5508>"
      ]
     },
     "execution_count": 50,
     "metadata": {},
     "output_type": "execute_result"
    },
    {
     "data": {
      "image/png": "[encoded data removed]",
      "text/plain": [
       "<Figure size 432x288 with 1 Axes>"
      ]
     },
     "metadata": {
      "needs_background": "light"
     },
     "output_type": "display_data"
    }
   ],
   "source": [
    "import matplotlib.pyplot as plt\n",
    "plt.rcParams['font.sans-serif'] = ['SimHei']  # 步骤一（替换sans-serif字体）\n",
    "plt.rcParams['axes.unicode_minus'] = False    # 步骤二（解决坐标轴负数的负号显示问题）\n",
    "# 训练精度与测试精度的对比图：\n",
    "plt.plot( history.epoch, history.history.get('acc'), c = 'b', label = '训练精度' )\n",
    "plt.plot( history.epoch, history.history.get('val_acc'), c = 'r', label = '测试精度' )\n",
    "plt.ylim( ymin=0.8 )\n",
    "plt.legend()"
   ]
  },
  {
   "cell_type": "code",
   "execution_count": null,
   "metadata": {},
   "outputs": [],
   "source": []
  }
 ],
 "metadata": {
  "kernelspec": {
   "display_name": "Python 3",
   "language": "python",
   "name": "python3"
  },
  "language_info": {
   "codemirror_mode": {
    "name": "ipython",
    "version": 3
   },
   "file_extension": ".py",
   "mimetype": "text/x-python",
   "name": "python",
   "nbconvert_exporter": "python",
   "pygments_lexer": "ipython3",
   "version": "3.7.4"
  }
 },
 "nbformat": 4,
 "nbformat_minor": 2
}
