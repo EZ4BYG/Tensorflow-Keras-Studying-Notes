{
 "cells": [
  {
   "cell_type": "markdown",
   "metadata": {},
   "source": [
    "# 说明："
   ]
  },
  {
   "cell_type": "markdown",
   "metadata": {},
   "source": [
    "（1）Keras支持RNN网络的各种变体，且都是以“层”的形式使用：\n",
    "- layers.LSTM\n",
    "- layers.GRU\n",
    "\n",
    "（2）输入的是：一个三维数据；可分下面两种情况：\n",
    "- 评论数据：（批次，一段话包含的单词总数，每个单词转换为词嵌入表示的向量长度）\n",
    "- 天气预测： (批次，需要使用前面的多少天，每天当中的各个影响特征(如风向、含水量、云密度值等) )\n",
    "\n",
    "（3）什么任务会用RNN网络：\n",
    "- 文本评价问题：数据是一段话，判断这一段话是褒是贬；这句话总体的态度，肯定“从头读到尾”逐渐“**综合**”判断出来的（因为有些人会欲扬先抑、欲抑先扬等说话方式）。即：一句话整体的态度，是前后内容综合联系判断的结果。\n",
    "- 序列数据问题：数据还是像回归问题那种“多特征”的数据，但是这些“特征 + 结果”前面的数据会影响后面的结果！此时再只用普通的回归就学不会前面数据的对后面数据影响的这点。\n",
    "\n",
    "综上：RNN网络处理有“**前面对后面有影响**”的数据(文本评论)或结果(序列数据)。—— 至于到底是“前面多少个”对后面有影响，LSTM会自己处理。"
   ]
  },
  {
   "cell_type": "markdown",
   "metadata": {},
   "source": [
    "# 数据预处理：和前面36一样"
   ]
  },
  {
   "cell_type": "code",
   "execution_count": 1,
   "metadata": {},
   "outputs": [
    {
     "name": "stderr",
     "output_type": "stream",
     "text": [
      "Using TensorFlow backend.\n"
     ]
    }
   ],
   "source": [
    "import keras\n",
    "import numpy as np\n",
    "import pandas as pd\n",
    "import matplotlib.pyplot as plt"
   ]
  },
  {
   "cell_type": "code",
   "execution_count": 2,
   "metadata": {},
   "outputs": [],
   "source": [
    "data = keras.datasets.imdb"
   ]
  },
  {
   "cell_type": "code",
   "execution_count": 3,
   "metadata": {},
   "outputs": [],
   "source": [
    "max_word = 10000  # 考虑前10000个最常用的单词\n",
    "# x是数据，y是标签\n",
    "(x_train, y_train), (x_test, y_test) = data.load_data(num_words = max_word)"
   ]
  },
  {
   "cell_type": "markdown",
   "metadata": {},
   "source": [
    "### 词嵌入处理： "
   ]
  },
  {
   "cell_type": "code",
   "execution_count": 4,
   "metadata": {},
   "outputs": [
    {
     "data": {
      "text/plain": [
       "((25000, 200), (25000, 200))"
      ]
     },
     "execution_count": 4,
     "metadata": {},
     "output_type": "execute_result"
    }
   ],
   "source": [
    "# 把长度不同的评论(训练+测试)，填充为长度相同：\n",
    "maxlen = 200  # 填充的最大长度\n",
    "x_train = keras.preprocessing.sequence.pad_sequences(x_train, maxlen=maxlen)\n",
    "x_test = keras.preprocessing.sequence.pad_sequences(x_test, maxlen=maxlen)\n",
    "\n",
    "x_train.shape, x_test.shape   # 每一句话，又转为一个长度为200的一维数组里"
   ]
  },
  {
   "cell_type": "markdown",
   "metadata": {},
   "source": [
    "# 模型搭建："
   ]
  },
  {
   "cell_type": "code",
   "execution_count": 5,
   "metadata": {},
   "outputs": [],
   "source": [
    "model = keras.Sequential()"
   ]
  },
  {
   "cell_type": "code",
   "execution_count": 6,
   "metadata": {},
   "outputs": [],
   "source": [
    "from keras import layers"
   ]
  },
  {
   "cell_type": "code",
   "execution_count": 7,
   "metadata": {},
   "outputs": [],
   "source": [
    "model.add( layers.Embedding(10000, 20, input_length=maxlen) )  # 词嵌入表示"
   ]
  },
  {
   "cell_type": "code",
   "execution_count": 8,
   "metadata": {},
   "outputs": [
    {
     "data": {
      "text/plain": [
       "((None, 200), (None, 200, 20))"
      ]
     },
     "execution_count": 8,
     "metadata": {},
     "output_type": "execute_result"
    }
   ],
   "source": [
    "# 查看一下这一层的输入是什么形状、输出是什么形状：\n",
    "model.input_shape, model.output_shape"
   ]
  },
  {
   "cell_type": "markdown",
   "metadata": {},
   "source": [
    "### 加入LSTM网络："
   ]
  },
  {
   "cell_type": "code",
   "execution_count": 10,
   "metadata": {},
   "outputs": [],
   "source": [
    "# LSTM一般只用自定“神经元数”即可，其他用默认的就很好！\n",
    "model.add( layers.LSTM(128) )"
   ]
  },
  {
   "cell_type": "code",
   "execution_count": 11,
   "metadata": {},
   "outputs": [
    {
     "data": {
      "text/plain": [
       "(None, 128)"
      ]
     },
     "execution_count": 11,
     "metadata": {},
     "output_type": "execute_result"
    }
   ],
   "source": [
    "# 查看一下该层的输出：一个二维的(批次，结果) —— 结果就是对那“一段话中所有单词综合循环分析”后得出的“一个结论”\n",
    "# 128个神经元，就是128个结论；所以输出是（批次，128）\n",
    "model.output_shape"
   ]
  },
  {
   "cell_type": "markdown",
   "metadata": {},
   "source": [
    "### 加入全连接层：仍是起“特征汇总”的作用"
   ]
  },
  {
   "cell_type": "code",
   "execution_count": 12,
   "metadata": {},
   "outputs": [],
   "source": [
    "model.add( layers.Dense(64, activation='relu') )\n",
    "model.add( layers.Dense(1, activation='sigmoid') )   #  二分类 "
   ]
  },
  {
   "cell_type": "code",
   "execution_count": 13,
   "metadata": {},
   "outputs": [
    {
     "name": "stdout",
     "output_type": "stream",
     "text": [
      "WARNING:tensorflow:From e:\\pycharm\\python374\\lib\\site-packages\\tensorflow\\python\\ops\\nn_impl.py:180: add_dispatch_support.<locals>.wrapper (from tensorflow.python.ops.array_ops) is deprecated and will be removed in a future version.\n",
      "Instructions for updating:\n",
      "Use tf.where in 2.0, which has the same broadcast rule as np.where\n"
     ]
    }
   ],
   "source": [
    "model.compile( optimizer = 'adam',\n",
    "               loss = 'binary_crossentropy',\n",
    "               metrics = ['acc']  # 因为metrics里面可以算很多东西，所以用列表\n",
    ")"
   ]
  },
  {
   "cell_type": "code",
   "execution_count": 14,
   "metadata": {},
   "outputs": [
    {
     "name": "stdout",
     "output_type": "stream",
     "text": [
      "WARNING:tensorflow:From e:\\pycharm\\python374\\lib\\site-packages\\keras\\backend\\tensorflow_backend.py:422: The name tf.global_variables is deprecated. Please use tf.compat.v1.global_variables instead.\n",
      "\n",
      "Train on 25000 samples, validate on 25000 samples\n",
      "Epoch 1/5\n",
      "25000/25000 [==============================] - 66s 3ms/step - loss: 0.6162 - acc: 0.6905 - val_loss: 0.4237 - val_acc: 0.8097\n",
      "Epoch 2/5\n",
      "25000/25000 [==============================] - 66s 3ms/step - loss: 0.3109 - acc: 0.8712 - val_loss: 0.3142 - val_acc: 0.8666\n",
      "Epoch 3/5\n",
      "25000/25000 [==============================] - 65s 3ms/step - loss: 0.2052 - acc: 0.9217 - val_loss: 0.3091 - val_acc: 0.8696\n",
      "Epoch 4/5\n",
      "25000/25000 [==============================] - 66s 3ms/step - loss: 0.1682 - acc: 0.9405 - val_loss: 0.3244 - val_acc: 0.8670\n",
      "Epoch 5/5\n",
      "25000/25000 [==============================] - 66s 3ms/step - loss: 0.1372 - acc: 0.9518 - val_loss: 0.4046 - val_acc: 0.8578\n"
     ]
    }
   ],
   "source": [
    "history = model.fit( x_train, y_train, epochs = 5, batch_size = 256, validation_data = (x_test, y_test) )"
   ]
  },
  {
   "cell_type": "code",
   "execution_count": 15,
   "metadata": {},
   "outputs": [
    {
     "data": {
      "text/plain": [
       "<matplotlib.legend.Legend at 0x1a687013348>"
      ]
     },
     "execution_count": 15,
     "metadata": {},
     "output_type": "execute_result"
    },
    {
     "data": {
      "image/png": "[encoded data removed]",
      "text/plain": [
       "<Figure size 432x288 with 1 Axes>"
      ]
     },
     "metadata": {
      "needs_background": "light"
     },
     "output_type": "display_data"
    }
   ],
   "source": [
    "import matplotlib.pyplot as plt\n",
    "plt.rcParams['font.sans-serif'] = ['SimHei']  # 步骤一（替换sans-serif字体）\n",
    "plt.rcParams['axes.unicode_minus'] = False    # 步骤二（解决坐标轴负数的负号显示问题）\n",
    "# 训练精度与测试精度的对比图：\n",
    "plt.plot( history.epoch, history.history.get('acc'), c = 'b', label = '训练精度' )\n",
    "plt.plot( history.epoch, history.history.get('val_acc'), c = 'r', label = '测试精度' )\n",
    "plt.ylim( ymin=0.8 )\n",
    "plt.legend()"
   ]
  },
  {
   "cell_type": "code",
   "execution_count": null,
   "metadata": {},
   "outputs": [],
   "source": []
  }
 ],
 "metadata": {
  "kernelspec": {
   "display_name": "Python 3",
   "language": "python",
   "name": "python3"
  },
  "language_info": {
   "codemirror_mode": {
    "name": "ipython",
    "version": 3
   },
   "file_extension": ".py",
   "mimetype": "text/x-python",
   "name": "python",
   "nbconvert_exporter": "python",
   "pygments_lexer": "ipython3",
   "version": "3.7.4"
  }
 },
 "nbformat": 4,
 "nbformat_minor": 2
}
