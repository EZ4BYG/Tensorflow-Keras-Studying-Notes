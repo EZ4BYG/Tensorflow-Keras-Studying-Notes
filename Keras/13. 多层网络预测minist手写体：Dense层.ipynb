{
 "cells": [
  {
   "cell_type": "code",
   "execution_count": 1,
   "metadata": {},
   "outputs": [
    {
     "name": "stderr",
     "output_type": "stream",
     "text": [
      "Using TensorFlow backend.\n"
     ]
    }
   ],
   "source": [
    "import keras\n",
    "import numpy as np\n",
    "import pandas as pd\n",
    "import matplotlib.pyplot as plt"
   ]
  },
  {
   "cell_type": "code",
   "execution_count": 2,
   "metadata": {},
   "outputs": [],
   "source": [
    "import keras.datasets.mnist as mnist"
   ]
  },
  {
   "cell_type": "code",
   "execution_count": 3,
   "metadata": {},
   "outputs": [],
   "source": [
    "(train_image, train_label), (test_image, test_label) = mnist.load_data() "
   ]
  },
  {
   "cell_type": "code",
   "execution_count": 13,
   "metadata": {},
   "outputs": [
    {
     "data": {
      "text/plain": [
       "((60000, 28, 28), (60000, 1), (10000, 28, 28), (10000,))"
      ]
     },
     "execution_count": 13,
     "metadata": {},
     "output_type": "execute_result"
    }
   ],
   "source": [
    "# 测试：\n",
    "train_label = train_label.reshape(60000,1); test_lable = test_label.reshape(10000,1)\n",
    "train_image.shape, train_label.shape, test_image.shape, test_label.shape"
   ]
  },
  {
   "cell_type": "code",
   "execution_count": 14,
   "metadata": {},
   "outputs": [
    {
     "data": {
      "text/plain": [
       "(<matplotlib.image.AxesImage at 0x1f2b188ee88>, array([5], dtype=uint8))"
      ]
     },
     "execution_count": 14,
     "metadata": {},
     "output_type": "execute_result"
    },
    {
     "data": {
      "image/png": "[encoded data removed]",
      "text/plain": [
       "<Figure size 432x288 with 1 Axes>"
      ]
     },
     "metadata": {
      "needs_background": "light"
     },
     "output_type": "display_data"
    }
   ],
   "source": [
    "plt.imshow(train_image[0]), train_label[0]"
   ]
  },
  {
   "cell_type": "markdown",
   "metadata": {},
   "source": [
    "# 多层网络搭建"
   ]
  },
  {
   "cell_type": "code",
   "execution_count": 15,
   "metadata": {},
   "outputs": [],
   "source": [
    "model = keras.Sequential()"
   ]
  },
  {
   "cell_type": "code",
   "execution_count": 16,
   "metadata": {},
   "outputs": [],
   "source": [
    "from keras import layers"
   ]
  },
  {
   "cell_type": "code",
   "execution_count": 17,
   "metadata": {},
   "outputs": [],
   "source": [
    "# 因为现在是60000个二维数组，而Dense全连接层要求的数据总体是二维的，因此首先要把每个二维数组“展平”！\n",
    "# 28 x 28 = 784 —— 展平后相当于看成“784”个特征x即可（不展平，用二维数组其实也是这么多特征） \n",
    "\n",
    "# keras中展平操作，把它也当作了一层！很方便！\n",
    "# 展平层不需要多余的操作，它展完后也相当于一层，只不过这一层没有需要训练的参数。 —— 必须是训完完毕后才能查看model.summary()\n",
    "\n",
    "model.add( layers.Flatten() )  # (60000, 28, 28) —— (60000, 784)\n",
    "model.add( layers.Dense(64, activation = 'relu') )\n",
    "model.add( layers.Dense(10, activation = 'softmax') )"
   ]
  },
  {
   "cell_type": "code",
   "execution_count": 18,
   "metadata": {},
   "outputs": [],
   "source": [
    "model.compile( optimizer = 'adam',\n",
    "               loss = 'sparse_categorical_crossentropy',\n",
    "               metrics = ['acc']\n",
    ")"
   ]
  },
  {
   "cell_type": "code",
   "execution_count": 19,
   "metadata": {
    "scrolled": true
   },
   "outputs": [
    {
     "name": "stdout",
     "output_type": "stream",
     "text": [
      "Train on 60000 samples, validate on 10000 samples\n",
      "Epoch 1/5\n",
      "60000/60000 [==============================] - 1s 12us/step - loss: 17.6744 - acc: 0.7346 - val_loss: 3.4199 - val_acc: 0.8456\n",
      "Epoch 2/5\n",
      "60000/60000 [==============================] - 1s 10us/step - loss: 2.4568 - acc: 0.8498 - val_loss: 1.6864 - val_acc: 0.8397\n",
      "Epoch 3/5\n",
      "60000/60000 [==============================] - 1s 10us/step - loss: 1.3076 - acc: 0.8434 - val_loss: 1.0778 - val_acc: 0.8440\n",
      "Epoch 4/5\n",
      "60000/60000 [==============================] - 1s 10us/step - loss: 0.8762 - acc: 0.8581 - val_loss: 0.8347 - val_acc: 0.8543\n",
      "Epoch 5/5\n",
      "60000/60000 [==============================] - 1s 10us/step - loss: 0.6689 - acc: 0.8760 - val_loss: 0.7332 - val_acc: 0.8771\n"
     ]
    }
   ],
   "source": [
    "# 当训练数据很大时，不宜一次性把所有数据都放入，否则内存很可能会溢出！\n",
    "# 所以在每一轮训练中，再细分为多个批次；例如本例中60000个训练数据，再一轮训练中就要再分 77 次训练完！\n",
    "\n",
    "# 说明：理论上一次性把所有训练集一起放入效果最好！这样会很有效学习图片/数据间的共性！避免把某些图的特性当关键信息学习了。\n",
    "#       但训练样本太多、特征数x太多时，一次性放入会很占内存；\n",
    "#       因此，batch_size每批次放入的数据量“不能太小”！\n",
    "history = model.fit( train_image, train_label, epochs = 5, batch_size = 512, validation_data=(test_image, test_label) )"
   ]
  },
  {
   "cell_type": "code",
   "execution_count": 11,
   "metadata": {},
   "outputs": [
    {
     "data": {
      "text/plain": [
       "keras.callbacks.callbacks.History"
      ]
     },
     "execution_count": 11,
     "metadata": {},
     "output_type": "execute_result"
    }
   ],
   "source": [
    "type(history)"
   ]
  },
  {
   "cell_type": "code",
   "execution_count": 21,
   "metadata": {},
   "outputs": [
    {
     "name": "stdout",
     "output_type": "stream",
     "text": [
      "Model: \"sequential_1\"\n",
      "_________________________________________________________________\n",
      "Layer (type)                 Output Shape              Param #   \n",
      "=================================================================\n",
      "flatten_1 (Flatten)          (None, 784)               0         \n",
      "_________________________________________________________________\n",
      "dense_1 (Dense)              (None, 64)                50240     \n",
      "_________________________________________________________________\n",
      "dense_2 (Dense)              (None, 10)                650       \n",
      "=================================================================\n",
      "Total params: 50,890\n",
      "Trainable params: 50,890\n",
      "Non-trainable params: 0\n",
      "_________________________________________________________________\n"
     ]
    }
   ],
   "source": [
    "model.summary()"
   ]
  },
  {
   "cell_type": "code",
   "execution_count": 22,
   "metadata": {},
   "outputs": [
    {
     "name": "stdout",
     "output_type": "stream",
     "text": [
      "60000/60000 [==============================] - 1s 17us/step\n"
     ]
    },
    {
     "data": {
      "text/plain": [
       "[0.03537158152853826, 0.9889333248138428]"
      ]
     },
     "execution_count": 22,
     "metadata": {},
     "output_type": "execute_result"
    }
   ],
   "source": [
    "model.evaluate(train_image, train_label)"
   ]
  },
  {
   "cell_type": "code",
   "execution_count": 23,
   "metadata": {},
   "outputs": [
    {
     "name": "stdout",
     "output_type": "stream",
     "text": [
      "10000/10000 [==============================] - 0s 20us/step\n"
     ]
    },
    {
     "data": {
      "text/plain": [
       "[0.4573480314676113, 0.9564999938011169]"
      ]
     },
     "execution_count": 23,
     "metadata": {},
     "output_type": "execute_result"
    }
   ],
   "source": [
    "model.evaluate(test_image, test_label)"
   ]
  },
  {
   "cell_type": "code",
   "execution_count": 24,
   "metadata": {},
   "outputs": [
    {
     "data": {
      "text/plain": [
       "dict_keys(['val_loss', 'val_acc', 'loss', 'acc'])"
      ]
     },
     "execution_count": 24,
     "metadata": {},
     "output_type": "execute_result"
    }
   ],
   "source": [
    "history.history.keys()"
   ]
  },
  {
   "cell_type": "code",
   "execution_count": 26,
   "metadata": {},
   "outputs": [
    {
     "data": {
      "text/plain": [
       "<matplotlib.legend.Legend at 0x27b219e6e88>"
      ]
     },
     "execution_count": 26,
     "metadata": {},
     "output_type": "execute_result"
    },
    {
     "data": {
      "image/png": "[encoded data removed]",
      "text/plain": [
       "<Figure size 432x288 with 1 Axes>"
      ]
     },
     "metadata": {
      "needs_background": "light"
     },
     "output_type": "display_data"
    }
   ],
   "source": [
    "plt.rcParams['font.sans-serif'] = ['SimHei']  # 步骤一（替换sans-serif字体）\n",
    "plt.rcParams['axes.unicode_minus'] = False    # 步骤二（解决坐标轴负数的负号显示问题）\n",
    "# 训练精度与测试精度的对比图：\n",
    "plt.plot( history.epoch, history.history.get('acc'), c = 'b', label = '训练精度' )\n",
    "plt.plot( history.epoch, history.history.get('val_acc'), c = 'r', label = '测试精度' )\n",
    "plt.ylim( ymin=0.8 )\n",
    "plt.legend()"
   ]
  },
  {
   "cell_type": "markdown",
   "metadata": {},
   "source": [
    "虽然看上去精度都很高，但其实很明显有点“过拟合”存在：二者精度之间有差距，且没有缩小差距的趋势！所以我们要用“总原则”来调整网络：\n",
    "- 先进一步提高模型对训练数据的拟合能力，即提高模型预测的“上限”！—— 过拟合效果进一步加大；\n",
    "- 再使用dropout、正则化等策略降低过拟合；\n",
    "- 然后再进一步增大网络容量，重复多次上述操作。\n",
    "\n",
    "注意：每一次使用dropout后，由于每次训练网络都有很大单元死掉，因此总训练轮次epochs要比原始网络多！"
   ]
  },
  {
   "cell_type": "code",
   "execution_count": null,
   "metadata": {},
   "outputs": [],
   "source": []
  }
 ],
 "metadata": {
  "kernelspec": {
   "display_name": "Python 3",
   "language": "python",
   "name": "python3"
  },
  "language_info": {
   "codemirror_mode": {
    "name": "ipython",
    "version": 3
   },
   "file_extension": ".py",
   "mimetype": "text/x-python",
   "name": "python",
   "nbconvert_exporter": "python",
   "pygments_lexer": "ipython3",
   "version": "3.7.4"
  }
 },
 "nbformat": 4,
 "nbformat_minor": 2
}
