{
 "cells": [
  {
   "cell_type": "markdown",
   "metadata": {},
   "source": [
    "# 说明："
   ]
  },
  {
   "cell_type": "markdown",
   "metadata": {},
   "source": [
    "多个“大类”的输出：1. 颜色；2. 物品类型"
   ]
  },
  {
   "cell_type": "code",
   "execution_count": 2,
   "metadata": {},
   "outputs": [
    {
     "name": "stderr",
     "output_type": "stream",
     "text": [
      "Using TensorFlow backend.\n"
     ]
    }
   ],
   "source": [
    "import keras\n",
    "from keras import layers\n",
    "import numpy as np\n",
    "import os\n",
    "import glob"
   ]
  },
  {
   "cell_type": "markdown",
   "metadata": {},
   "source": [
    "# 数据预处理："
   ]
  },
  {
   "cell_type": "markdown",
   "metadata": {},
   "source": [
    "### 先读入所有的图片，然后为每张图加上标签："
   ]
  },
  {
   "cell_type": "code",
   "execution_count": 4,
   "metadata": {},
   "outputs": [],
   "source": [
    "# 字符串前加r，防“转义”：\n",
    "# 读入的东西，是每一张图片的“地址字符串”！\n",
    "all_image_dir = glob.glob(r'E:\\Python_code\\keras_total\\日月光华-keras课程资料\\multi-output-classification\\dataset\\*\\*')"
   ]
  },
  {
   "cell_type": "code",
   "execution_count": 5,
   "metadata": {},
   "outputs": [
    {
     "data": {
      "text/plain": [
       "2525"
      ]
     },
     "execution_count": 5,
     "metadata": {},
     "output_type": "execute_result"
    }
   ],
   "source": [
    "len(all_image_dir)"
   ]
  },
  {
   "cell_type": "code",
   "execution_count": 6,
   "metadata": {},
   "outputs": [
    {
     "data": {
      "text/plain": [
       "['E:\\\\Python_code\\\\keras_total\\\\日月光华-keras课程资料\\\\multi-output-classification\\\\dataset\\\\black_jeans\\\\00000000.jpg',\n",
       " 'E:\\\\Python_code\\\\keras_total\\\\日月光华-keras课程资料\\\\multi-output-classification\\\\dataset\\\\black_jeans\\\\00000001.jpeg',\n",
       " 'E:\\\\Python_code\\\\keras_total\\\\日月光华-keras课程资料\\\\multi-output-classification\\\\dataset\\\\black_jeans\\\\00000002.jpeg',\n",
       " 'E:\\\\Python_code\\\\keras_total\\\\日月光华-keras课程资料\\\\multi-output-classification\\\\dataset\\\\black_jeans\\\\00000003.jpg',\n",
       " 'E:\\\\Python_code\\\\keras_total\\\\日月光华-keras课程资料\\\\multi-output-classification\\\\dataset\\\\black_jeans\\\\00000004.jpg']"
      ]
     },
     "execution_count": 6,
     "metadata": {},
     "output_type": "execute_result"
    }
   ],
   "source": [
    "all_image_dir[:5]"
   ]
  },
  {
   "cell_type": "markdown",
   "metadata": {},
   "source": [
    "### 把一起读入的图片，进行打乱："
   ]
  },
  {
   "cell_type": "code",
   "execution_count": 7,
   "metadata": {},
   "outputs": [],
   "source": [
    "import random"
   ]
  },
  {
   "cell_type": "code",
   "execution_count": 8,
   "metadata": {},
   "outputs": [],
   "source": [
    "random.shuffle(all_image_dir)  # 直接对原对象乱序，无返回值"
   ]
  },
  {
   "cell_type": "code",
   "execution_count": 10,
   "metadata": {},
   "outputs": [
    {
     "data": {
      "text/plain": [
       "(['E:\\\\Python_code\\\\keras_total\\\\日月光华-keras课程资料\\\\multi-output-classification\\\\dataset\\\\black_shoes\\\\00000177.jpg',\n",
       "  'E:\\\\Python_code\\\\keras_total\\\\日月光华-keras课程资料\\\\multi-output-classification\\\\dataset\\\\black_jeans\\\\00000093.jpg',\n",
       "  'E:\\\\Python_code\\\\keras_total\\\\日月光华-keras课程资料\\\\multi-output-classification\\\\dataset\\\\blue_shirt\\\\00000100.png',\n",
       "  'E:\\\\Python_code\\\\keras_total\\\\日月光华-keras课程资料\\\\multi-output-classification\\\\dataset\\\\red_shirt\\\\00000077.jpg',\n",
       "  'E:\\\\Python_code\\\\keras_total\\\\日月光华-keras课程资料\\\\multi-output-classification\\\\dataset\\\\blue_shirt\\\\00000229.jpg'],\n",
       " str)"
      ]
     },
     "execution_count": 10,
     "metadata": {},
     "output_type": "execute_result"
    }
   ],
   "source": [
    "all_image_dir[:5], type(all_image_dir[0])"
   ]
  },
  {
   "cell_type": "markdown",
   "metadata": {},
   "source": [
    "### 提取每张图的标签："
   ]
  },
  {
   "cell_type": "code",
   "execution_count": 15,
   "metadata": {},
   "outputs": [],
   "source": [
    "# 根据读入每张图的“地址字符串”，发现第6个\\\\black_shoes\\\\双斜杠之间的字符是“标签”：\n",
    "all_labels = [ p.split('\\\\')[6] for p in all_image_dir ]"
   ]
  },
  {
   "cell_type": "code",
   "execution_count": 16,
   "metadata": {},
   "outputs": [
    {
     "data": {
      "text/plain": [
       "['black_shoes', 'black_jeans', 'blue_shirt', 'red_shirt', 'blue_shirt']"
      ]
     },
     "execution_count": 16,
     "metadata": {},
     "output_type": "execute_result"
    }
   ],
   "source": [
    "all_labels[0:5]"
   ]
  },
  {
   "cell_type": "code",
   "execution_count": 19,
   "metadata": {},
   "outputs": [],
   "source": [
    "# 再从all_labels中分别提取“颜色标签” + “物品类型标签”：根据下划线进行分割\n",
    "color_labels = [ p.split('_')[0] for p in all_labels ]\n",
    "item_labels = [ p.split('_')[1] for p in all_labels ] "
   ]
  },
  {
   "cell_type": "code",
   "execution_count": 20,
   "metadata": {},
   "outputs": [
    {
     "data": {
      "text/plain": [
       "(['black', 'black', 'blue', 'red', 'blue'],\n",
       " ['shoes', 'jeans', 'shirt', 'shirt', 'shirt'])"
      ]
     },
     "execution_count": 20,
     "metadata": {},
     "output_type": "execute_result"
    }
   ],
   "source": [
    "color_labels[0:5], item_labels[0:5]"
   ]
  },
  {
   "cell_type": "markdown",
   "metadata": {},
   "source": [
    "### 对“标签”进行数字编码："
   ]
  },
  {
   "cell_type": "code",
   "execution_count": 21,
   "metadata": {},
   "outputs": [
    {
     "data": {
      "text/plain": [
       "({'black', 'blue', 'red'}, {'dress', 'jeans', 'shirt', 'shoes'})"
      ]
     },
     "execution_count": 21,
     "metadata": {},
     "output_type": "execute_result"
    }
   ],
   "source": [
    "# 先查看“颜色”与“物品类型”这两大标签，每个底下有多少类型：\n",
    "# 用python内置的set数据类型（内部无重复）：\n",
    "set( color_labels ), set( item_labels )"
   ]
  },
  {
   "cell_type": "code",
   "execution_count": 28,
   "metadata": {},
   "outputs": [],
   "source": [
    "color_to_index = dict( (color, index) for index, color in enumerate(set(color_labels)) )\n",
    "item_to_index = dict( (item, index) for index, item in enumerate(set(item_labels)) )\n",
    "\n",
    "index_to_color = { index:color for color, index in color_to_index.items() }\n",
    "index_to_item = { index:item for item, index in item_to_index.items() }"
   ]
  },
  {
   "cell_type": "code",
   "execution_count": 29,
   "metadata": {},
   "outputs": [
    {
     "data": {
      "text/plain": [
       "({'red': 0, 'blue': 1, 'black': 2},\n",
       " {'shirt': 0, 'jeans': 1, 'dress': 2, 'shoes': 3},\n",
       " {0: 'red', 1: 'blue', 2: 'black'},\n",
       " {0: 'shirt', 1: 'jeans', 2: 'dress', 3: 'shoes'})"
      ]
     },
     "execution_count": 29,
     "metadata": {},
     "output_type": "execute_result"
    }
   ],
   "source": [
    "color_to_index, item_to_index, index_to_color, index_to_item"
   ]
  },
  {
   "cell_type": "code",
   "execution_count": 30,
   "metadata": {},
   "outputs": [],
   "source": [
    "# 对原来的标签进行数字编码：输入“键”，获取对应的“(数)值”\n",
    "color_labels = [ color_to_index.get(c) for c in color_labels ]  \n",
    "item_labels = [ item_to_index.get(i) for i in item_labels ]"
   ]
  },
  {
   "cell_type": "code",
   "execution_count": 31,
   "metadata": {},
   "outputs": [
    {
     "data": {
      "text/plain": [
       "([2, 2, 1, 0, 1], [3, 1, 0, 0, 0])"
      ]
     },
     "execution_count": 31,
     "metadata": {},
     "output_type": "execute_result"
    }
   ],
   "source": [
    "color_labels[0:5], item_labels[0:5]"
   ]
  },
  {
   "cell_type": "markdown",
   "metadata": {},
   "source": [
    "### 对数据集划分：训练集、测试集 "
   ]
  },
  {
   "cell_type": "code",
   "execution_count": 32,
   "metadata": {},
   "outputs": [],
   "source": [
    "split = int( len(all_image_dir)*0.8 )"
   ]
  },
  {
   "cell_type": "code",
   "execution_count": 33,
   "metadata": {},
   "outputs": [],
   "source": [
    "train_dir = all_image_dir[:split]\n",
    "test_dir = all_image_dir[split:]"
   ]
  },
  {
   "cell_type": "code",
   "execution_count": 35,
   "metadata": {},
   "outputs": [],
   "source": [
    "# 转为array好用：\n",
    "train_color_labels = np.array( color_labels[:split] )\n",
    "test_color_labels = np.array( color_labels[split:] )\n",
    "\n",
    "train_item_labels = np.array( item_labels[:split] )\n",
    "test_item_labels = np.array( item_labels[split:] )"
   ]
  },
  {
   "cell_type": "markdown",
   "metadata": {},
   "source": [
    "### 把图片加载进来：全部以“数组”形式加进来"
   ]
  },
  {
   "cell_type": "markdown",
   "metadata": {},
   "source": [
    "说明：keras.preprocessing.image.里有很多好用的工具！但必须得先安装了“pillow”库 —— pip install pillow\n",
    "\n",
    "下面定义“函数”来完成图片的加载："
   ]
  },
  {
   "cell_type": "code",
   "execution_count": 36,
   "metadata": {},
   "outputs": [],
   "source": [
    "def preprocess_image(path):\n",
    "    image = keras.preprocessing.image.load_img( path, target_size = (224,224) )\n",
    "    image_array = keras.preprocessing.image.img_to_array( image )  # 把图片转为对应的矩阵\n",
    "    image_array = image_array / 127.5 - 1  # 这次是归一化到[-1,1]\n",
    "    return image_array"
   ]
  },
  {
   "cell_type": "code",
   "execution_count": 37,
   "metadata": {},
   "outputs": [
    {
     "name": "stderr",
     "output_type": "stream",
     "text": [
      "e:\\pycharm\\python374\\lib\\site-packages\\PIL\\Image.py:989: UserWarning: Palette images with Transparency expressed in bytes should be converted to RGBA images\n",
      "  \"Palette images with Transparency expressed in bytes should be \"\n"
     ]
    }
   ],
   "source": [
    "# 一张一张加载“训练数据”：\n",
    "train_image = [] \n",
    "for path in train_dir:\n",
    "    train_image.append( preprocess_image(path) )\n",
    "    \n",
    "# 把列表中的每个元素，合并到一个高维数组当中 —— 元素的个数是“最高纬”\n",
    "train_image_array = np.stack(train_image)"
   ]
  },
  {
   "cell_type": "code",
   "execution_count": 38,
   "metadata": {},
   "outputs": [
    {
     "data": {
      "text/plain": [
       "(2020, 224, 224, 3)"
      ]
     },
     "execution_count": 38,
     "metadata": {},
     "output_type": "execute_result"
    }
   ],
   "source": [
    "train_image_array.shape  # 4纬数组，符合预期"
   ]
  },
  {
   "cell_type": "code",
   "execution_count": 39,
   "metadata": {},
   "outputs": [],
   "source": [
    "# 一张一张加载“测试数据”：\n",
    "test_image = [] \n",
    "for path in test_dir:\n",
    "    test_image.append( preprocess_image(path) )\n",
    "    \n",
    "test_image_array = np.stack( test_image )"
   ]
  },
  {
   "cell_type": "code",
   "execution_count": 40,
   "metadata": {},
   "outputs": [
    {
     "data": {
      "text/plain": [
       "(505, 224, 224, 3)"
      ]
     },
     "execution_count": 40,
     "metadata": {},
     "output_type": "execute_result"
    }
   ],
   "source": [
    "test_image_array.shape  # 4维数组，符合预期 "
   ]
  },
  {
   "cell_type": "markdown",
   "metadata": {},
   "source": [
    "# 网络搭建：函数式API"
   ]
  },
  {
   "attachments": {
    "46%E7%BD%91%E7%BB%9C%E6%90%AD%E5%BB%BA%E6%80%9D%E8%B7%AF.png": {
     "image/png": "[encoded data removed]"
    }
   },
   "cell_type": "markdown",
   "metadata": {},
   "source": [
    "网络大体架构如图：\n",
    "![46%E7%BD%91%E7%BB%9C%E6%90%AD%E5%BB%BA%E6%80%9D%E8%B7%AF.png](attachment:46%E7%BD%91%E7%BB%9C%E6%90%AD%E5%BB%BA%E6%80%9D%E8%B7%AF.png)"
   ]
  },
  {
   "cell_type": "code",
   "execution_count": 67,
   "metadata": {},
   "outputs": [],
   "source": [
    "# 用它的权重和框架：\n",
    "mobile_net = keras.applications.MobileNetV2( input_shape=(224,224,3), include_top = False, weights = 'imagenet' )  "
   ]
  },
  {
   "cell_type": "code",
   "execution_count": 68,
   "metadata": {},
   "outputs": [],
   "source": [
    "inputs = keras.Input( shape = (224,224,3) )"
   ]
  },
  {
   "cell_type": "code",
   "execution_count": 69,
   "metadata": {},
   "outputs": [
    {
     "data": {
      "text/plain": [
       "TensorShape([Dimension(None), Dimension(7), Dimension(7), Dimension(1280)])"
      ]
     },
     "execution_count": 69,
     "metadata": {},
     "output_type": "execute_result"
    }
   ],
   "source": [
    "x = mobile_net(inputs)  # 输出的还是一个4维的\n",
    "x.shape"
   ]
  },
  {
   "cell_type": "code",
   "execution_count": 70,
   "metadata": {},
   "outputs": [
    {
     "data": {
      "text/plain": [
       "TensorShape([Dimension(None), Dimension(1280)])"
      ]
     },
     "execution_count": 70,
     "metadata": {},
     "output_type": "execute_result"
    }
   ],
   "source": [
    "x = keras.layers.GlobalAveragePooling2D()(x)\n",
    "x.shape"
   ]
  },
  {
   "cell_type": "code",
   "execution_count": 71,
   "metadata": {},
   "outputs": [],
   "source": [
    "# 颜色大类：\n",
    "x1 = keras.layers.Dense( 1024, activation='relu' )(x)\n",
    "out_color = keras.layers.Dense( 3, activation='softmax', name = 'out_color' )(x1)  # 分3类：加name，为了方便用不同的loss"
   ]
  },
  {
   "cell_type": "code",
   "execution_count": 72,
   "metadata": {},
   "outputs": [],
   "source": [
    "# 类型大类：\n",
    "x2 = keras.layers.Dense( 1024, activation='relu' )(x)\n",
    "out_item = keras.layers.Dense( 4, activation='softmax', name = 'out_item' )(x2)   # 分4类"
   ]
  },
  {
   "cell_type": "code",
   "execution_count": 73,
   "metadata": {},
   "outputs": [],
   "source": [
    "# 把函数式调用的网络，拼凑起来(初始化)：两个输出(列表)！\n",
    "model = keras.Model( inputs = inputs, outputs = [out_color, out_item] )"
   ]
  },
  {
   "cell_type": "code",
   "execution_count": 74,
   "metadata": {},
   "outputs": [
    {
     "data": {
      "image/png": "[encoded data removed]",
      "text/plain": [
       "<IPython.core.display.Image object>"
      ]
     },
     "execution_count": 74,
     "metadata": {},
     "output_type": "execute_result"
    }
   ],
   "source": [
    "import os\n",
    "os.environ['PATH'] += os.pathsep + r'C:\\Program Files (x86)\\Graphviz2.38\\bin'  # 加r，防转义 \n",
    "keras.utils.plot_model(model, to_file = '多输出模型.png')"
   ]
  },
  {
   "cell_type": "markdown",
   "metadata": {},
   "source": [
    "# 模型训练与配置："
   ]
  },
  {
   "cell_type": "code",
   "execution_count": 75,
   "metadata": {},
   "outputs": [],
   "source": [
    "model.compile( optimizer = 'adam',\n",
    "               loss = {'out_color':'sparse_categorical_crossentropy', 'out_item':'sparse_categorical_crossentropy'},\n",
    "               #loss = 'sparse_categorical_crossentropy',   #  如果都用同一种loss，只写一个也可以 ；否则用上面的字典\n",
    "               metrics = ['acc']\n",
    ")"
   ]
  },
  {
   "cell_type": "code",
   "execution_count": 76,
   "metadata": {},
   "outputs": [],
   "source": [
    "batch_size = 16  # 每次送入16张"
   ]
  },
  {
   "cell_type": "markdown",
   "metadata": {},
   "source": [
    "在多输入模型训练时，需要有scipy库：不需要import，但必须要有！—— pip install scipy"
   ]
  },
  {
   "cell_type": "code",
   "execution_count": 78,
   "metadata": {},
   "outputs": [
    {
     "name": "stdout",
     "output_type": "stream",
     "text": [
      "WARNING:tensorflow:From e:\\pycharm\\python374\\lib\\site-packages\\keras\\backend\\tensorflow_backend.py:422: The name tf.global_variables is deprecated. Please use tf.compat.v1.global_variables instead.\n",
      "\n",
      "Train on 2020 samples, validate on 505 samples\n",
      "Epoch 1/10\n",
      "  32/2020 [..............................] - ETA: 24:35 - loss: 4.2258 - out_color_loss: 2.8743 - out_item_loss: 1.3515 - out_color_acc: 0.3438 - out_item_acc: 0.5625"
     ]
    },
    {
     "ename": "KeyboardInterrupt",
     "evalue": "",
     "output_type": "error",
     "traceback": [
      "\u001b[1;31m---------------------------------------------------------------------------\u001b[0m",
      "\u001b[1;31mKeyboardInterrupt\u001b[0m                         Traceback (most recent call last)",
      "\u001b[1;32m<ipython-input-78-4073147d7021>\u001b[0m in \u001b[0;36m<module>\u001b[1;34m\u001b[0m\n\u001b[0;32m      4\u001b[0m            \u001b[0mepochs\u001b[0m \u001b[1;33m=\u001b[0m \u001b[1;36m10\u001b[0m\u001b[1;33m,\u001b[0m\u001b[1;33m\u001b[0m\u001b[1;33m\u001b[0m\u001b[0m\n\u001b[0;32m      5\u001b[0m            \u001b[0mbatch_size\u001b[0m \u001b[1;33m=\u001b[0m \u001b[0mbatch_size\u001b[0m\u001b[1;33m,\u001b[0m\u001b[1;33m\u001b[0m\u001b[1;33m\u001b[0m\u001b[0m\n\u001b[1;32m----> 6\u001b[1;33m            \u001b[0mvalidation_data\u001b[0m \u001b[1;33m=\u001b[0m \u001b[1;33m(\u001b[0m\u001b[0mtest_image_array\u001b[0m\u001b[1;33m,\u001b[0m \u001b[1;33m[\u001b[0m\u001b[0mtest_color_labels\u001b[0m\u001b[1;33m,\u001b[0m \u001b[0mtest_item_labels\u001b[0m\u001b[1;33m]\u001b[0m\u001b[1;33m)\u001b[0m  \u001b[1;31m# 多输出\u001b[0m\u001b[1;33m\u001b[0m\u001b[1;33m\u001b[0m\u001b[0m\n\u001b[0m\u001b[0;32m      7\u001b[0m )\n",
      "\u001b[1;32me:\\pycharm\\python374\\lib\\site-packages\\keras\\engine\\training.py\u001b[0m in \u001b[0;36mfit\u001b[1;34m(self, x, y, batch_size, epochs, verbose, callbacks, validation_split, validation_data, shuffle, class_weight, sample_weight, initial_epoch, steps_per_epoch, validation_steps, validation_freq, max_queue_size, workers, use_multiprocessing, **kwargs)\u001b[0m\n\u001b[0;32m   1237\u001b[0m                                         \u001b[0msteps_per_epoch\u001b[0m\u001b[1;33m=\u001b[0m\u001b[0msteps_per_epoch\u001b[0m\u001b[1;33m,\u001b[0m\u001b[1;33m\u001b[0m\u001b[1;33m\u001b[0m\u001b[0m\n\u001b[0;32m   1238\u001b[0m                                         \u001b[0mvalidation_steps\u001b[0m\u001b[1;33m=\u001b[0m\u001b[0mvalidation_steps\u001b[0m\u001b[1;33m,\u001b[0m\u001b[1;33m\u001b[0m\u001b[1;33m\u001b[0m\u001b[0m\n\u001b[1;32m-> 1239\u001b[1;33m                                         validation_freq=validation_freq)\n\u001b[0m\u001b[0;32m   1240\u001b[0m \u001b[1;33m\u001b[0m\u001b[0m\n\u001b[0;32m   1241\u001b[0m     def evaluate(self,\n",
      "\u001b[1;32me:\\pycharm\\python374\\lib\\site-packages\\keras\\engine\\training_arrays.py\u001b[0m in \u001b[0;36mfit_loop\u001b[1;34m(model, fit_function, fit_inputs, out_labels, batch_size, epochs, verbose, callbacks, val_function, val_inputs, shuffle, initial_epoch, steps_per_epoch, validation_steps, validation_freq)\u001b[0m\n\u001b[0;32m    194\u001b[0m                     \u001b[0mins_batch\u001b[0m\u001b[1;33m[\u001b[0m\u001b[0mi\u001b[0m\u001b[1;33m]\u001b[0m \u001b[1;33m=\u001b[0m \u001b[0mins_batch\u001b[0m\u001b[1;33m[\u001b[0m\u001b[0mi\u001b[0m\u001b[1;33m]\u001b[0m\u001b[1;33m.\u001b[0m\u001b[0mtoarray\u001b[0m\u001b[1;33m(\u001b[0m\u001b[1;33m)\u001b[0m\u001b[1;33m\u001b[0m\u001b[1;33m\u001b[0m\u001b[0m\n\u001b[0;32m    195\u001b[0m \u001b[1;33m\u001b[0m\u001b[0m\n\u001b[1;32m--> 196\u001b[1;33m                 \u001b[0mouts\u001b[0m \u001b[1;33m=\u001b[0m \u001b[0mfit_function\u001b[0m\u001b[1;33m(\u001b[0m\u001b[0mins_batch\u001b[0m\u001b[1;33m)\u001b[0m\u001b[1;33m\u001b[0m\u001b[1;33m\u001b[0m\u001b[0m\n\u001b[0m\u001b[0;32m    197\u001b[0m                 \u001b[0mouts\u001b[0m \u001b[1;33m=\u001b[0m \u001b[0mto_list\u001b[0m\u001b[1;33m(\u001b[0m\u001b[0mouts\u001b[0m\u001b[1;33m)\u001b[0m\u001b[1;33m\u001b[0m\u001b[1;33m\u001b[0m\u001b[0m\n\u001b[0;32m    198\u001b[0m                 \u001b[1;32mfor\u001b[0m \u001b[0ml\u001b[0m\u001b[1;33m,\u001b[0m \u001b[0mo\u001b[0m \u001b[1;32min\u001b[0m \u001b[0mzip\u001b[0m\u001b[1;33m(\u001b[0m\u001b[0mout_labels\u001b[0m\u001b[1;33m,\u001b[0m \u001b[0mouts\u001b[0m\u001b[1;33m)\u001b[0m\u001b[1;33m:\u001b[0m\u001b[1;33m\u001b[0m\u001b[1;33m\u001b[0m\u001b[0m\n",
      "\u001b[1;32me:\\pycharm\\python374\\lib\\site-packages\\tensorflow\\python\\keras\\backend.py\u001b[0m in \u001b[0;36m__call__\u001b[1;34m(self, inputs)\u001b[0m\n\u001b[0;32m   3290\u001b[0m \u001b[1;33m\u001b[0m\u001b[0m\n\u001b[0;32m   3291\u001b[0m     fetched = self._callable_fn(*array_vals,\n\u001b[1;32m-> 3292\u001b[1;33m                                 run_metadata=self.run_metadata)\n\u001b[0m\u001b[0;32m   3293\u001b[0m     \u001b[0mself\u001b[0m\u001b[1;33m.\u001b[0m\u001b[0m_call_fetch_callbacks\u001b[0m\u001b[1;33m(\u001b[0m\u001b[0mfetched\u001b[0m\u001b[1;33m[\u001b[0m\u001b[1;33m-\u001b[0m\u001b[0mlen\u001b[0m\u001b[1;33m(\u001b[0m\u001b[0mself\u001b[0m\u001b[1;33m.\u001b[0m\u001b[0m_fetches\u001b[0m\u001b[1;33m)\u001b[0m\u001b[1;33m:\u001b[0m\u001b[1;33m]\u001b[0m\u001b[1;33m)\u001b[0m\u001b[1;33m\u001b[0m\u001b[1;33m\u001b[0m\u001b[0m\n\u001b[0;32m   3294\u001b[0m     output_structure = nest.pack_sequence_as(\n",
      "\u001b[1;32me:\\pycharm\\python374\\lib\\site-packages\\tensorflow\\python\\client\\session.py\u001b[0m in \u001b[0;36m__call__\u001b[1;34m(self, *args, **kwargs)\u001b[0m\n\u001b[0;32m   1456\u001b[0m         ret = tf_session.TF_SessionRunCallable(self._session._session,\n\u001b[0;32m   1457\u001b[0m                                                \u001b[0mself\u001b[0m\u001b[1;33m.\u001b[0m\u001b[0m_handle\u001b[0m\u001b[1;33m,\u001b[0m \u001b[0margs\u001b[0m\u001b[1;33m,\u001b[0m\u001b[1;33m\u001b[0m\u001b[1;33m\u001b[0m\u001b[0m\n\u001b[1;32m-> 1458\u001b[1;33m                                                run_metadata_ptr)\n\u001b[0m\u001b[0;32m   1459\u001b[0m         \u001b[1;32mif\u001b[0m \u001b[0mrun_metadata\u001b[0m\u001b[1;33m:\u001b[0m\u001b[1;33m\u001b[0m\u001b[1;33m\u001b[0m\u001b[0m\n\u001b[0;32m   1460\u001b[0m           \u001b[0mproto_data\u001b[0m \u001b[1;33m=\u001b[0m \u001b[0mtf_session\u001b[0m\u001b[1;33m.\u001b[0m\u001b[0mTF_GetBuffer\u001b[0m\u001b[1;33m(\u001b[0m\u001b[0mrun_metadata_ptr\u001b[0m\u001b[1;33m)\u001b[0m\u001b[1;33m\u001b[0m\u001b[1;33m\u001b[0m\u001b[0m\n",
      "\u001b[1;31mKeyboardInterrupt\u001b[0m: "
     ]
    }
   ],
   "source": [
    "# 有两个输出，所以输出部分用“列表”\n",
    "model.fit( train_image_array,\n",
    "           [train_color_labels, train_item_labels],  # 多输出\n",
    "           epochs = 10,\n",
    "           batch_size = batch_size,\n",
    "           validation_data = (test_image_array, [test_color_labels, test_item_labels])  # 多输出\n",
    ")"
   ]
  },
  {
   "cell_type": "markdown",
   "metadata": {},
   "source": [
    "# 模型评价与预测："
   ]
  },
  {
   "cell_type": "markdown",
   "metadata": {},
   "source": [
    "“评价”与“预测”是不同的：\n",
    "- 评价：是用“测试集”来评价最后模型的**正确率**；用的函数是model.evaluate()\n",
    "- 预测：是用“单张、新的图片”放入模型，来看模型的**预测结果**；用的函数是model.predict()"
   ]
  },
  {
   "cell_type": "code",
   "execution_count": null,
   "metadata": {},
   "outputs": [],
   "source": [
    "# 模型评价：\n",
    "# verbose参数：设置为0，不显示它的评估过程，直接给最后的预测准确率\n",
    "model.evaluate( test_image_array, [test_color_labels, test_item_labels], verbose = 0 )"
   ]
  },
  {
   "cell_type": "code",
   "execution_count": 79,
   "metadata": {},
   "outputs": [
    {
     "data": {
      "text/plain": [
       "(1, 224, 224, 3)"
      ]
     },
     "execution_count": 79,
     "metadata": {},
     "output_type": "execute_result"
    }
   ],
   "source": [
    "# 模型预测：\n",
    "# 给入一张经过同样操作“处理过的”图片 —— preprocess_image函数处理\n",
    "path1 = r'E:\\Python_code\\keras_total\\日月光华-keras课程资料\\multi-output-classification\\examples\\black_dress.jpg'\n",
    "my_image = preprocess_image(path1)  # 读入那张图，并做处理\n",
    "\n",
    "# 因为model的输入数据要求是4维的(最高维是batch)，所以要把3维的my_image多加一维，即最高维batch = 1\n",
    "my_image = np.expand_dims(my_image, 0)\n",
    "my_image.shape"
   ]
  },
  {
   "cell_type": "code",
   "execution_count": null,
   "metadata": {},
   "outputs": [],
   "source": [
    "# 此时就可以放模型预测了：\n",
    "model.predict(my_image) \n",
    "# 会给一个二维矩阵：\n",
    "# [0.98, 0.01, 0.01] 这样的，我们需要把最大的那个取出来"
   ]
  },
  {
   "cell_type": "code",
   "execution_count": null,
   "metadata": {},
   "outputs": [],
   "source": [
    "pre = model.predict(my_image)\n",
    "# 把最大值的索引和对应的标签对应起来输出：\n",
    "pre_color = index_to_color.get( np.argmax(pre[0][0]) )\n",
    "pre_item = index_to_item.get( np.argmax(pre[1][0]) )"
   ]
  },
  {
   "cell_type": "markdown",
   "metadata": {},
   "source": [
    "# 直接调用模型来预测："
   ]
  },
  {
   "cell_type": "code",
   "execution_count": null,
   "metadata": {},
   "outputs": [],
   "source": [
    "pre = model(my_image, training = False)  # 不用训练模型，就和上面直接预测没区别。"
   ]
  }
 ],
 "metadata": {
  "kernelspec": {
   "display_name": "Python 3",
   "language": "python",
   "name": "python3"
  },
  "language_info": {
   "codemirror_mode": {
    "name": "ipython",
    "version": 3
   },
   "file_extension": ".py",
   "mimetype": "text/x-python",
   "name": "python",
   "nbconvert_exporter": "python",
   "pygments_lexer": "ipython3",
   "version": "3.7.4"
  }
 },
 "nbformat": 4,
 "nbformat_minor": 2
}
