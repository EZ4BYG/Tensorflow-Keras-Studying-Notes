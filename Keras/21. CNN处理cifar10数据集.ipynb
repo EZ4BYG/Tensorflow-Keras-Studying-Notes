{
 "cells": [
  {
   "cell_type": "markdown",
   "metadata": {},
   "source": [
    "# 数据集介绍："
   ]
  },
  {
   "cell_type": "markdown",
   "metadata": {},
   "source": [
    "cifar10是彩色图片数据集，每张图片大小为32*32，内置的；\n",
    "\n",
    "其中分10类：每类中训练的有5000张，测试的有1000张。所以总训练集中有50000张，总测试集中有10000张。\n",
    "\n",
    "标签是“顺序编码”，即0 - 9这十种类比。类别有：飞机、汽车、鸟、猫、鹿、狗、青蛙、马、船、卡车"
   ]
  },
  {
   "cell_type": "code",
   "execution_count": 1,
   "metadata": {},
   "outputs": [
    {
     "name": "stderr",
     "output_type": "stream",
     "text": [
      "Using TensorFlow backend.\n"
     ]
    }
   ],
   "source": [
    "import keras\n",
    "import numpy as np\n",
    "import matplotlib.pyplot as plt"
   ]
  },
  {
   "cell_type": "code",
   "execution_count": 2,
   "metadata": {},
   "outputs": [],
   "source": [
    "cifar = keras.datasets.cifar10\n",
    "\n",
    "(train_image, train_label), (test_image, test_label) = cifar.load_data()"
   ]
  },
  {
   "cell_type": "code",
   "execution_count": 3,
   "metadata": {},
   "outputs": [
    {
     "data": {
      "text/plain": [
       "((50000, 32, 32, 3), (10000, 32, 32, 3), (50000, 1), (10000, 1))"
      ]
     },
     "execution_count": 3,
     "metadata": {},
     "output_type": "execute_result"
    }
   ],
   "source": [
    "# 预处理的图片形状已经非常好了！\n",
    "train_image.shape, test_image.shape, train_label.shape, test_label.shape"
   ]
  },
  {
   "cell_type": "code",
   "execution_count": 4,
   "metadata": {},
   "outputs": [
    {
     "data": {
      "text/plain": [
       "(32, 32, 3)"
      ]
     },
     "execution_count": 4,
     "metadata": {},
     "output_type": "execute_result"
    }
   ],
   "source": [
    "train_image[0].shape"
   ]
  },
  {
   "cell_type": "markdown",
   "metadata": {},
   "source": [
    "# 数据集预处理"
   ]
  },
  {
   "cell_type": "markdown",
   "metadata": {},
   "source": [
    "神经网络喜欢“**数值比较小**”的数！对于三通道的rgb图像，每个像素值都是在[0,255]之间，这有些大了，我们要“**归一化**”："
   ]
  },
  {
   "cell_type": "code",
   "execution_count": 5,
   "metadata": {},
   "outputs": [],
   "source": [
    "train_image = train_image / 255\n",
    "test_image = test_image / 255"
   ]
  },
  {
   "cell_type": "markdown",
   "metadata": {},
   "source": [
    "# 网络搭建"
   ]
  },
  {
   "cell_type": "code",
   "execution_count": 6,
   "metadata": {},
   "outputs": [],
   "source": [
    "model = keras.Sequential()"
   ]
  },
  {
   "cell_type": "code",
   "execution_count": 7,
   "metadata": {},
   "outputs": [],
   "source": [
    "from keras import layers"
   ]
  },
  {
   "cell_type": "code",
   "execution_count": 8,
   "metadata": {},
   "outputs": [
    {
     "name": "stdout",
     "output_type": "stream",
     "text": [
      "WARNING:tensorflow:From e:\\pycharm\\python374\\lib\\site-packages\\keras\\backend\\tensorflow_backend.py:4070: The name tf.nn.max_pool is deprecated. Please use tf.nn.max_pool2d instead.\n",
      "\n"
     ]
    }
   ],
   "source": [
    "model.add( layers.Conv2D( filters=64, kernel_size = (3,3), activation = 'relu', input_shape = (32,32,3) ) )\n",
    "model.add( layers.MaxPooling2D() )  # 还是用默认即可\n",
    "model.add( layers.Conv2D( filters=64, kernel_size = (3,3), activation = 'relu' ) )\n",
    "model.add( layers.MaxPooling2D() )  \n",
    "\n",
    "# 全连接：\n",
    "model.add( layers.Flatten() )  \n",
    "model.add(layers.Dense(256, activation='relu'))\n",
    "model.add( layers.Dropout(0.5) )\n",
    "model.add(layers.Dense(10, activation='softmax'))  # 最后是10分类输出，激活用softmax多分类"
   ]
  },
  {
   "cell_type": "code",
   "execution_count": 9,
   "metadata": {},
   "outputs": [
    {
     "name": "stdout",
     "output_type": "stream",
     "text": [
      "Model: \"sequential_1\"\n",
      "_________________________________________________________________\n",
      "Layer (type)                 Output Shape              Param #   \n",
      "=================================================================\n",
      "conv2d_1 (Conv2D)            (None, 30, 30, 64)        1792      \n",
      "_________________________________________________________________\n",
      "max_pooling2d_1 (MaxPooling2 (None, 15, 15, 64)        0         \n",
      "_________________________________________________________________\n",
      "conv2d_2 (Conv2D)            (None, 13, 13, 64)        36928     \n",
      "_________________________________________________________________\n",
      "max_pooling2d_2 (MaxPooling2 (None, 6, 6, 64)          0         \n",
      "_________________________________________________________________\n",
      "flatten_1 (Flatten)          (None, 2304)              0         \n",
      "_________________________________________________________________\n",
      "dense_1 (Dense)              (None, 256)               590080    \n",
      "_________________________________________________________________\n",
      "dropout_1 (Dropout)          (None, 256)               0         \n",
      "_________________________________________________________________\n",
      "dense_2 (Dense)              (None, 10)                2570      \n",
      "=================================================================\n",
      "Total params: 631,370\n",
      "Trainable params: 631,370\n",
      "Non-trainable params: 0\n",
      "_________________________________________________________________\n"
     ]
    }
   ],
   "source": [
    "model.summary()"
   ]
  },
  {
   "cell_type": "code",
   "execution_count": 10,
   "metadata": {},
   "outputs": [],
   "source": [
    "model.compile( optimizer='adam',\n",
    "               loss = 'sparse_categorical_crossentropy',\n",
    "               metrics=['acc']\n",
    ")"
   ]
  },
  {
   "cell_type": "code",
   "execution_count": 11,
   "metadata": {},
   "outputs": [
    {
     "name": "stdout",
     "output_type": "stream",
     "text": [
      "WARNING:tensorflow:From e:\\pycharm\\python374\\lib\\site-packages\\keras\\backend\\tensorflow_backend.py:422: The name tf.global_variables is deprecated. Please use tf.compat.v1.global_variables instead.\n",
      "\n",
      "Train on 50000 samples, validate on 10000 samples\n",
      "Epoch 1/20\n",
      "50000/50000 [==============================] - 48s 963us/step - loss: 1.7057 - acc: 0.3778 - val_loss: 1.3883 - val_acc: 0.5013\n",
      "Epoch 2/20\n",
      "50000/50000 [==============================] - 47s 947us/step - loss: 1.3440 - acc: 0.5190 - val_loss: 1.2493 - val_acc: 0.5623\n",
      "Epoch 3/20\n",
      "50000/50000 [==============================] - 47s 942us/step - loss: 1.2144 - acc: 0.5696 - val_loss: 1.0746 - val_acc: 0.6237\n",
      "Epoch 4/20\n",
      "50000/50000 [==============================] - 47s 943us/step - loss: 1.1189 - acc: 0.6060 - val_loss: 1.0168 - val_acc: 0.6410\n",
      "Epoch 5/20\n",
      "50000/50000 [==============================] - 47s 943us/step - loss: 1.0424 - acc: 0.6332 - val_loss: 0.9780 - val_acc: 0.6583\n",
      "Epoch 6/20\n",
      "50000/50000 [==============================] - 47s 948us/step - loss: 0.9923 - acc: 0.6526 - val_loss: 0.9338 - val_acc: 0.6743\n",
      "Epoch 7/20\n",
      "50000/50000 [==============================] - 47s 945us/step - loss: 0.9420 - acc: 0.6712 - val_loss: 0.8980 - val_acc: 0.6820\n",
      "Epoch 8/20\n",
      "50000/50000 [==============================] - 47s 947us/step - loss: 0.9072 - acc: 0.6823 - val_loss: 0.8877 - val_acc: 0.6856\n",
      "Epoch 9/20\n",
      "50000/50000 [==============================] - 47s 942us/step - loss: 0.8722 - acc: 0.6950 - val_loss: 0.8866 - val_acc: 0.6876\n",
      "Epoch 10/20\n",
      "50000/50000 [==============================] - 47s 944us/step - loss: 0.8329 - acc: 0.7087 - val_loss: 0.8718 - val_acc: 0.6929\n",
      "Epoch 11/20\n",
      "50000/50000 [==============================] - 47s 946us/step - loss: 0.7958 - acc: 0.7196 - val_loss: 0.8301 - val_acc: 0.7122\n",
      "Epoch 12/20\n",
      "50000/50000 [==============================] - 47s 944us/step - loss: 0.7781 - acc: 0.7276 - val_loss: 0.8384 - val_acc: 0.7102\n",
      "Epoch 13/20\n",
      "50000/50000 [==============================] - 47s 940us/step - loss: 0.7431 - acc: 0.7365 - val_loss: 0.8148 - val_acc: 0.7144\n",
      "Epoch 14/20\n",
      "50000/50000 [==============================] - 47s 941us/step - loss: 0.7124 - acc: 0.7495 - val_loss: 0.8115 - val_acc: 0.7161\n",
      "Epoch 15/20\n",
      "50000/50000 [==============================] - 47s 941us/step - loss: 0.6908 - acc: 0.7574 - val_loss: 0.8069 - val_acc: 0.7240\n",
      "Epoch 16/20\n",
      "50000/50000 [==============================] - 47s 934us/step - loss: 0.6660 - acc: 0.7636 - val_loss: 0.8223 - val_acc: 0.7131\n",
      "Epoch 17/20\n",
      "50000/50000 [==============================] - 47s 935us/step - loss: 0.6457 - acc: 0.7736 - val_loss: 0.8059 - val_acc: 0.7207\n",
      "Epoch 18/20\n",
      "50000/50000 [==============================] - 47s 936us/step - loss: 0.6143 - acc: 0.7839 - val_loss: 0.8623 - val_acc: 0.7086\n",
      "Epoch 19/20\n",
      "50000/50000 [==============================] - 47s 939us/step - loss: 0.6034 - acc: 0.7849 - val_loss: 0.8070 - val_acc: 0.7241\n",
      "Epoch 20/20\n",
      "50000/50000 [==============================] - 47s 935us/step - loss: 0.5756 - acc: 0.7966 - val_loss: 0.8063 - val_acc: 0.7237\n"
     ]
    }
   ],
   "source": [
    "history = model.fit( train_image, train_label, epochs = 20, batch_size=256, validation_data=(test_image, test_label) )"
   ]
  },
  {
   "cell_type": "code",
   "execution_count": 12,
   "metadata": {},
   "outputs": [
    {
     "data": {
      "text/plain": [
       "<matplotlib.legend.Legend at 0x1ed6f48aa48>"
      ]
     },
     "execution_count": 12,
     "metadata": {},
     "output_type": "execute_result"
    },
    {
     "data": {
      "image/png": "[encoded data removed]",
      "text/plain": [
       "<Figure size 432x288 with 1 Axes>"
      ]
     },
     "metadata": {
      "needs_background": "light"
     },
     "output_type": "display_data"
    }
   ],
   "source": [
    "# 图像绘制：\n",
    "plt.rcParams['font.sans-serif'] = ['SimHei']  # 步骤一（替换sans-serif字体）\n",
    "plt.rcParams['axes.unicode_minus'] = False    # 步骤二（解决坐标轴负数的负号显示问题）\n",
    "# 训练精度与测试精度的对比图：\n",
    "plt.plot( history.epoch, history.history.get('acc'), c = 'b', label = '训练精度' )\n",
    "plt.plot( history.epoch, history.history.get('val_acc'), c = 'r', label = '测试精度' )\n",
    "# plt.ylim( ymin=0.8 )\n",
    "plt.legend()"
   ]
  },
  {
   "cell_type": "code",
   "execution_count": 13,
   "metadata": {},
   "outputs": [
    {
     "name": "stdout",
     "output_type": "stream",
     "text": [
      "50000/50000 [==============================] - 13s 252us/step\n"
     ]
    },
    {
     "data": {
      "text/plain": [
       "[0.4060838068675995, 0.8712599873542786]"
      ]
     },
     "execution_count": 13,
     "metadata": {},
     "output_type": "execute_result"
    }
   ],
   "source": [
    "model.evaluate(train_image, train_label)"
   ]
  },
  {
   "cell_type": "code",
   "execution_count": 14,
   "metadata": {},
   "outputs": [
    {
     "name": "stdout",
     "output_type": "stream",
     "text": [
      "10000/10000 [==============================] - 3s 254us/step\n"
     ]
    },
    {
     "data": {
      "text/plain": [
       "[0.8063052418708802, 0.7236999869346619]"
      ]
     },
     "execution_count": 14,
     "metadata": {},
     "output_type": "execute_result"
    }
   ],
   "source": [
    "model.evaluate(test_image, test_label)"
   ]
  },
  {
   "cell_type": "code",
   "execution_count": null,
   "metadata": {},
   "outputs": [],
   "source": []
  }
 ],
 "metadata": {
  "kernelspec": {
   "display_name": "Python 3",
   "language": "python",
   "name": "python3"
  },
  "language_info": {
   "codemirror_mode": {
    "name": "ipython",
    "version": 3
   },
   "file_extension": ".py",
   "mimetype": "text/x-python",
   "name": "python",
   "nbconvert_exporter": "python",
   "pygments_lexer": "ipython3",
   "version": "3.7.4"
  }
 },
 "nbformat": 4,
 "nbformat_minor": 2
}
