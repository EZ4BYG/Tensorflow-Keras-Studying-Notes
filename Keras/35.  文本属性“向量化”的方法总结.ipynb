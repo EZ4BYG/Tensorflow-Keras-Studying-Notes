{
 "cells": [
  {
   "cell_type": "markdown",
   "metadata": {},
   "source": [
    "# 说明："
   ]
  },
  {
   "cell_type": "markdown",
   "metadata": {},
   "source": [
    "其实，文本的向量化，目标就一个：把原先用文本表示的属性，改成计算机能接受的“数字编码”即可。\n",
    "\n",
    "例如“花的类型”这个属性，它下面有3种可能：梅花、兰花、牡丹花；直接用文本计算机肯定看不懂，要把每种分类转换成唯一的数字。\n",
    "- 独热编码：转变为长度和分类数一样的一维数组，但是谁时谁就为1，否则为0；如梅花：[1, 0, 0]\n",
    "- k-hot编码：one-hot的一种变体，它最适用于对“同属多种类别的编码”，例如回看16中对“一段话”的编码；\n",
    "- 散列编码：用转化函数把文本散乱转换到另一个“高维空间”中；\n",
    "- 文本词嵌入：对散列编码的改进，同样转换到高维空间中，但此时两个空间的远近可以表示原始这俩词的在内容上的相近程度！—— 每一个单词，学到一个空间高维向量。例如：'高'[1, 0, 0]、'高博'[1, 3, 0]，'高博钰'[1,3,4] （大家的向量总长度要拓展为一致）—— 可以看成一个多元一维数组，也可以看成是一个高维空间中的坐标/向量。\n",
    "\n",
    "说明：文本词嵌入的好处：与独热编码一样，同样是一个多元的数组，但是文本词嵌入把每个单元都利用了起来！反观独热编码中的严重稀疏性，造成了大量的位置浪费，且很难根据多元之间的数据关系判断二个词的关系！\n",
    "\n",
    "---\n",
    "文本词嵌入常用的python包：\n",
    "- Word2Vec\n",
    "- Glove\n",
    "\n",
    "---\n",
    "keras中已经内置了“词嵌入”的表示，还是当作一个“层”来用，很方便。"
   ]
  },
  {
   "cell_type": "code",
   "execution_count": null,
   "metadata": {},
   "outputs": [],
   "source": []
  }
 ],
 "metadata": {
  "kernelspec": {
   "display_name": "Python 3",
   "language": "python",
   "name": "python3"
  },
  "language_info": {
   "codemirror_mode": {
    "name": "ipython",
    "version": 3
   },
   "file_extension": ".py",
   "mimetype": "text/x-python",
   "name": "python",
   "nbconvert_exporter": "python",
   "pygments_lexer": "ipython3",
   "version": "3.7.4"
  }
 },
 "nbformat": 4,
 "nbformat_minor": 2
}
