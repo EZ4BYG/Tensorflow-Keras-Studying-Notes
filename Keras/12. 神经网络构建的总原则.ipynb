{
 "cells": [
  {
   "cell_type": "markdown",
   "metadata": {},
   "source": [
    "# 网络构建的总原则"
   ]
  },
  {
   "cell_type": "markdown",
   "metadata": {},
   "source": [
    "总原则：保证神经网络容量足够拟合数据！—— 训练数据都拟不好，预测新数据肯定好不到哪去。\n",
    "- 对于较为复杂的数据(特征x很多)时，层数要够多，每层神经元个数也要够多，即网络的可训练参数就会很多，拟合原数据能力就很强！\n",
    "- 中间隐藏层中，不能突然出现一层其单元数很少的层，这样会导致“信息瓶颈”，很多有用的信息在一层被卡住并丢弃！\n",
    "\n",
    "网络构建的调试过程：\n",
    "- 增大网络容量，直至对训练数据过拟合；\n",
    "- 采取抑制过拟合的方法：dropout、正则化等；获得新的网络；\n",
    "- 继续增大新的网络，直至再次出现过拟合；然后再用方法抑制过拟合；依次往复。"
   ]
  }
 ],
 "metadata": {
  "kernelspec": {
   "display_name": "Python 3",
   "language": "python",
   "name": "python3"
  },
  "language_info": {
   "codemirror_mode": {
    "name": "ipython",
    "version": 3
   },
   "file_extension": ".py",
   "mimetype": "text/x-python",
   "name": "python",
   "nbconvert_exporter": "python",
   "pygments_lexer": "ipython3",
   "version": "3.7.4"
  }
 },
 "nbformat": 4,
 "nbformat_minor": 2
}
