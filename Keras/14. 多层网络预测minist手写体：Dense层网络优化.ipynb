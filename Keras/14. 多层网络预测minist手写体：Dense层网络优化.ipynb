{
 "cells": [
  {
   "cell_type": "code",
   "execution_count": 1,
   "metadata": {},
   "outputs": [
    {
     "name": "stderr",
     "output_type": "stream",
     "text": [
      "Using TensorFlow backend.\n"
     ]
    }
   ],
   "source": [
    "import keras\n",
    "import numpy as np\n",
    "import pandas as pd\n",
    "import matplotlib.pyplot as plt"
   ]
  },
  {
   "cell_type": "code",
   "execution_count": 2,
   "metadata": {},
   "outputs": [],
   "source": [
    "import keras.datasets.mnist as mnist\n",
    "(train_image, train_label), (test_image, test_label) = mnist.load_data() "
   ]
  },
  {
   "cell_type": "code",
   "execution_count": 3,
   "metadata": {},
   "outputs": [
    {
     "data": {
      "text/plain": [
       "((60000, 28, 28), (60000,), (10000, 28, 28), (10000,))"
      ]
     },
     "execution_count": 3,
     "metadata": {},
     "output_type": "execute_result"
    }
   ],
   "source": [
    "train_image.shape, train_label.shape, test_image.shape, test_label.shape"
   ]
  },
  {
   "cell_type": "markdown",
   "metadata": {},
   "source": [
    "# 多层网络搭建"
   ]
  },
  {
   "cell_type": "code",
   "execution_count": 4,
   "metadata": {},
   "outputs": [],
   "source": [
    "model = keras.Sequential()"
   ]
  },
  {
   "cell_type": "code",
   "execution_count": 5,
   "metadata": {},
   "outputs": [],
   "source": [
    "from keras import layers"
   ]
  },
  {
   "cell_type": "code",
   "execution_count": 6,
   "metadata": {},
   "outputs": [],
   "source": [
    "model.add( layers.Flatten() )  # (60000, 28, 28) —— (60000, 784)\n",
    "model.add( layers.Dense(64, activation = 'relu') )\n",
    "model.add( layers.Dense(64, activation = 'relu') )\n",
    "model.add( layers.Dense(64, activation = 'relu') )\n",
    "model.add( layers.Dense(64, activation = 'relu') )\n",
    "model.add( layers.Dense(10, activation = 'softmax') )"
   ]
  },
  {
   "cell_type": "code",
   "execution_count": 7,
   "metadata": {},
   "outputs": [],
   "source": [
    "model.compile( optimizer = 'adam',\n",
    "               loss = 'sparse_categorical_crossentropy',\n",
    "               metrics = ['acc']\n",
    ")"
   ]
  },
  {
   "cell_type": "code",
   "execution_count": 8,
   "metadata": {},
   "outputs": [
    {
     "name": "stdout",
     "output_type": "stream",
     "text": [
      "WARNING:tensorflow:From e:\\pycharm\\python374\\lib\\site-packages\\keras\\backend\\tensorflow_backend.py:422: The name tf.global_variables is deprecated. Please use tf.compat.v1.global_variables instead.\n",
      "\n",
      "Train on 60000 samples, validate on 10000 samples\n",
      "Epoch 1/30\n",
      "60000/60000 [==============================] - 1s 13us/step - loss: 2.2024 - acc: 0.6820 - val_loss: 0.5771 - val_acc: 0.8429\n",
      "Epoch 2/30\n",
      "60000/60000 [==============================] - 1s 12us/step - loss: 0.4567 - acc: 0.8703 - val_loss: 0.3828 - val_acc: 0.8896\n",
      "Epoch 3/30\n",
      "60000/60000 [==============================] - 1s 11us/step - loss: 0.3153 - acc: 0.9085 - val_loss: 0.3018 - val_acc: 0.9142\n",
      "Epoch 4/30\n",
      "60000/60000 [==============================] - 1s 10us/step - loss: 0.2454 - acc: 0.9273 - val_loss: 0.2572 - val_acc: 0.9283\n",
      "Epoch 5/30\n",
      "60000/60000 [==============================] - 1s 9us/step - loss: 0.2010 - acc: 0.9406 - val_loss: 0.2384 - val_acc: 0.9344\n",
      "Epoch 6/30\n",
      "60000/60000 [==============================] - 1s 10us/step - loss: 0.1743 - acc: 0.9472 - val_loss: 0.2215 - val_acc: 0.9390\n",
      "Epoch 7/30\n",
      "60000/60000 [==============================] - 1s 10us/step - loss: 0.1520 - acc: 0.9538 - val_loss: 0.2079 - val_acc: 0.9411\n",
      "Epoch 8/30\n",
      "60000/60000 [==============================] - 1s 9us/step - loss: 0.1315 - acc: 0.9595 - val_loss: 0.2036 - val_acc: 0.9448\n",
      "Epoch 9/30\n",
      "60000/60000 [==============================] - 1s 9us/step - loss: 0.1204 - acc: 0.9617 - val_loss: 0.2026 - val_acc: 0.9472\n",
      "Epoch 10/30\n",
      "60000/60000 [==============================] - 1s 10us/step - loss: 0.1084 - acc: 0.9660 - val_loss: 0.1880 - val_acc: 0.9477\n",
      "Epoch 11/30\n",
      "60000/60000 [==============================] - 1s 10us/step - loss: 0.0977 - acc: 0.9690 - val_loss: 0.1781 - val_acc: 0.9516\n",
      "Epoch 12/30\n",
      "60000/60000 [==============================] - 1s 10us/step - loss: 0.0878 - acc: 0.9719 - val_loss: 0.1786 - val_acc: 0.9544\n",
      "Epoch 13/30\n",
      "60000/60000 [==============================] - 1s 9us/step - loss: 0.0783 - acc: 0.9748 - val_loss: 0.1736 - val_acc: 0.9550\n",
      "Epoch 14/30\n",
      "60000/60000 [==============================] - 1s 11us/step - loss: 0.0744 - acc: 0.9762 - val_loss: 0.1816 - val_acc: 0.9541\n",
      "Epoch 15/30\n",
      "60000/60000 [==============================] - 1s 11us/step - loss: 0.0696 - acc: 0.9776 - val_loss: 0.1803 - val_acc: 0.9573\n",
      "Epoch 16/30\n",
      "60000/60000 [==============================] - 1s 11us/step - loss: 0.0631 - acc: 0.9798 - val_loss: 0.1788 - val_acc: 0.9550\n",
      "Epoch 17/30\n",
      "60000/60000 [==============================] - 1s 12us/step - loss: 0.0548 - acc: 0.9819 - val_loss: 0.1910 - val_acc: 0.9547\n",
      "Epoch 18/30\n",
      "60000/60000 [==============================] - 1s 10us/step - loss: 0.0538 - acc: 0.9827 - val_loss: 0.1992 - val_acc: 0.9564\n",
      "Epoch 19/30\n",
      "60000/60000 [==============================] - 1s 10us/step - loss: 0.0520 - acc: 0.9832 - val_loss: 0.2034 - val_acc: 0.9531\n",
      "Epoch 20/30\n",
      "60000/60000 [==============================] - 1s 10us/step - loss: 0.0492 - acc: 0.9841 - val_loss: 0.1899 - val_acc: 0.9587\n",
      "Epoch 21/30\n",
      "60000/60000 [==============================] - 1s 10us/step - loss: 0.0413 - acc: 0.9864 - val_loss: 0.1989 - val_acc: 0.9576\n",
      "Epoch 22/30\n",
      "60000/60000 [==============================] - 1s 10us/step - loss: 0.0425 - acc: 0.9858 - val_loss: 0.1869 - val_acc: 0.9584\n",
      "Epoch 23/30\n",
      "60000/60000 [==============================] - 1s 10us/step - loss: 0.0408 - acc: 0.9865 - val_loss: 0.1995 - val_acc: 0.9595\n",
      "Epoch 24/30\n",
      "60000/60000 [==============================] - 1s 11us/step - loss: 0.0395 - acc: 0.9869 - val_loss: 0.1909 - val_acc: 0.9613\n",
      "Epoch 25/30\n",
      "60000/60000 [==============================] - 1s 10us/step - loss: 0.0367 - acc: 0.9872 - val_loss: 0.2066 - val_acc: 0.9606\n",
      "Epoch 26/30\n",
      "60000/60000 [==============================] - 1s 11us/step - loss: 0.0456 - acc: 0.9852 - val_loss: 0.2083 - val_acc: 0.9560\n",
      "Epoch 27/30\n",
      "60000/60000 [==============================] - 1s 11us/step - loss: 0.0453 - acc: 0.9857 - val_loss: 0.2097 - val_acc: 0.9585\n",
      "Epoch 28/30\n",
      "60000/60000 [==============================] - 1s 11us/step - loss: 0.0378 - acc: 0.9876 - val_loss: 0.2078 - val_acc: 0.9597\n",
      "Epoch 29/30\n",
      "60000/60000 [==============================] - 1s 10us/step - loss: 0.0329 - acc: 0.9888 - val_loss: 0.1954 - val_acc: 0.9601\n",
      "Epoch 30/30\n",
      "60000/60000 [==============================] - 1s 10us/step - loss: 0.0400 - acc: 0.9872 - val_loss: 0.2134 - val_acc: 0.9599\n"
     ]
    }
   ],
   "source": [
    "history = model.fit( train_image, train_label, epochs = 30, batch_size = 512, validation_data=(test_image, test_label) )"
   ]
  },
  {
   "cell_type": "code",
   "execution_count": 9,
   "metadata": {},
   "outputs": [
    {
     "name": "stdout",
     "output_type": "stream",
     "text": [
      "60000/60000 [==============================] - 1s 19us/step\n"
     ]
    },
    {
     "data": {
      "text/plain": [
       "[0.024327570070605604, 0.9921000003814697]"
      ]
     },
     "execution_count": 9,
     "metadata": {},
     "output_type": "execute_result"
    }
   ],
   "source": [
    "model.evaluate(train_image, train_label)"
   ]
  },
  {
   "cell_type": "code",
   "execution_count": 10,
   "metadata": {},
   "outputs": [
    {
     "name": "stdout",
     "output_type": "stream",
     "text": [
      "10000/10000 [==============================] - 0s 21us/step\n"
     ]
    },
    {
     "data": {
      "text/plain": [
       "[0.21338858917557435, 0.9599000215530396]"
      ]
     },
     "execution_count": 10,
     "metadata": {},
     "output_type": "execute_result"
    }
   ],
   "source": [
    "model.evaluate(test_image, test_label)"
   ]
  },
  {
   "cell_type": "code",
   "execution_count": 11,
   "metadata": {},
   "outputs": [
    {
     "data": {
      "text/plain": [
       "<matplotlib.legend.Legend at 0x1c4e83b8f88>"
      ]
     },
     "execution_count": 11,
     "metadata": {},
     "output_type": "execute_result"
    },
    {
     "data": {
      "image/png": "[encoded data removed]",
      "text/plain": [
       "<Figure size 432x288 with 1 Axes>"
      ]
     },
     "metadata": {
      "needs_background": "light"
     },
     "output_type": "display_data"
    }
   ],
   "source": [
    "plt.rcParams['font.sans-serif'] = ['SimHei']  # 步骤一（替换sans-serif字体）\n",
    "plt.rcParams['axes.unicode_minus'] = False    # 步骤二（解决坐标轴负数的负号显示问题）\n",
    "# 训练精度与测试精度的对比图：\n",
    "plt.plot( history.epoch, history.history.get('acc'), c = 'b', label = '训练精度' )\n",
    "plt.plot( history.epoch, history.history.get('val_acc'), c = 'r', label = '测试精度' )\n",
    "plt.ylim( ymin=0.8 )\n",
    "plt.legend()"
   ]
  },
  {
   "cell_type": "markdown",
   "metadata": {},
   "source": [
    "# 使用dropout优化"
   ]
  },
  {
   "cell_type": "code",
   "execution_count": 18,
   "metadata": {},
   "outputs": [],
   "source": [
    "model1 = keras.Sequential()\n",
    "\n",
    "model1.add( layers.Flatten() )  # (60000, 28, 28) —— (60000, 784)\n",
    "model1.add( layers.Dense(128, activation = 'relu') )\n",
    "model1.add( layers.Dropout(0.3) )\n",
    "model1.add( layers.Dense(64, activation = 'relu') )\n",
    "model1.add( layers.Dropout(0.3) )\n",
    "model1.add( layers.Dense(64, activation = 'relu') )\n",
    "model1.add( layers.Dropout(0.3) )\n",
    "model1.add( layers.Dense(64, activation = 'relu') )\n",
    "model1.add( layers.Dropout(0.3) )\n",
    "model1.add( layers.Dense(10, activation = 'softmax') )"
   ]
  },
  {
   "cell_type": "code",
   "execution_count": 19,
   "metadata": {},
   "outputs": [],
   "source": [
    "model1.compile( optimizer = 'adam',\n",
    "                loss = 'sparse_categorical_crossentropy',\n",
    "                metrics = ['acc']\n",
    ")"
   ]
  },
  {
   "cell_type": "code",
   "execution_count": 25,
   "metadata": {},
   "outputs": [
    {
     "name": "stdout",
     "output_type": "stream",
     "text": [
      "Train on 60000 samples, validate on 10000 samples\n",
      "Epoch 1/150\n",
      "60000/60000 [==============================] - 1s 14us/step - loss: 0.6333 - acc: 0.7963 - val_loss: 0.4173 - val_acc: 0.8792\n",
      "Epoch 2/150\n",
      "60000/60000 [==============================] - 1s 15us/step - loss: 0.6246 - acc: 0.8014 - val_loss: 0.4540 - val_acc: 0.8440\n",
      "Epoch 3/150\n",
      "60000/60000 [==============================] - 1s 15us/step - loss: 0.6234 - acc: 0.7979 - val_loss: 0.4318 - val_acc: 0.8671\n",
      "Epoch 4/150\n",
      "60000/60000 [==============================] - 1s 17us/step - loss: 0.6130 - acc: 0.8031 - val_loss: 0.4697 - val_acc: 0.8425\n",
      "Epoch 5/150\n",
      "60000/60000 [==============================] - 1s 16us/step - loss: 0.6113 - acc: 0.8026 - val_loss: 0.4085 - val_acc: 0.8750\n",
      "Epoch 6/150\n",
      "60000/60000 [==============================] - 1s 18us/step - loss: 0.6101 - acc: 0.8036 - val_loss: 0.4212 - val_acc: 0.8738\n",
      "Epoch 7/150\n",
      "60000/60000 [==============================] - 1s 19us/step - loss: 0.6049 - acc: 0.8041 - val_loss: 0.4343 - val_acc: 0.8698\n",
      "Epoch 8/150\n",
      "60000/60000 [==============================] - 1s 17us/step - loss: 0.6031 - acc: 0.8067 - val_loss: 0.4149 - val_acc: 0.8596\n",
      "Epoch 9/150\n",
      "60000/60000 [==============================] - 1s 15us/step - loss: 0.6022 - acc: 0.8067 - val_loss: 0.4087 - val_acc: 0.8787\n",
      "Epoch 10/150\n",
      "60000/60000 [==============================] - 1s 16us/step - loss: 0.5944 - acc: 0.8065 - val_loss: 0.4018 - val_acc: 0.8833\n",
      "Epoch 11/150\n",
      "60000/60000 [==============================] - 1s 15us/step - loss: 0.5994 - acc: 0.8066 - val_loss: 0.4475 - val_acc: 0.8407\n",
      "Epoch 12/150\n",
      "60000/60000 [==============================] - 1s 17us/step - loss: 0.5976 - acc: 0.8073 - val_loss: 0.4470 - val_acc: 0.8525\n",
      "Epoch 13/150\n",
      "60000/60000 [==============================] - 1s 17us/step - loss: 0.5925 - acc: 0.8087 - val_loss: 0.4054 - val_acc: 0.8803\n",
      "Epoch 14/150\n",
      "60000/60000 [==============================] - 1s 14us/step - loss: 0.5816 - acc: 0.8121 - val_loss: 0.4188 - val_acc: 0.8714\n",
      "Epoch 15/150\n",
      "60000/60000 [==============================] - 1s 14us/step - loss: 0.5826 - acc: 0.8117 - val_loss: 0.4234 - val_acc: 0.8715\n",
      "Epoch 16/150\n",
      "60000/60000 [==============================] - 1s 16us/step - loss: 0.5818 - acc: 0.8108 - val_loss: 0.4067 - val_acc: 0.8812\n",
      "Epoch 17/150\n",
      "60000/60000 [==============================] - 1s 14us/step - loss: 0.5944 - acc: 0.8066 - val_loss: 0.4227 - val_acc: 0.8850\n",
      "Epoch 18/150\n",
      "60000/60000 [==============================] - 1s 14us/step - loss: 0.5818 - acc: 0.8105 - val_loss: 0.4161 - val_acc: 0.8750\n",
      "Epoch 19/150\n",
      "60000/60000 [==============================] - 1s 14us/step - loss: 0.5784 - acc: 0.8112 - val_loss: 0.3990 - val_acc: 0.8836\n",
      "Epoch 20/150\n",
      "60000/60000 [==============================] - 1s 14us/step - loss: 0.5824 - acc: 0.8108 - val_loss: 0.4220 - val_acc: 0.8815\n",
      "Epoch 21/150\n",
      "60000/60000 [==============================] - 1s 14us/step - loss: 0.5822 - acc: 0.8113 - val_loss: 0.4210 - val_acc: 0.8769\n",
      "Epoch 22/150\n",
      "60000/60000 [==============================] - 1s 14us/step - loss: 0.5741 - acc: 0.8121 - val_loss: 0.4195 - val_acc: 0.8717\n",
      "Epoch 23/150\n",
      "60000/60000 [==============================] - 1s 14us/step - loss: 0.5724 - acc: 0.8144 - val_loss: 0.3955 - val_acc: 0.8834\n",
      "Epoch 24/150\n",
      "60000/60000 [==============================] - 1s 14us/step - loss: 0.5722 - acc: 0.8148 - val_loss: 0.3835 - val_acc: 0.8868\n",
      "Epoch 25/150\n",
      "60000/60000 [==============================] - 1s 14us/step - loss: 0.5623 - acc: 0.8199 - val_loss: 0.3717 - val_acc: 0.8999\n",
      "Epoch 26/150\n",
      "60000/60000 [==============================] - 1s 14us/step - loss: 0.5692 - acc: 0.8163 - val_loss: 0.3715 - val_acc: 0.9020\n",
      "Epoch 27/150\n",
      "60000/60000 [==============================] - 1s 14us/step - loss: 0.5607 - acc: 0.8194 - val_loss: 0.3999 - val_acc: 0.8828\n",
      "Epoch 28/150\n",
      "60000/60000 [==============================] - 1s 15us/step - loss: 0.5611 - acc: 0.8196 - val_loss: 0.3814 - val_acc: 0.8944\n",
      "Epoch 29/150\n",
      "60000/60000 [==============================] - 1s 14us/step - loss: 0.5509 - acc: 0.8230 - val_loss: 0.3706 - val_acc: 0.9002\n",
      "Epoch 30/150\n",
      "60000/60000 [==============================] - 1s 14us/step - loss: 0.5535 - acc: 0.8224 - val_loss: 0.3858 - val_acc: 0.8838\n",
      "Epoch 31/150\n",
      "60000/60000 [==============================] - 1s 14us/step - loss: 0.5483 - acc: 0.8244 - val_loss: 0.3551 - val_acc: 0.9050\n",
      "Epoch 32/150\n",
      "60000/60000 [==============================] - 1s 14us/step - loss: 0.5469 - acc: 0.8271 - val_loss: 0.3971 - val_acc: 0.8903\n",
      "Epoch 33/150\n",
      "60000/60000 [==============================] - 1s 14us/step - loss: 0.5466 - acc: 0.8307 - val_loss: 0.3686 - val_acc: 0.8946\n",
      "Epoch 34/150\n",
      "60000/60000 [==============================] - 1s 14us/step - loss: 0.5407 - acc: 0.8306 - val_loss: 0.3802 - val_acc: 0.8967\n",
      "Epoch 35/150\n",
      "60000/60000 [==============================] - 1s 14us/step - loss: 0.5396 - acc: 0.8310 - val_loss: 0.3729 - val_acc: 0.8949\n",
      "Epoch 36/150\n",
      "60000/60000 [==============================] - 1s 14us/step - loss: 0.5353 - acc: 0.8333 - val_loss: 0.3344 - val_acc: 0.9102\n",
      "Epoch 37/150\n",
      "60000/60000 [==============================] - 1s 14us/step - loss: 0.5312 - acc: 0.8364 - val_loss: 0.3373 - val_acc: 0.9145\n",
      "Epoch 38/150\n",
      "60000/60000 [==============================] - 1s 14us/step - loss: 0.5315 - acc: 0.8357 - val_loss: 0.3350 - val_acc: 0.9141\n",
      "Epoch 39/150\n",
      "60000/60000 [==============================] - 1s 14us/step - loss: 0.5330 - acc: 0.8353 - val_loss: 0.3329 - val_acc: 0.9100\n",
      "Epoch 40/150\n",
      "60000/60000 [==============================] - 1s 14us/step - loss: 0.5267 - acc: 0.8359 - val_loss: 0.3329 - val_acc: 0.9126\n",
      "Epoch 41/150\n",
      "60000/60000 [==============================] - 1s 15us/step - loss: 0.5233 - acc: 0.8382 - val_loss: 0.3382 - val_acc: 0.9115\n",
      "Epoch 42/150\n",
      "60000/60000 [==============================] - 1s 14us/step - loss: 0.5174 - acc: 0.8395 - val_loss: 0.3436 - val_acc: 0.9132\n",
      "Epoch 43/150\n",
      "60000/60000 [==============================] - 1s 14us/step - loss: 0.5237 - acc: 0.8402 - val_loss: 0.3497 - val_acc: 0.9081\n",
      "Epoch 44/150\n",
      "60000/60000 [==============================] - 1s 14us/step - loss: 0.5231 - acc: 0.8392 - val_loss: 0.3383 - val_acc: 0.9113\n",
      "Epoch 45/150\n",
      "60000/60000 [==============================] - 1s 14us/step - loss: 0.5249 - acc: 0.8406 - val_loss: 0.3379 - val_acc: 0.9094\n",
      "Epoch 46/150\n",
      "60000/60000 [==============================] - 1s 14us/step - loss: 0.5229 - acc: 0.8395 - val_loss: 0.3571 - val_acc: 0.9062\n",
      "Epoch 47/150\n",
      "60000/60000 [==============================] - 1s 14us/step - loss: 0.5060 - acc: 0.8459 - val_loss: 0.3371 - val_acc: 0.9089\n",
      "Epoch 48/150\n",
      "60000/60000 [==============================] - 1s 14us/step - loss: 0.5074 - acc: 0.8436 - val_loss: 0.3246 - val_acc: 0.9209\n",
      "Epoch 49/150\n",
      "60000/60000 [==============================] - 1s 14us/step - loss: 0.5149 - acc: 0.8430 - val_loss: 0.3509 - val_acc: 0.8957\n",
      "Epoch 50/150\n",
      "60000/60000 [==============================] - 1s 14us/step - loss: 0.5128 - acc: 0.8406 - val_loss: 0.3297 - val_acc: 0.9157\n",
      "Epoch 51/150\n",
      "60000/60000 [==============================] - 1s 14us/step - loss: 0.5081 - acc: 0.8450 - val_loss: 0.3537 - val_acc: 0.9083\n",
      "Epoch 52/150\n",
      "60000/60000 [==============================] - 1s 14us/step - loss: 0.5105 - acc: 0.8419 - val_loss: 0.3323 - val_acc: 0.9139\n",
      "Epoch 53/150\n",
      "60000/60000 [==============================] - 1s 15us/step - loss: 0.5059 - acc: 0.8449 - val_loss: 0.3376 - val_acc: 0.9127\n",
      "Epoch 54/150\n",
      "60000/60000 [==============================] - 1s 15us/step - loss: 0.4985 - acc: 0.8479 - val_loss: 0.3275 - val_acc: 0.9167\n",
      "Epoch 55/150\n",
      "60000/60000 [==============================] - 1s 16us/step - loss: 0.5118 - acc: 0.8451 - val_loss: 0.3275 - val_acc: 0.9142\n",
      "Epoch 56/150\n",
      "60000/60000 [==============================] - 1s 15us/step - loss: 0.5040 - acc: 0.8472 - val_loss: 0.3328 - val_acc: 0.9169\n",
      "Epoch 57/150\n",
      "60000/60000 [==============================] - 1s 19us/step - loss: 0.4918 - acc: 0.8488 - val_loss: 0.3387 - val_acc: 0.9152\n",
      "Epoch 58/150\n",
      "60000/60000 [==============================] - 1s 17us/step - loss: 0.5041 - acc: 0.8475 - val_loss: 0.3272 - val_acc: 0.9201\n",
      "Epoch 59/150\n"
     ]
    },
    {
     "name": "stdout",
     "output_type": "stream",
     "text": [
      "60000/60000 [==============================] - 1s 21us/step - loss: 0.4977 - acc: 0.8490 - val_loss: 0.3348 - val_acc: 0.9185\n",
      "Epoch 60/150\n",
      "60000/60000 [==============================] - 1s 22us/step - loss: 0.4951 - acc: 0.8492 - val_loss: 0.3272 - val_acc: 0.9172\n",
      "Epoch 61/150\n",
      "60000/60000 [==============================] - 1s 17us/step - loss: 0.5051 - acc: 0.8435 - val_loss: 0.3145 - val_acc: 0.9250\n",
      "Epoch 62/150\n",
      "60000/60000 [==============================] - 1s 16us/step - loss: 0.4952 - acc: 0.8499 - val_loss: 0.3256 - val_acc: 0.9168\n",
      "Epoch 63/150\n",
      "60000/60000 [==============================] - 1s 16us/step - loss: 0.4903 - acc: 0.8510 - val_loss: 0.3034 - val_acc: 0.9263\n",
      "Epoch 64/150\n",
      "60000/60000 [==============================] - 1s 14us/step - loss: 0.4891 - acc: 0.8487 - val_loss: 0.3207 - val_acc: 0.9233\n",
      "Epoch 65/150\n",
      "60000/60000 [==============================] - 1s 14us/step - loss: 0.4929 - acc: 0.8492 - val_loss: 0.3282 - val_acc: 0.9174\n",
      "Epoch 66/150\n",
      "60000/60000 [==============================] - 1s 15us/step - loss: 0.4911 - acc: 0.8500 - val_loss: 0.3105 - val_acc: 0.9269\n",
      "Epoch 67/150\n",
      "60000/60000 [==============================] - 1s 14us/step - loss: 0.4852 - acc: 0.8511 - val_loss: 0.3106 - val_acc: 0.9298\n",
      "Epoch 68/150\n",
      "60000/60000 [==============================] - 1s 14us/step - loss: 0.4796 - acc: 0.8524 - val_loss: 0.3162 - val_acc: 0.9228\n",
      "Epoch 69/150\n",
      "60000/60000 [==============================] - 1s 14us/step - loss: 0.4871 - acc: 0.8513 - val_loss: 0.3228 - val_acc: 0.9221\n",
      "Epoch 70/150\n",
      "60000/60000 [==============================] - 1s 14us/step - loss: 0.4779 - acc: 0.8524 - val_loss: 0.3100 - val_acc: 0.9252\n",
      "Epoch 71/150\n",
      "60000/60000 [==============================] - 1s 14us/step - loss: 0.4802 - acc: 0.8524 - val_loss: 0.3030 - val_acc: 0.9256\n",
      "Epoch 72/150\n",
      "60000/60000 [==============================] - 1s 14us/step - loss: 0.4832 - acc: 0.8527 - val_loss: 0.3165 - val_acc: 0.9208\n",
      "Epoch 73/150\n",
      "60000/60000 [==============================] - 1s 14us/step - loss: 0.4770 - acc: 0.8545 - val_loss: 0.2983 - val_acc: 0.9253\n",
      "Epoch 74/150\n",
      "60000/60000 [==============================] - 1s 14us/step - loss: 0.4760 - acc: 0.8540 - val_loss: 0.3211 - val_acc: 0.9211\n",
      "Epoch 75/150\n",
      "60000/60000 [==============================] - 1s 15us/step - loss: 0.4740 - acc: 0.8555 - val_loss: 0.3180 - val_acc: 0.9209\n",
      "Epoch 76/150\n",
      "60000/60000 [==============================] - 1s 15us/step - loss: 0.4729 - acc: 0.8567 - val_loss: 0.3021 - val_acc: 0.9253\n",
      "Epoch 77/150\n",
      "60000/60000 [==============================] - 1s 15us/step - loss: 0.4787 - acc: 0.8554 - val_loss: 0.3156 - val_acc: 0.9198\n",
      "Epoch 78/150\n",
      "60000/60000 [==============================] - 1s 14us/step - loss: 0.4668 - acc: 0.8576 - val_loss: 0.3041 - val_acc: 0.9249\n",
      "Epoch 79/150\n",
      "60000/60000 [==============================] - 1s 15us/step - loss: 0.4703 - acc: 0.8562 - val_loss: 0.3145 - val_acc: 0.9215\n",
      "Epoch 80/150\n",
      "60000/60000 [==============================] - 1s 15us/step - loss: 0.4689 - acc: 0.8560 - val_loss: 0.3136 - val_acc: 0.9206\n",
      "Epoch 81/150\n",
      "60000/60000 [==============================] - 1s 14us/step - loss: 0.4720 - acc: 0.8560 - val_loss: 0.3173 - val_acc: 0.9221\n",
      "Epoch 82/150\n",
      "60000/60000 [==============================] - 1s 14us/step - loss: 0.4627 - acc: 0.8589 - val_loss: 0.2987 - val_acc: 0.9283\n",
      "Epoch 83/150\n",
      "60000/60000 [==============================] - 1s 14us/step - loss: 0.4674 - acc: 0.8555 - val_loss: 0.3189 - val_acc: 0.9213\n",
      "Epoch 84/150\n",
      "60000/60000 [==============================] - 1s 14us/step - loss: 0.4621 - acc: 0.8581 - val_loss: 0.3112 - val_acc: 0.9234\n",
      "Epoch 85/150\n",
      "60000/60000 [==============================] - 1s 14us/step - loss: 0.4705 - acc: 0.8559 - val_loss: 0.2971 - val_acc: 0.9279\n",
      "Epoch 86/150\n",
      "60000/60000 [==============================] - 1s 14us/step - loss: 0.4629 - acc: 0.8597 - val_loss: 0.3207 - val_acc: 0.9162\n",
      "Epoch 87/150\n",
      "60000/60000 [==============================] - 1s 14us/step - loss: 0.4654 - acc: 0.8604 - val_loss: 0.3057 - val_acc: 0.9230\n",
      "Epoch 88/150\n",
      "60000/60000 [==============================] - 1s 14us/step - loss: 0.4583 - acc: 0.8612 - val_loss: 0.3109 - val_acc: 0.9218\n",
      "Epoch 89/150\n",
      "60000/60000 [==============================] - 1s 14us/step - loss: 0.4586 - acc: 0.8604 - val_loss: 0.3025 - val_acc: 0.9273\n",
      "Epoch 90/150\n",
      "60000/60000 [==============================] - 1s 14us/step - loss: 0.4582 - acc: 0.8610 - val_loss: 0.3046 - val_acc: 0.9229\n",
      "Epoch 91/150\n",
      "60000/60000 [==============================] - 1s 14us/step - loss: 0.4523 - acc: 0.8638 - val_loss: 0.2907 - val_acc: 0.9286\n",
      "Epoch 92/150\n",
      "60000/60000 [==============================] - 1s 14us/step - loss: 0.4581 - acc: 0.8619 - val_loss: 0.2884 - val_acc: 0.9294\n",
      "Epoch 93/150\n",
      "60000/60000 [==============================] - 1s 14us/step - loss: 0.4485 - acc: 0.8615 - val_loss: 0.2993 - val_acc: 0.9244\n",
      "Epoch 94/150\n",
      "60000/60000 [==============================] - 1s 14us/step - loss: 0.4550 - acc: 0.8608 - val_loss: 0.2757 - val_acc: 0.9302\n",
      "Epoch 95/150\n",
      "60000/60000 [==============================] - 1s 14us/step - loss: 0.4486 - acc: 0.8632 - val_loss: 0.2941 - val_acc: 0.9240\n",
      "Epoch 96/150\n",
      "60000/60000 [==============================] - 1s 14us/step - loss: 0.4542 - acc: 0.8622 - val_loss: 0.2737 - val_acc: 0.9361\n",
      "Epoch 97/150\n",
      "60000/60000 [==============================] - 1s 14us/step - loss: 0.4460 - acc: 0.8647 - val_loss: 0.3062 - val_acc: 0.9210\n",
      "Epoch 98/150\n",
      "60000/60000 [==============================] - 1s 14us/step - loss: 0.4496 - acc: 0.8641 - val_loss: 0.2872 - val_acc: 0.9313\n",
      "Epoch 99/150\n",
      "60000/60000 [==============================] - 1s 14us/step - loss: 0.4430 - acc: 0.8654 - val_loss: 0.2932 - val_acc: 0.9265\n",
      "Epoch 100/150\n",
      "60000/60000 [==============================] - 1s 14us/step - loss: 0.4414 - acc: 0.8670 - val_loss: 0.2825 - val_acc: 0.9346\n",
      "Epoch 101/150\n",
      "60000/60000 [==============================] - 1s 14us/step - loss: 0.4437 - acc: 0.8656 - val_loss: 0.2943 - val_acc: 0.9250\n",
      "Epoch 102/150\n",
      "60000/60000 [==============================] - 1s 14us/step - loss: 0.4346 - acc: 0.8682 - val_loss: 0.2867 - val_acc: 0.9286\n",
      "Epoch 103/150\n",
      "60000/60000 [==============================] - 1s 14us/step - loss: 0.4382 - acc: 0.8683 - val_loss: 0.2900 - val_acc: 0.9296\n",
      "Epoch 104/150\n",
      "60000/60000 [==============================] - 1s 14us/step - loss: 0.4368 - acc: 0.8682 - val_loss: 0.2875 - val_acc: 0.9275\n",
      "Epoch 105/150\n",
      "60000/60000 [==============================] - 1s 14us/step - loss: 0.4321 - acc: 0.8692 - val_loss: 0.2900 - val_acc: 0.9226\n",
      "Epoch 106/150\n",
      "60000/60000 [==============================] - 1s 14us/step - loss: 0.4359 - acc: 0.8666 - val_loss: 0.2829 - val_acc: 0.9281\n",
      "Epoch 107/150\n",
      "60000/60000 [==============================] - 1s 14us/step - loss: 0.4389 - acc: 0.8685 - val_loss: 0.3031 - val_acc: 0.9261\n",
      "Epoch 108/150\n",
      "60000/60000 [==============================] - 1s 14us/step - loss: 0.4382 - acc: 0.8677 - val_loss: 0.2925 - val_acc: 0.9275\n",
      "Epoch 109/150\n",
      "60000/60000 [==============================] - 1s 15us/step - loss: 0.4336 - acc: 0.8694 - val_loss: 0.3008 - val_acc: 0.9245\n",
      "Epoch 110/150\n",
      "60000/60000 [==============================] - 1s 15us/step - loss: 0.4314 - acc: 0.8688 - val_loss: 0.2927 - val_acc: 0.9232\n",
      "Epoch 111/150\n",
      "60000/60000 [==============================] - 1s 14us/step - loss: 0.4320 - acc: 0.8691 - val_loss: 0.2927 - val_acc: 0.9250\n",
      "Epoch 112/150\n",
      "60000/60000 [==============================] - 1s 14us/step - loss: 0.4251 - acc: 0.8724 - val_loss: 0.2918 - val_acc: 0.9248\n",
      "Epoch 113/150\n",
      "60000/60000 [==============================] - 1s 14us/step - loss: 0.4288 - acc: 0.8698 - val_loss: 0.2802 - val_acc: 0.9285\n",
      "Epoch 114/150\n",
      "60000/60000 [==============================] - 1s 15us/step - loss: 0.4253 - acc: 0.8716 - val_loss: 0.2684 - val_acc: 0.9339\n",
      "Epoch 115/150\n",
      "60000/60000 [==============================] - 1s 15us/step - loss: 0.4256 - acc: 0.8742 - val_loss: 0.2836 - val_acc: 0.9247\n",
      "Epoch 116/150\n",
      "60000/60000 [==============================] - 1s 15us/step - loss: 0.4291 - acc: 0.8689 - val_loss: 0.2728 - val_acc: 0.9310\n",
      "Epoch 117/150\n",
      "60000/60000 [==============================] - 1s 14us/step - loss: 0.4276 - acc: 0.8712 - val_loss: 0.3165 - val_acc: 0.9155\n"
     ]
    },
    {
     "name": "stdout",
     "output_type": "stream",
     "text": [
      "Epoch 118/150\n",
      "60000/60000 [==============================] - 1s 14us/step - loss: 0.4257 - acc: 0.8703 - val_loss: 0.2841 - val_acc: 0.9291\n",
      "Epoch 119/150\n",
      "60000/60000 [==============================] - 1s 14us/step - loss: 0.4240 - acc: 0.8718 - val_loss: 0.2915 - val_acc: 0.9249\n",
      "Epoch 120/150\n",
      "60000/60000 [==============================] - 1s 14us/step - loss: 0.4280 - acc: 0.8713 - val_loss: 0.2849 - val_acc: 0.9312\n",
      "Epoch 121/150\n",
      "60000/60000 [==============================] - 1s 14us/step - loss: 0.4297 - acc: 0.8700 - val_loss: 0.2831 - val_acc: 0.9274\n",
      "Epoch 122/150\n",
      "60000/60000 [==============================] - 1s 14us/step - loss: 0.4249 - acc: 0.8716 - val_loss: 0.3065 - val_acc: 0.9084\n",
      "Epoch 123/150\n",
      "60000/60000 [==============================] - 1s 14us/step - loss: 0.4281 - acc: 0.8714 - val_loss: 0.2824 - val_acc: 0.9279\n",
      "Epoch 124/150\n",
      "60000/60000 [==============================] - 1s 14us/step - loss: 0.4222 - acc: 0.8735 - val_loss: 0.2908 - val_acc: 0.9247\n",
      "Epoch 125/150\n",
      "60000/60000 [==============================] - 1s 14us/step - loss: 0.4212 - acc: 0.8732 - val_loss: 0.2834 - val_acc: 0.9255\n",
      "Epoch 126/150\n",
      "60000/60000 [==============================] - 1s 14us/step - loss: 0.4279 - acc: 0.8704 - val_loss: 0.2932 - val_acc: 0.9258\n",
      "Epoch 127/150\n",
      "60000/60000 [==============================] - 1s 14us/step - loss: 0.4284 - acc: 0.8713 - val_loss: 0.2668 - val_acc: 0.9331\n",
      "Epoch 128/150\n",
      "60000/60000 [==============================] - 1s 14us/step - loss: 0.4187 - acc: 0.8743 - val_loss: 0.2963 - val_acc: 0.9197\n",
      "Epoch 129/150\n",
      "60000/60000 [==============================] - 1s 14us/step - loss: 0.4249 - acc: 0.8717 - val_loss: 0.2810 - val_acc: 0.9269\n",
      "Epoch 130/150\n",
      "60000/60000 [==============================] - 1s 14us/step - loss: 0.4261 - acc: 0.8739 - val_loss: 0.2928 - val_acc: 0.9254\n",
      "Epoch 131/150\n",
      "60000/60000 [==============================] - 1s 14us/step - loss: 0.4298 - acc: 0.8703 - val_loss: 0.3032 - val_acc: 0.9205\n",
      "Epoch 132/150\n",
      "60000/60000 [==============================] - 1s 14us/step - loss: 0.4246 - acc: 0.8735 - val_loss: 0.2884 - val_acc: 0.9259\n",
      "Epoch 133/150\n",
      "60000/60000 [==============================] - 1s 14us/step - loss: 0.4155 - acc: 0.8759 - val_loss: 0.2885 - val_acc: 0.9279\n",
      "Epoch 134/150\n",
      "60000/60000 [==============================] - 1s 14us/step - loss: 0.4172 - acc: 0.8739 - val_loss: 0.2891 - val_acc: 0.9314\n",
      "Epoch 135/150\n",
      "60000/60000 [==============================] - 1s 14us/step - loss: 0.4224 - acc: 0.8720 - val_loss: 0.2920 - val_acc: 0.9280\n",
      "Epoch 136/150\n",
      "60000/60000 [==============================] - 1s 14us/step - loss: 0.4185 - acc: 0.8735 - val_loss: 0.2848 - val_acc: 0.9267\n",
      "Epoch 137/150\n",
      "60000/60000 [==============================] - 1s 14us/step - loss: 0.4130 - acc: 0.8750 - val_loss: 0.2871 - val_acc: 0.9293\n",
      "Epoch 138/150\n",
      "60000/60000 [==============================] - 1s 14us/step - loss: 0.4220 - acc: 0.8739 - val_loss: 0.2973 - val_acc: 0.9236\n",
      "Epoch 139/150\n",
      "60000/60000 [==============================] - 1s 14us/step - loss: 0.4181 - acc: 0.8749 - val_loss: 0.2846 - val_acc: 0.9274\n",
      "Epoch 140/150\n",
      "60000/60000 [==============================] - 1s 14us/step - loss: 0.4255 - acc: 0.8716 - val_loss: 0.2784 - val_acc: 0.9297\n",
      "Epoch 141/150\n",
      "60000/60000 [==============================] - 1s 14us/step - loss: 0.4156 - acc: 0.8746 - val_loss: 0.2812 - val_acc: 0.9301\n",
      "Epoch 142/150\n",
      "60000/60000 [==============================] - 1s 14us/step - loss: 0.4105 - acc: 0.8762 - val_loss: 0.3001 - val_acc: 0.9269\n",
      "Epoch 143/150\n",
      "60000/60000 [==============================] - 1s 14us/step - loss: 0.4274 - acc: 0.8705 - val_loss: 0.2902 - val_acc: 0.9280\n",
      "Epoch 144/150\n",
      "60000/60000 [==============================] - 1s 14us/step - loss: 0.4168 - acc: 0.8756 - val_loss: 0.2951 - val_acc: 0.9232\n",
      "Epoch 145/150\n",
      "60000/60000 [==============================] - 1s 14us/step - loss: 0.4140 - acc: 0.8748 - val_loss: 0.2957 - val_acc: 0.9313\n",
      "Epoch 146/150\n",
      "60000/60000 [==============================] - 1s 14us/step - loss: 0.4193 - acc: 0.8743 - val_loss: 0.2839 - val_acc: 0.9307\n",
      "Epoch 147/150\n",
      "60000/60000 [==============================] - 1s 15us/step - loss: 0.4193 - acc: 0.8751 - val_loss: 0.3023 - val_acc: 0.9125\n",
      "Epoch 148/150\n",
      "60000/60000 [==============================] - 1s 14us/step - loss: 0.4150 - acc: 0.8756 - val_loss: 0.2907 - val_acc: 0.9288\n",
      "Epoch 149/150\n",
      "60000/60000 [==============================] - 1s 14us/step - loss: 0.4112 - acc: 0.8773 - val_loss: 0.2713 - val_acc: 0.9356\n",
      "Epoch 150/150\n",
      "60000/60000 [==============================] - 1s 14us/step - loss: 0.4125 - acc: 0.8762 - val_loss: 0.2921 - val_acc: 0.9300\n"
     ]
    }
   ],
   "source": [
    "# 用了dropout使得网络的单元数变少，因此要增大epochs\n",
    "history = model1.fit( train_image, train_label, epochs = 150, batch_size = 512, validation_data=(test_image, test_label) )"
   ]
  },
  {
   "cell_type": "code",
   "execution_count": 26,
   "metadata": {},
   "outputs": [
    {
     "name": "stdout",
     "output_type": "stream",
     "text": [
      "60000/60000 [==============================] - 1s 22us/step\n"
     ]
    },
    {
     "data": {
      "text/plain": [
       "[0.21926665494640668, 0.939383327960968]"
      ]
     },
     "execution_count": 26,
     "metadata": {},
     "output_type": "execute_result"
    }
   ],
   "source": [
    "model1.evaluate(train_image, train_label)"
   ]
  },
  {
   "cell_type": "code",
   "execution_count": 27,
   "metadata": {},
   "outputs": [
    {
     "name": "stdout",
     "output_type": "stream",
     "text": [
      "10000/10000 [==============================] - 0s 25us/step\n"
     ]
    },
    {
     "data": {
      "text/plain": [
       "[0.29205165464282035, 0.9300000071525574]"
      ]
     },
     "execution_count": 27,
     "metadata": {},
     "output_type": "execute_result"
    }
   ],
   "source": [
    "model1.evaluate(test_image, test_label)"
   ]
  },
  {
   "cell_type": "code",
   "execution_count": 28,
   "metadata": {},
   "outputs": [
    {
     "data": {
      "text/plain": [
       "<matplotlib.legend.Legend at 0x1c4f0eaadc8>"
      ]
     },
     "execution_count": 28,
     "metadata": {},
     "output_type": "execute_result"
    },
    {
     "data": {
      "image/png": "[encoded data removed]",
      "text/plain": [
       "<Figure size 432x288 with 1 Axes>"
      ]
     },
     "metadata": {
      "needs_background": "light"
     },
     "output_type": "display_data"
    }
   ],
   "source": [
    "plt.rcParams['font.sans-serif'] = ['SimHei']  # 步骤一（替换sans-serif字体）\n",
    "plt.rcParams['axes.unicode_minus'] = False    # 步骤二（解决坐标轴负数的负号显示问题）\n",
    "# 训练精度与测试精度的对比图：\n",
    "plt.plot( history.epoch, history.history.get('acc'), c = 'b', label = '训练精度' )\n",
    "plt.plot( history.epoch, history.history.get('val_acc'), c = 'r', label = '测试精度' )\n",
    "plt.ylim( ymin=0 )\n",
    "plt.legend()"
   ]
  },
  {
   "cell_type": "code",
   "execution_count": null,
   "metadata": {},
   "outputs": [],
   "source": []
  }
 ],
 "metadata": {
  "kernelspec": {
   "display_name": "Python 3",
   "language": "python",
   "name": "python3"
  },
  "language_info": {
   "codemirror_mode": {
    "name": "ipython",
    "version": 3
   },
   "file_extension": ".py",
   "mimetype": "text/x-python",
   "name": "python",
   "nbconvert_exporter": "python",
   "pygments_lexer": "ipython3",
   "version": "3.7.4"
  }
 },
 "nbformat": 4,
 "nbformat_minor": 2
}
