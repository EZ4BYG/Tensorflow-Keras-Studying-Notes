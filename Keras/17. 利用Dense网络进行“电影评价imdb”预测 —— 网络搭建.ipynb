{
 "cells": [
  {
   "cell_type": "markdown",
   "metadata": {},
   "source": [
    "# 问题类型"
   ]
  },
  {
   "cell_type": "markdown",
   "metadata": {},
   "source": [
    "评价结果只有“好1”与“不好0”这两个结果，所以就是一个“二分类”问题！用sigmoid函数激活，loss函数用binary_crossentropy"
   ]
  },
  {
   "cell_type": "code",
   "execution_count": 2,
   "metadata": {},
   "outputs": [
    {
     "name": "stderr",
     "output_type": "stream",
     "text": [
      "Using TensorFlow backend.\n"
     ]
    }
   ],
   "source": [
    "import numpy as np\n",
    "import keras\n",
    "\n",
    "data = keras.datasets.imdb\n",
    "\n",
    "max_word = 10000  # 最大单词数设置为10000 —— 要出现次数排名前10000的单词，丢掉生僻单词\n",
    "# x是数据，y是标签\n",
    "(x_train, y_train), (x_test, y_test) = data.load_data(num_words = max_word)"
   ]
  },
  {
   "cell_type": "code",
   "execution_count": 3,
   "metadata": {},
   "outputs": [],
   "source": [
    "# k-hot转换的函数：一次性对所有数据集转换\n",
    "def k_hot(seqs, dim = 10000):\n",
    "    result = np.zeros( (len(seqs), dim) )\n",
    "    for i, seq in enumerate(seqs):\n",
    "        result[i,seq] = 1\n",
    "    return result"
   ]
  },
  {
   "cell_type": "code",
   "execution_count": 4,
   "metadata": {},
   "outputs": [],
   "source": [
    "x_train = k_hot(x_train)\n",
    "x_test = k_hot(x_test)"
   ]
  },
  {
   "cell_type": "markdown",
   "metadata": {},
   "source": [
    "# 多层网络搭建"
   ]
  },
  {
   "cell_type": "code",
   "execution_count": 5,
   "metadata": {},
   "outputs": [],
   "source": [
    "model = keras.Sequential()\n",
    "from keras import layers"
   ]
  },
  {
   "cell_type": "code",
   "execution_count": 7,
   "metadata": {},
   "outputs": [],
   "source": [
    "# 特征就是那长度为10000的向量：\n",
    "model.add( layers.Dense(32, input_dim = 10000, activation = 'relu') )\n",
    "model.add( layers.Dense(32, activation = 'relu') )\n",
    "model.add( layers.Dense(1, activation = 'sigmoid') )"
   ]
  },
  {
   "cell_type": "code",
   "execution_count": 8,
   "metadata": {},
   "outputs": [
    {
     "name": "stdout",
     "output_type": "stream",
     "text": [
      "Model: \"sequential_1\"\n",
      "_________________________________________________________________\n",
      "Layer (type)                 Output Shape              Param #   \n",
      "=================================================================\n",
      "dense_1 (Dense)              (None, 32)                320032    \n",
      "_________________________________________________________________\n",
      "dense_2 (Dense)              (None, 32)                1056      \n",
      "_________________________________________________________________\n",
      "dense_4 (Dense)              (None, 32)                1056      \n",
      "_________________________________________________________________\n",
      "dense_5 (Dense)              (None, 32)                1056      \n",
      "_________________________________________________________________\n",
      "dense_6 (Dense)              (None, 1)                 33        \n",
      "=================================================================\n",
      "Total params: 323,233\n",
      "Trainable params: 323,233\n",
      "Non-trainable params: 0\n",
      "_________________________________________________________________\n"
     ]
    }
   ],
   "source": [
    "model.summary()"
   ]
  },
  {
   "cell_type": "code",
   "execution_count": 10,
   "metadata": {},
   "outputs": [
    {
     "name": "stdout",
     "output_type": "stream",
     "text": [
      "WARNING:tensorflow:From e:\\pycharm\\python374\\lib\\site-packages\\tensorflow\\python\\ops\\nn_impl.py:180: add_dispatch_support.<locals>.wrapper (from tensorflow.python.ops.array_ops) is deprecated and will be removed in a future version.\n",
      "Instructions for updating:\n",
      "Use tf.where in 2.0, which has the same broadcast rule as np.where\n"
     ]
    }
   ],
   "source": [
    "model.compile( optimizer = 'adam',\n",
    "               loss = 'binary_crossentropy',\n",
    "               metrics = ['acc']  # 因为metrics里面可以算很多东西，所以用列表\n",
    ")"
   ]
  },
  {
   "cell_type": "code",
   "execution_count": 11,
   "metadata": {},
   "outputs": [
    {
     "name": "stdout",
     "output_type": "stream",
     "text": [
      "WARNING:tensorflow:From e:\\pycharm\\python374\\lib\\site-packages\\keras\\backend\\tensorflow_backend.py:422: The name tf.global_variables is deprecated. Please use tf.compat.v1.global_variables instead.\n",
      "\n",
      "Train on 25000 samples, validate on 25000 samples\n",
      "Epoch 1/15\n",
      "25000/25000 [==============================] - 14s 575us/step - loss: 0.3744 - acc: 0.8444 - val_loss: 0.2935 - val_acc: 0.8816\n",
      "Epoch 2/15\n",
      "25000/25000 [==============================] - 7s 270us/step - loss: 0.1861 - acc: 0.9309 - val_loss: 0.3251 - val_acc: 0.8744\n",
      "Epoch 3/15\n",
      "25000/25000 [==============================] - 6s 231us/step - loss: 0.1351 - acc: 0.9513 - val_loss: 0.3797 - val_acc: 0.8679\n",
      "Epoch 4/15\n",
      "25000/25000 [==============================] - 6s 226us/step - loss: 0.0902 - acc: 0.9697 - val_loss: 0.4684 - val_acc: 0.8609\n",
      "Epoch 5/15\n",
      "25000/25000 [==============================] - 5s 210us/step - loss: 0.0513 - acc: 0.9840 - val_loss: 0.5454 - val_acc: 0.8570\n",
      "Epoch 6/15\n",
      "25000/25000 [==============================] - 5s 209us/step - loss: 0.0234 - acc: 0.9940 - val_loss: 0.6111 - val_acc: 0.8574\n",
      "Epoch 7/15\n",
      "25000/25000 [==============================] - 5s 212us/step - loss: 0.0112 - acc: 0.9972 - val_loss: 0.7467 - val_acc: 0.8556\n",
      "Epoch 8/15\n",
      "25000/25000 [==============================] - 5s 205us/step - loss: 0.0051 - acc: 0.9989 - val_loss: 0.8456 - val_acc: 0.8572\n",
      "Epoch 9/15\n",
      "25000/25000 [==============================] - 5s 205us/step - loss: 0.0013 - acc: 0.9999 - val_loss: 0.9429 - val_acc: 0.8572\n",
      "Epoch 10/15\n",
      "25000/25000 [==============================] - 6s 234us/step - loss: 6.1867e-04 - acc: 1.0000 - val_loss: 0.9960 - val_acc: 0.8569\n",
      "Epoch 11/15\n",
      "25000/25000 [==============================] - 5s 210us/step - loss: 3.5495e-04 - acc: 1.0000 - val_loss: 1.0412 - val_acc: 0.8566\n",
      "Epoch 12/15\n",
      "25000/25000 [==============================] - 6s 221us/step - loss: 2.2689e-04 - acc: 1.0000 - val_loss: 1.0777 - val_acc: 0.8566\n",
      "Epoch 13/15\n",
      "25000/25000 [==============================] - 5s 200us/step - loss: 1.6876e-04 - acc: 1.0000 - val_loss: 1.1052 - val_acc: 0.8567\n",
      "Epoch 14/15\n",
      "25000/25000 [==============================] - 5s 207us/step - loss: 1.3173e-04 - acc: 1.0000 - val_loss: 1.1327 - val_acc: 0.8564\n",
      "Epoch 15/15\n",
      "25000/25000 [==============================] - 5s 211us/step - loss: 1.0626e-04 - acc: 1.0000 - val_loss: 1.1550 - val_acc: 0.8570\n"
     ]
    }
   ],
   "source": [
    "history = model.fit( x_train, y_train, epochs = 15, batch_size = 256, validation_data = (x_test, y_test) )"
   ]
  },
  {
   "cell_type": "code",
   "execution_count": 13,
   "metadata": {},
   "outputs": [
    {
     "data": {
      "text/plain": [
       "<matplotlib.legend.Legend at 0x1d017948f08>"
      ]
     },
     "execution_count": 13,
     "metadata": {},
     "output_type": "execute_result"
    },
    {
     "data": {
      "image/png": "[encoded data removed]",
      "text/plain": [
       "<Figure size 432x288 with 1 Axes>"
      ]
     },
     "metadata": {
      "needs_background": "light"
     },
     "output_type": "display_data"
    }
   ],
   "source": [
    "import matplotlib.pyplot as plt\n",
    "plt.rcParams['font.sans-serif'] = ['SimHei']  # 步骤一（替换sans-serif字体）\n",
    "plt.rcParams['axes.unicode_minus'] = False    # 步骤二（解决坐标轴负数的负号显示问题）\n",
    "# 训练精度与测试精度的对比图：\n",
    "plt.plot( history.epoch, history.history.get('acc'), c = 'b', label = '训练精度' )\n",
    "plt.plot( history.epoch, history.history.get('val_acc'), c = 'r', label = '测试精度' )\n",
    "plt.ylim( ymin=0.8 )\n",
    "plt.legend()"
   ]
  },
  {
   "cell_type": "markdown",
   "metadata": {},
   "source": [
    "这过拟合非常明显！而且似乎是从第一轮往后就已经过拟合了！"
   ]
  },
  {
   "cell_type": "code",
   "execution_count": null,
   "metadata": {},
   "outputs": [],
   "source": []
  }
 ],
 "metadata": {
  "kernelspec": {
   "display_name": "Python 3",
   "language": "python",
   "name": "python3"
  },
  "language_info": {
   "codemirror_mode": {
    "name": "ipython",
    "version": 3
   },
   "file_extension": ".py",
   "mimetype": "text/x-python",
   "name": "python",
   "nbconvert_exporter": "python",
   "pygments_lexer": "ipython3",
   "version": "3.7.4"
  }
 },
 "nbformat": 4,
 "nbformat_minor": 2
}
