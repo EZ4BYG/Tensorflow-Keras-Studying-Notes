{
 "cells": [
  {
   "cell_type": "markdown",
   "metadata": {},
   "source": [
    "# 说明： "
   ]
  },
  {
   "cell_type": "markdown",
   "metadata": {},
   "source": [
    "模型在训练过程中(model.fit)，如果没有一种对模型进行相对实时的保存的话，万一停电或内存不足就麻烦了！\n",
    "—— 保存了的模型（不管保存的是当前权重参数，还是整个模型），再次加载进来后就可以继续训练。\n",
    "\n",
    "本节所使用的，用于在训练过程中实时保存模型的函数：\n",
    "- tensorflow下：tf.keras.callbacks.ModelCheckpoint\n",
    "- keras下：keras.callbacks.ModelCheckpoint\n",
    "\n",
    "函数里面的“关键”参数说明：每个epoch保存一次\n",
    "- filepath：模型文件保存的路径；可以预先写好一个字符串；\n",
    "- monitor = 'val_loss'：网络所实时监控的变量，默认是val_loss\n",
    "- save_best_only = False：是否只保存最好的模型，监控/衡量的是上面monitor的东西；默认为False\n",
    "- save_weights_only = False：是否只保存的是“模型参数”；默认为False，即保存整个模型"
   ]
  },
  {
   "cell_type": "markdown",
   "metadata": {},
   "source": [
    "# 用20文件中“CNN分类MNIST手写体”为例子："
   ]
  },
  {
   "cell_type": "code",
   "execution_count": 1,
   "metadata": {},
   "outputs": [
    {
     "name": "stderr",
     "output_type": "stream",
     "text": [
      "Using TensorFlow backend.\n"
     ]
    }
   ],
   "source": [
    "import keras\n",
    "import numpy as np\n",
    "import matplotlib.pyplot as plt"
   ]
  },
  {
   "cell_type": "code",
   "execution_count": 2,
   "metadata": {},
   "outputs": [],
   "source": [
    "import keras.datasets.mnist as mnist\n",
    "(train_image, train_label), (test_image, test_label) = mnist.load_data() "
   ]
  },
  {
   "cell_type": "code",
   "execution_count": 3,
   "metadata": {},
   "outputs": [],
   "source": [
    "train_image = np.expand_dims(train_image, axis = -1)\n",
    "test_image = np.expand_dims(test_image, axis = -1)"
   ]
  },
  {
   "cell_type": "code",
   "execution_count": 4,
   "metadata": {},
   "outputs": [],
   "source": [
    "model = keras.Sequential()"
   ]
  },
  {
   "cell_type": "code",
   "execution_count": 5,
   "metadata": {},
   "outputs": [],
   "source": [
    "from keras import layers"
   ]
  },
  {
   "cell_type": "code",
   "execution_count": 6,
   "metadata": {},
   "outputs": [
    {
     "name": "stdout",
     "output_type": "stream",
     "text": [
      "WARNING:tensorflow:From e:\\pycharm\\python374\\lib\\site-packages\\keras\\backend\\tensorflow_backend.py:4070: The name tf.nn.max_pool is deprecated. Please use tf.nn.max_pool2d instead.\n",
      "\n"
     ]
    }
   ],
   "source": [
    "# 第一层要给输入数据的形状：只要管最后3个维度，前面的batch维不用管\n",
    "model.add( layers.Conv2D( filters=64, kernel_size=(3,3), activation = 'relu', input_shape=(28,28,1) ) )  # 其他一般都用默认\n",
    "model.add( layers.Conv2D( filters=64, kernel_size=(3,3), activation='relu') )\n",
    "model.add( layers.MaxPooling2D()  )  # 池化层一般都用默认的"
   ]
  },
  {
   "cell_type": "code",
   "execution_count": 7,
   "metadata": {},
   "outputs": [],
   "source": [
    "# 进入全连接层：\n",
    "model.add( layers.Flatten() )  # 把(12,12,64)全部展平为12*12*64 = 9216 —— 前面已经说过这个三维数据里都是特征！！！\n",
    "model.add(layers.Dense(256, activation='relu'))\n",
    "model.add( layers.Dropout(0.5) )  # 网络容量还是有些大，dropout一下\n",
    "model.add(layers.Dense(10, activation='softmax'))  # 最后是10分类输出，激活用softmax多分类"
   ]
  },
  {
   "cell_type": "code",
   "execution_count": 8,
   "metadata": {},
   "outputs": [],
   "source": [
    "model.compile( optimizer='adam',\n",
    "               loss = 'sparse_categorical_crossentropy',  # 顺序编码\n",
    "               metrics=['acc']\n",
    ")"
   ]
  },
  {
   "cell_type": "markdown",
   "metadata": {},
   "source": [
    "### 回调函数的设置： "
   ]
  },
  {
   "cell_type": "code",
   "execution_count": 12,
   "metadata": {},
   "outputs": [],
   "source": [
    "# 设置保存位置：直接保存整个模型 —— 每一次生成，都会把上一个文件替换掉\n",
    "checkpoint_path = 'E:/Python_code/keras_total/回调函数保存/gby.h5'\n",
    "\n",
    "# 回调函数初始化：\n",
    "cp_callback = keras.callbacks.ModelCheckpoint(checkpoint_path, save_best_only = False)   # 保存整个模型，每个epoch都保存（一直覆盖）\n",
    "cp_callback = keras.callbacks.ModelCheckpoint(checkpoint_path, save_best_only = True)    # 只保存最好的那个模型（自动监控）"
   ]
  },
  {
   "cell_type": "code",
   "execution_count": 13,
   "metadata": {},
   "outputs": [
    {
     "name": "stdout",
     "output_type": "stream",
     "text": [
      "Train on 60000 samples, validate on 10000 samples\n",
      "Epoch 1/2\n",
      "60000/60000 [==============================] - 132s 2ms/step - loss: 0.0987 - acc: 0.9700 - val_loss: 0.0507 - val_acc: 0.9826\n",
      "Epoch 2/2\n",
      "60000/60000 [==============================] - 128s 2ms/step - loss: 0.0670 - acc: 0.9795 - val_loss: 0.0462 - val_acc: 0.9836\n"
     ]
    },
    {
     "data": {
      "text/plain": [
       "<keras.callbacks.callbacks.History at 0x170452d4b08>"
      ]
     },
     "execution_count": 13,
     "metadata": {},
     "output_type": "execute_result"
    }
   ],
   "source": [
    "# 开始训练：\n",
    "# callbacks = [] 是一个列表，说明可以同时用多个回调函数\n",
    "model.fit(train_image, train_label, epochs = 3, batch_size = 512, validation_data=(test_image, test_label), callbacks=[cp_callback] )"
   ]
  },
  {
   "cell_type": "code",
   "execution_count": null,
   "metadata": {},
   "outputs": [],
   "source": []
  }
 ],
 "metadata": {
  "kernelspec": {
   "display_name": "Python 3",
   "language": "python",
   "name": "python3"
  },
  "language_info": {
   "codemirror_mode": {
    "name": "ipython",
    "version": 3
   },
   "file_extension": ".py",
   "mimetype": "text/x-python",
   "name": "python",
   "nbconvert_exporter": "python",
   "pygments_lexer": "ipython3",
   "version": "3.7.4"
  }
 },
 "nbformat": 4,
 "nbformat_minor": 2
}
