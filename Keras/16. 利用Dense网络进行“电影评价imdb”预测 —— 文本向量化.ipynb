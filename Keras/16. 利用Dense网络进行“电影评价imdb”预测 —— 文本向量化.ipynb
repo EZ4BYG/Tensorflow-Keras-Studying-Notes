{
 "cells": [
  {
   "cell_type": "markdown",
   "metadata": {},
   "source": [
    "# 两种文本向量化方法："
   ]
  },
  {
   "cell_type": "markdown",
   "metadata": {},
   "source": [
    "- one-hot：有10000种可能，那“每一个单词”都转变为[0, 0, ... 0]这种10000维的向量！但是假如这“一句话”中有482个单词，那就会编码成[482, 10000]的数组，并且稀疏性太严重！\n",
    "- k-hot：有10000种可能，那“每一句话”都转变为[0, 0, 1, 1, ... 1, 0]这种的10000维向量！这“一句话”种有482个单词，那就只会转换为[1, 10000]的数组，其中有482个元素为1，其他为0；\n",
    "\n",
    "综上，对于文本的向量化，我们一边采用“k-hot”的编码"
   ]
  },
  {
   "cell_type": "code",
   "execution_count": 13,
   "metadata": {},
   "outputs": [],
   "source": [
    "import numpy as np\n",
    "import keras\n",
    "\n",
    "data = keras.datasets.imdb\n",
    "\n",
    "max_word = 10000  # 最大单词数设置为10000 —— 要出现次数排名前10000的单词，丢掉生僻单词\n",
    "# x是数据，y是标签\n",
    "(x_train, y_train), (x_test, y_test) = data.load_data(num_words = max_word)"
   ]
  },
  {
   "cell_type": "code",
   "execution_count": 14,
   "metadata": {},
   "outputs": [],
   "source": [
    "# k-hot转换的函数：一次性对所有数据集转换\n",
    "def k_hot(seqs, dim = 10000):\n",
    "    result = np.zeros( (len(seqs), dim) )\n",
    "    for i, seq in enumerate(seqs):\n",
    "        result[i,seq] = 1\n",
    "    return result"
   ]
  },
  {
   "cell_type": "code",
   "execution_count": 15,
   "metadata": {},
   "outputs": [
    {
     "data": {
      "text/plain": [
       "(25000, 10000)"
      ]
     },
     "execution_count": 15,
     "metadata": {},
     "output_type": "execute_result"
    }
   ],
   "source": [
    "x_train = k_hot(x_train); x_train.shape    # (25000, 10000)"
   ]
  },
  {
   "cell_type": "code",
   "execution_count": 16,
   "metadata": {},
   "outputs": [
    {
     "data": {
      "text/plain": [
       "(25000, 10000)"
      ]
     },
     "execution_count": 16,
     "metadata": {},
     "output_type": "execute_result"
    }
   ],
   "source": [
    "x_test = k_hot(x_test); x_test.shape       # (25000, 10000)"
   ]
  },
  {
   "cell_type": "code",
   "execution_count": 17,
   "metadata": {},
   "outputs": [
    {
     "data": {
      "text/plain": [
       "(25000,)"
      ]
     },
     "execution_count": 17,
     "metadata": {},
     "output_type": "execute_result"
    }
   ],
   "source": [
    "y_train.shape"
   ]
  },
  {
   "cell_type": "code",
   "execution_count": null,
   "metadata": {},
   "outputs": [],
   "source": []
  }
 ],
 "metadata": {
  "kernelspec": {
   "display_name": "Python 3",
   "language": "python",
   "name": "python3"
  },
  "language_info": {
   "codemirror_mode": {
    "name": "ipython",
    "version": 3
   },
   "file_extension": ".py",
   "mimetype": "text/x-python",
   "name": "python",
   "nbconvert_exporter": "python",
   "pygments_lexer": "ipython3",
   "version": "3.7.4"
  }
 },
 "nbformat": 4,
 "nbformat_minor": 2
}
