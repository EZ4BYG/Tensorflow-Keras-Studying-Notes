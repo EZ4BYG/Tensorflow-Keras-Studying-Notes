{
 "cells": [
  {
   "cell_type": "code",
   "execution_count": 1,
   "metadata": {},
   "outputs": [
    {
     "name": "stderr",
     "output_type": "stream",
     "text": [
      "Using TensorFlow backend.\n"
     ]
    }
   ],
   "source": [
    "import keras\n",
    "import numpy as np\n",
    "import matplotlib.pyplot as plt"
   ]
  },
  {
   "cell_type": "code",
   "execution_count": 2,
   "metadata": {},
   "outputs": [],
   "source": [
    "import keras.datasets.mnist as mnist\n",
    "(train_image, train_label), (test_image, test_label) = mnist.load_data() "
   ]
  },
  {
   "cell_type": "code",
   "execution_count": 3,
   "metadata": {},
   "outputs": [],
   "source": [
    "train_image = np.expand_dims(train_image, axis = -1)\n",
    "test_image = np.expand_dims(test_image, axis = -1)"
   ]
  },
  {
   "cell_type": "markdown",
   "metadata": {},
   "source": [
    "# 原始网络搭建：每层起个名字"
   ]
  },
  {
   "cell_type": "code",
   "execution_count": 9,
   "metadata": {},
   "outputs": [],
   "source": [
    "model = keras.Sequential()"
   ]
  },
  {
   "cell_type": "code",
   "execution_count": 10,
   "metadata": {},
   "outputs": [],
   "source": [
    "from keras import layers"
   ]
  },
  {
   "cell_type": "code",
   "execution_count": 11,
   "metadata": {},
   "outputs": [],
   "source": [
    "# 用name参数给需要的层起名：\n",
    "# 卷积池化层：\n",
    "model.add( layers.Conv2D( filters=64, kernel_size=(3,3), activation = 'relu', input_shape=(28,28,1), name = 'gby_c1' ) )  \n",
    "model.add( layers.Conv2D( filters=64, kernel_size=(3,3), activation='relu', name = 'gby_c2') )\n",
    "model.add( layers.MaxPooling2D()  )  # 该层没可训练参数，也就没权重\n",
    "# 进入全连接层：\n",
    "model.add( layers.Flatten() )        # 该层没可训练参数，也就没权重\n",
    "model.add( layers.Dense(256, activation='relu', name = 'no_d1' ))\n",
    "model.add( layers.Dropout(0.5) )     # 该层没可训练参数，也就没权重\n",
    "model.add(layers.Dense(10, activation='softmax', name = 'no_d2')) "
   ]
  },
  {
   "cell_type": "code",
   "execution_count": 7,
   "metadata": {},
   "outputs": [
    {
     "name": "stdout",
     "output_type": "stream",
     "text": [
      "Model: \"sequential_1\"\n",
      "_________________________________________________________________\n",
      "Layer (type)                 Output Shape              Param #   \n",
      "=================================================================\n",
      "gby_c1 (Conv2D)              (None, 26, 26, 64)        640       \n",
      "_________________________________________________________________\n",
      "gby_c2 (Conv2D)              (None, 24, 24, 64)        36928     \n",
      "_________________________________________________________________\n",
      "max_pooling2d_1 (MaxPooling2 (None, 12, 12, 64)        0         \n",
      "_________________________________________________________________\n",
      "flatten_1 (Flatten)          (None, 9216)              0         \n",
      "_________________________________________________________________\n",
      "no_d1 (Dense)                (None, 256)               2359552   \n",
      "_________________________________________________________________\n",
      "no_d2 (Dropout)              (None, 256)               0         \n",
      "_________________________________________________________________\n",
      "dense_1 (Dense)              (None, 10)                2570      \n",
      "=================================================================\n",
      "Total params: 2,399,690\n",
      "Trainable params: 2,399,690\n",
      "Non-trainable params: 0\n",
      "_________________________________________________________________\n"
     ]
    }
   ],
   "source": [
    "model.summary()"
   ]
  },
  {
   "cell_type": "code",
   "execution_count": 12,
   "metadata": {},
   "outputs": [],
   "source": [
    "model.compile( optimizer='adam',\n",
    "               loss = 'sparse_categorical_crossentropy',  # 顺序编码\n",
    "               metrics=['acc']\n",
    ")"
   ]
  },
  {
   "cell_type": "code",
   "execution_count": 13,
   "metadata": {
    "scrolled": true
   },
   "outputs": [
    {
     "name": "stdout",
     "output_type": "stream",
     "text": [
      "WARNING:tensorflow:From e:\\pycharm\\python374\\lib\\site-packages\\keras\\backend\\tensorflow_backend.py:422: The name tf.global_variables is deprecated. Please use tf.compat.v1.global_variables instead.\n",
      "\n",
      "Train on 60000 samples, validate on 10000 samples\n",
      "Epoch 1/2\n",
      "60000/60000 [==============================] - 98s 2ms/step - loss: 2.1186 - acc: 0.8586 - val_loss: 0.0627 - val_acc: 0.9802\n",
      "Epoch 2/2\n",
      "60000/60000 [==============================] - 99s 2ms/step - loss: 0.0943 - acc: 0.9715 - val_loss: 0.0516 - val_acc: 0.9832\n"
     ]
    },
    {
     "data": {
      "text/plain": [
       "<keras.callbacks.callbacks.History at 0x1e10ea2c688>"
      ]
     },
     "execution_count": 13,
     "metadata": {},
     "output_type": "execute_result"
    }
   ],
   "source": [
    "model.fit(train_image, train_label, epochs = 2, batch_size = 512, validation_data=(test_image, test_label) )"
   ]
  },
  {
   "cell_type": "markdown",
   "metadata": {},
   "source": [
    "# 新建层结构模型：用形式3按“层名字”加载部分参数"
   ]
  },
  {
   "cell_type": "code",
   "execution_count": 15,
   "metadata": {},
   "outputs": [],
   "source": [
    "# 对原模型权重的保存：\n",
    "model.save_weights('my_model_weights_25.h5')"
   ]
  },
  {
   "cell_type": "markdown",
   "metadata": {},
   "source": [
    "### 新建一个层结构： "
   ]
  },
  {
   "cell_type": "code",
   "execution_count": 16,
   "metadata": {},
   "outputs": [],
   "source": [
    "# 想要载入权重的层，其name和原始模型的name保存一致；不想载入权重的层，其name不要和原模型一样！\n",
    "model_new = keras.Sequential()\n",
    "\n",
    "# 卷积池化层：载入权重 √\n",
    "model_new.add( layers.Conv2D( filters=64, kernel_size=(3,3), activation = 'relu', input_shape=(28,28,1), name = 'gby_c1' ) )  \n",
    "model_new.add( layers.Conv2D( filters=64, kernel_size=(3,3), activation='relu', name = 'gby_c2') )\n",
    "model_new.add( layers.MaxPooling2D()  )  # 该层没可训练参数，也就没权重\n",
    "# 进入全连接层：不载入 ×\n",
    "model_new.add( layers.Flatten() )        # 该层没可训练参数，也就没权重\n",
    "model_new.add( layers.Dense(256, activation='relu', name = 'no_d11' ))\n",
    "model_new.add( layers.Dropout(0.5) )     # 该层没可训练参数，也就没权重\n",
    "model_new.add(layers.Dense(10, activation='softmax', name = 'no_d22')) "
   ]
  },
  {
   "cell_type": "code",
   "execution_count": 17,
   "metadata": {},
   "outputs": [
    {
     "name": "stdout",
     "output_type": "stream",
     "text": [
      "Model: \"sequential_3\"\n",
      "_________________________________________________________________\n",
      "Layer (type)                 Output Shape              Param #   \n",
      "=================================================================\n",
      "gby_c1 (Conv2D)              (None, 26, 26, 64)        640       \n",
      "_________________________________________________________________\n",
      "gby_c2 (Conv2D)              (None, 24, 24, 64)        36928     \n",
      "_________________________________________________________________\n",
      "max_pooling2d_3 (MaxPooling2 (None, 12, 12, 64)        0         \n",
      "_________________________________________________________________\n",
      "flatten_3 (Flatten)          (None, 9216)              0         \n",
      "_________________________________________________________________\n",
      "no_d11 (Dense)               (None, 256)               2359552   \n",
      "_________________________________________________________________\n",
      "dropout_2 (Dropout)          (None, 256)               0         \n",
      "_________________________________________________________________\n",
      "no_d22 (Dense)               (None, 10)                2570      \n",
      "=================================================================\n",
      "Total params: 2,399,690\n",
      "Trainable params: 2,399,690\n",
      "Non-trainable params: 0\n",
      "_________________________________________________________________\n"
     ]
    }
   ],
   "source": [
    "model_new.summary()"
   ]
  },
  {
   "cell_type": "code",
   "execution_count": 19,
   "metadata": {},
   "outputs": [],
   "source": [
    "# 不能忘记要“编译一下”：\n",
    "model_new.compile( optimizer='adam',\n",
    "                   loss = 'sparse_categorical_crossentropy',  # 顺序编码\n",
    "                   metrics=['acc']\n",
    ")"
   ]
  },
  {
   "cell_type": "markdown",
   "metadata": {},
   "source": [
    "### 载入部分层的权重：卷积层载，全连接层不载 "
   ]
  },
  {
   "cell_type": "code",
   "execution_count": 20,
   "metadata": {},
   "outputs": [],
   "source": [
    "# 多用一个参数设定：byname = True —— 新/老模型，名字相同的层，可以载入参数\n",
    "model_new.load_weights( 'my_model_weights_25.h5', by_name=True )"
   ]
  },
  {
   "cell_type": "code",
   "execution_count": 21,
   "metadata": {},
   "outputs": [
    {
     "name": "stdout",
     "output_type": "stream",
     "text": [
      "10000/10000 [==============================] - 4s 386us/step\n"
     ]
    },
    {
     "data": {
      "text/plain": [
       "[3.4070851642608644, 0.061799999326467514]"
      ]
     },
     "execution_count": 21,
     "metadata": {},
     "output_type": "execute_result"
    }
   ],
   "source": [
    "# 现在的模型已经功能完全具备，可以测试一下它的预测功能：\n",
    "model_new.evaluate(test_image, test_label)"
   ]
  },
  {
   "cell_type": "markdown",
   "metadata": {},
   "source": [
    "说明：载入的卷积层的参数后，为什么预测结果还是不好呢？\n",
    "\n",
    "因为：卷积层是用来特征提取的，把卷积层的参数载入，可以使得模型的特征提取的非常好。但是全连接层是进行“**特征汇聚**”与最后的“**结果转化**”，所以如果全连接层参数不载入，说明当前的模型就是“**临门一脚**”！特征提取的很好，但是不总结，最后的结果依然不好。\n",
    "\n",
    "启示：迁移学习，我们可以选只导入卷积层参数，最后的Dense全连接层参数很好训练，再单独训练即可。—— 卷积层参数 与 全连接层参数，二者的关系应该是“**相对比较独立**”的：因为卷积层就是辅助特征提取，它的各种权重参数就是它特征提取的方式。因此如果别人已经训练好了一个特征提取能力非常好的网络，我们可以就载入它的“卷积层参数”，后面相对独立的“全连接参数”我们可以根据自己的需求来做“**修改与再训练**”。"
   ]
  },
  {
   "cell_type": "code",
   "execution_count": null,
   "metadata": {},
   "outputs": [],
   "source": []
  }
 ],
 "metadata": {
  "kernelspec": {
   "display_name": "Python 3",
   "language": "python",
   "name": "python3"
  },
  "language_info": {
   "codemirror_mode": {
    "name": "ipython",
    "version": 3
   },
   "file_extension": ".py",
   "mimetype": "text/x-python",
   "name": "python",
   "nbconvert_exporter": "python",
   "pygments_lexer": "ipython3",
   "version": "3.7.4"
  }
 },
 "nbformat": 4,
 "nbformat_minor": 2
}
