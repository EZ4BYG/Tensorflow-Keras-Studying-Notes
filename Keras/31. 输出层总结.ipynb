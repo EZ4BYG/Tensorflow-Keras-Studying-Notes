{
 "cells": [
  {
   "cell_type": "markdown",
   "metadata": {},
   "source": [
    "- 回归问题：输出的是一个连续值 —— 没有激活函数（若有激活函数，就跳变不连续了）\n",
    "- 二分类问题：输出一个概率值 —— sigmoid激活\n",
    "- 多分类问题：输出N个概率值，这些值的和为1，谁最大是谁 —— softmax激活\n",
    "\n",
    "当有多标签、多回归问题时：可以把问题分解为上面3种问题的组合！"
   ]
  },
  {
   "cell_type": "code",
   "execution_count": null,
   "metadata": {},
   "outputs": [],
   "source": []
  }
 ],
 "metadata": {
  "kernelspec": {
   "display_name": "Python 3",
   "language": "python",
   "name": "python3"
  },
  "language_info": {
   "codemirror_mode": {
    "name": "ipython",
    "version": 3
   },
   "file_extension": ".py",
   "mimetype": "text/x-python",
   "name": "python",
   "nbconvert_exporter": "python",
   "pygments_lexer": "ipython3",
   "version": "3.7.4"
  }
 },
 "nbformat": 4,
 "nbformat_minor": 2
}
