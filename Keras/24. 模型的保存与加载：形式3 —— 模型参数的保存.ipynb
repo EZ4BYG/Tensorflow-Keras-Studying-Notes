{
 "cells": [
  {
   "cell_type": "code",
   "execution_count": 29,
   "metadata": {},
   "outputs": [],
   "source": [
    "import keras\n",
    "import numpy as np\n",
    "import matplotlib.pyplot as plt"
   ]
  },
  {
   "cell_type": "code",
   "execution_count": 30,
   "metadata": {},
   "outputs": [],
   "source": [
    "import keras.datasets.mnist as mnist\n",
    "(train_image, train_label), (test_image, test_label) = mnist.load_data() "
   ]
  },
  {
   "cell_type": "code",
   "execution_count": 31,
   "metadata": {},
   "outputs": [],
   "source": [
    "train_image = np.expand_dims(train_image, axis = -1)\n",
    "test_image = np.expand_dims(test_image, axis = -1)"
   ]
  },
  {
   "cell_type": "markdown",
   "metadata": {},
   "source": [
    "# 原始网络搭建 + 训练 + 形式2的“层结构”保存 + 形式3“参数”保存"
   ]
  },
  {
   "cell_type": "code",
   "execution_count": 32,
   "metadata": {},
   "outputs": [],
   "source": [
    "model = keras.Sequential()"
   ]
  },
  {
   "cell_type": "code",
   "execution_count": 33,
   "metadata": {},
   "outputs": [],
   "source": [
    "from keras import layers"
   ]
  },
  {
   "cell_type": "code",
   "execution_count": 34,
   "metadata": {},
   "outputs": [],
   "source": [
    "# 第一层要给输入数据的形状：只要管最后3个维度，前面的batch维不用管\n",
    "model.add( layers.Conv2D( filters=64, kernel_size=(3,3), activation = 'relu', input_shape=(28,28,1) ) )  # 其他一般都用默认\n",
    "model.add( layers.Conv2D( filters=64, kernel_size=(3,3), activation='relu') )\n",
    "model.add( layers.MaxPooling2D()  )  # 池化层一般都用默认的\n",
    "\n",
    "# 进入全连接层：\n",
    "model.add( layers.Flatten() )  # 把(12,12,64)全部展平为12*12*64 = 9216 —— 前面已经说过这个三维数据里都是特征！！！\n",
    "model.add(layers.Dense(256, activation='relu'))\n",
    "model.add( layers.Dropout(0.5) )  # 网络容量还是有些大，dropout一下\n",
    "model.add(layers.Dense(10, activation='softmax'))  # 最后是10分类输出，激活用softmax多分类"
   ]
  },
  {
   "cell_type": "code",
   "execution_count": 35,
   "metadata": {},
   "outputs": [],
   "source": [
    "model.compile( optimizer='adam',\n",
    "               loss = 'sparse_categorical_crossentropy',  # 顺序编码\n",
    "               metrics=['acc']\n",
    ")"
   ]
  },
  {
   "cell_type": "code",
   "execution_count": 36,
   "metadata": {},
   "outputs": [
    {
     "name": "stdout",
     "output_type": "stream",
     "text": [
      "Train on 60000 samples, validate on 10000 samples\n",
      "Epoch 1/3\n",
      "60000/60000 [==============================] - 96s 2ms/step - loss: 1.1123 - acc: 0.8966 - val_loss: 0.0634 - val_acc: 0.9796\n",
      "Epoch 2/3\n",
      "60000/60000 [==============================] - 96s 2ms/step - loss: 0.0837 - acc: 0.9746 - val_loss: 0.0500 - val_acc: 0.9843\n",
      "Epoch 3/3\n",
      "60000/60000 [==============================] - 93s 2ms/step - loss: 0.0602 - acc: 0.9817 - val_loss: 0.0397 - val_acc: 0.9871\n"
     ]
    },
    {
     "data": {
      "text/plain": [
       "<keras.callbacks.callbacks.History at 0x1c5a91edf48>"
      ]
     },
     "execution_count": 36,
     "metadata": {},
     "output_type": "execute_result"
    }
   ],
   "source": [
    "model.fit(train_image, train_label, epochs = 3, batch_size = 512, validation_data=(test_image, test_label) )"
   ]
  },
  {
   "cell_type": "markdown",
   "metadata": {},
   "source": [
    "### 对原模型的“层结构”保存："
   ]
  },
  {
   "cell_type": "code",
   "execution_count": 37,
   "metadata": {},
   "outputs": [],
   "source": [
    "# 保存：\n",
    "my_model_json_24 = model.to_json()\n",
    "\n",
    "# 写入文件：\n",
    "with open('my_model_json_24.json', 'w') as f:\n",
    "    f.write(my_model_json_24)"
   ]
  },
  {
   "cell_type": "markdown",
   "metadata": {},
   "source": [
    "### 对原模型的“层结构”加载："
   ]
  },
  {
   "cell_type": "code",
   "execution_count": 38,
   "metadata": {},
   "outputs": [],
   "source": [
    "# 加载：\n",
    "from keras.models import model_from_json\n",
    "\n",
    "# 读入\n",
    "with open('my_model_json_24.json', 'r') as f:\n",
    "    my_model_json_24 = f.read()\n",
    "    \n",
    "# 开始加载：\n",
    "model1 = model_from_json(my_model_json_24)"
   ]
  },
  {
   "cell_type": "code",
   "execution_count": 39,
   "metadata": {},
   "outputs": [
    {
     "name": "stdout",
     "output_type": "stream",
     "text": [
      "Model: \"sequential_2\"\n",
      "_________________________________________________________________\n",
      "Layer (type)                 Output Shape              Param #   \n",
      "=================================================================\n",
      "conv2d_3 (Conv2D)            (None, 26, 26, 64)        640       \n",
      "_________________________________________________________________\n",
      "conv2d_4 (Conv2D)            (None, 24, 24, 64)        36928     \n",
      "_________________________________________________________________\n",
      "max_pooling2d_2 (MaxPooling2 (None, 12, 12, 64)        0         \n",
      "_________________________________________________________________\n",
      "flatten_2 (Flatten)          (None, 9216)              0         \n",
      "_________________________________________________________________\n",
      "dense_3 (Dense)              (None, 256)               2359552   \n",
      "_________________________________________________________________\n",
      "dropout_2 (Dropout)          (None, 256)               0         \n",
      "_________________________________________________________________\n",
      "dense_4 (Dense)              (None, 10)                2570      \n",
      "=================================================================\n",
      "Total params: 2,399,690\n",
      "Trainable params: 2,399,690\n",
      "Non-trainable params: 0\n",
      "_________________________________________________________________\n"
     ]
    }
   ],
   "source": [
    "model1.summary()"
   ]
  },
  {
   "cell_type": "code",
   "execution_count": 40,
   "metadata": {},
   "outputs": [],
   "source": [
    "# 还是要先编译一下：因为它毕竟只停留到model.compile()之前！\n",
    "# 注意：只要模型编译了，它所有的权重就会被赋上一个随机初始值！（训练前的初始值）\n",
    "model1.compile( optimizer='adam',\n",
    "               loss = 'sparse_categorical_crossentropy',  # 顺序编码\n",
    "               metrics=['acc']\n",
    ")"
   ]
  },
  {
   "cell_type": "code",
   "execution_count": 41,
   "metadata": {},
   "outputs": [
    {
     "name": "stdout",
     "output_type": "stream",
     "text": [
      "10000/10000 [==============================] - 4s 388us/step\n"
     ]
    },
    {
     "data": {
      "text/plain": [
       "[37.0588640625, 0.066600002348423]"
      ]
     },
     "execution_count": 41,
     "metadata": {},
     "output_type": "execute_result"
    }
   ],
   "source": [
    "# 查看是否具有训练好的权重：\n",
    "model1.evaluate(test_image, test_label)"
   ]
  },
  {
   "cell_type": "markdown",
   "metadata": {},
   "source": [
    "### 对原模型的“参数”保存："
   ]
  },
  {
   "cell_type": "code",
   "execution_count": 42,
   "metadata": {},
   "outputs": [],
   "source": [
    "# 保存：\n",
    "model.save_weights('my_model_weights.h5')"
   ]
  },
  {
   "cell_type": "markdown",
   "metadata": {},
   "source": [
    "### 用“层结构model1”来加载原模型的“参数”："
   ]
  },
  {
   "cell_type": "code",
   "execution_count": 43,
   "metadata": {},
   "outputs": [],
   "source": [
    "# model1本来还是要先编译一下，但之前已经编译了，这里可以直接加载权重；\n",
    "# 用“层结构model1”来加载原模型的“参数”:\n",
    "model1.load_weights('my_model_weights.h5')"
   ]
  },
  {
   "cell_type": "code",
   "execution_count": 44,
   "metadata": {},
   "outputs": [
    {
     "name": "stdout",
     "output_type": "stream",
     "text": [
      "10000/10000 [==============================] - 4s 389us/step\n"
     ]
    },
    {
     "data": {
      "text/plain": [
       "[0.03968261045569307, 0.9871000051498413]"
      ]
     },
     "execution_count": 44,
     "metadata": {},
     "output_type": "execute_result"
    }
   ],
   "source": [
    "# 测试：层结构 + 权重参数 = 功能完整的原模型？\n",
    "model1.evaluate(test_image, test_label)"
   ]
  },
  {
   "cell_type": "markdown",
   "metadata": {},
   "source": [
    "此时很明显训练好的参数已经加载到层模型上！现在的model1和原始的模型model完全一样！\n",
    "\n",
    "说明：\n",
    "- 这里用的是保存的“层模型model1”；这里也完全可以用再自定义“大小匹配”的新层模型来用 —— 很好理解。\n",
    "- 目前的操作是对“**所有参数的加载**”，keras还可以进行“**部分层参数的加载**”，此时需要“**对每一层命名**”！\n",
    "\n",
    "对“**部分层参数的加载**”的操作，见文件25"
   ]
  }
 ],
 "metadata": {
  "kernelspec": {
   "display_name": "Python 3",
   "language": "python",
   "name": "python3"
  },
  "language_info": {
   "codemirror_mode": {
    "name": "ipython",
    "version": 3
   },
   "file_extension": ".py",
   "mimetype": "text/x-python",
   "name": "python",
   "nbconvert_exporter": "python",
   "pygments_lexer": "ipython3",
   "version": "3.7.4"
  }
 },
 "nbformat": 4,
 "nbformat_minor": 2
}
