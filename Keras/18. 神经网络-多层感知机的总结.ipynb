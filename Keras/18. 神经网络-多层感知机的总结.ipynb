{
 "cells": [
  {
   "cell_type": "markdown",
   "metadata": {},
   "source": [
    "（1）回归与分类，二者只在“输出层”有区别：输出层都可以有多个单元！\n",
    "- 回归：到输出层就结束了，输出层直接输出；\n",
    "- 分类：到输出层之后，每个单元还要多进行一次例如sigmoid、softmax等激活函数的“数值映射”，即把数值映射为概率！\n",
    "\n",
    "不管回归还是分类，输出层都可以当作是最后一层，只不过分类问题再多进行一下激活运算罢了。"
   ]
  },
  {
   "cell_type": "markdown",
   "metadata": {},
   "source": [
    "（2）什么是优化算法optimizer：\n",
    "- 概念：优化算法，就是将loss损失函数值下降的方法；\n",
    "- 内涵：包含了“梯度下降 + 反向传播”等一系列的操作，统称为“优化算法”。"
   ]
  },
  {
   "cell_type": "markdown",
   "metadata": {},
   "source": [
    "（3）目前所用的多层感知机：都是Dense层\n",
    "- 说明：Dense层就是“全连接层”，上一层所有单元完全与下一层所有单元连接！即使加了dropout层，全连接的特性也不会改变。\n",
    "- 神经网络容量：所有可训练参数总量(w与b)，可训练参数越多，网络对“训练数据”的拟合能力无上限的提高，极限拟合到1！\n",
    "\n",
    "注意：\n",
    "- Dense输入的数据是“**二维数组**”！因此待预测对象y很多是一维的！因此需要简单用.reshape(num,1)转一下！\n",
    "- 如何理解数据的“二维数组”形式：如特征x——[100, 21]；待预测对象y——[100,1]；对于特征x：高维的100表示有100组数据，低维21表示每组数据中有21个特征；对于待预测对象y：高维100也表示有100组数据，低维1表示每组数据中有1个预测值。\n",
    "\n",
    "补充：Keras中的各种层，都是“大写字母”开头的。"
   ]
  },
  {
   "cell_type": "markdown",
   "metadata": {},
   "source": [
    "（4）深度学习面临的问题与解决方案：过拟合\n",
    "- 问题：网络极好的拟合原始/训练数据，但是应用到新数据时效果很差！—— 对新数据的泛化能力，才是网络好坏衡量的关键！\n",
    "- 过拟合现象：训练精度与测试精度差距较大，且没有缩小差距的趋势；\n",
    "- 解决方案：加dropout层、每个Dense层中加入对权重的正则化惩罚、调试超参数；\n",
    "- 解决过程：1. 先进一步加大过拟合力度，提高网络正确性的“上限”；2. 用解决方法减弱过拟合；3. 再重复； \n",
    "\n",
    "注意：\n",
    "- 当用了dropout策略时，相当于“网络总容量/可训练参数”变小了；因此需要更多轮epoch的训练；\n",
    "- 正在化中的“惩罚力度权重”也是一个超参数，得人调；"
   ]
  },
  {
   "cell_type": "markdown",
   "metadata": {},
   "source": [
    "（5）一些keras功能的说明：\n",
    "- 虽然图像是二维数组，但其实它的特征还是每一个像素点，所以keras可以用flatten将其展平为1维；\n",
    "- batch_size可以把大数据量训练集，再每一轮训练中，再分多个批次进行训练；\n",
    "- 在model.fit(validation_data)中一边训练一边测试：每训练完一个epoch，对测试集来一次测试；\n",
    "- 在model.evaluate()中的测试，是模型已经完成了所有epoch轮训练后，用最后训练好的模型来测试！与上面一条不一样。\n",
    "\n",
    "所以：model.fit(validation_data)中测试的“验证集”，最后再用一次model.evaluate()测试的“测试集”！—— 训练集->验证集->测试集"
   ]
  },
  {
   "cell_type": "code",
   "execution_count": null,
   "metadata": {},
   "outputs": [],
   "source": []
  }
 ],
 "metadata": {
  "kernelspec": {
   "display_name": "Python 3",
   "language": "python",
   "name": "python3"
  },
  "language_info": {
   "codemirror_mode": {
    "name": "ipython",
    "version": 3
   },
   "file_extension": ".py",
   "mimetype": "text/x-python",
   "name": "python",
   "nbconvert_exporter": "python",
   "pygments_lexer": "ipython3",
   "version": "3.7.4"
  }
 },
 "nbformat": 4,
 "nbformat_minor": 2
}
