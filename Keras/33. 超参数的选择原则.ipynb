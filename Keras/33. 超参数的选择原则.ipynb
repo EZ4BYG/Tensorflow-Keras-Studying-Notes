{
 "cells": [
  {
   "cell_type": "markdown",
   "metadata": {},
   "source": [
    "# 基础说明："
   ]
  },
  {
   "cell_type": "markdown",
   "metadata": {},
   "source": [
    "（1）神经网络的容量：神经网络的容量正比于“层数 + 每层的单元数”。大容量的优缺点：\n",
    "- 优点：容量越大，对训练数据的拟合能力无上限的提高，从而提高模型精度的“上限”！\n",
    "- 缺点：容易越大，越容易过拟合，使得对未见过数据的泛化能力变差。\n",
    "\n",
    "（2）区分模型的“参数”与“超参数”：\n",
    "- 参数：不需要人为定义或改变的，网络会自己对其做定义与改变；如每层中的权重w和偏置b;\n",
    "- 超参数：需要人为指定的；如层数、每层神经元数、学习速率、正则化惩罚、训练轮次率、dropout层丢弃率等。\n",
    "\n",
    "（3）如何提高网络的“拟合能力”：增大网络容量\n",
    "- 增加每层的单元数：效果不明显，但数量不能太少！否则容易产生“**信息瓶颈**”；\n",
    "- 增加层数：效果很明显，因为每多一层，网络的可训练参数就会急剧上升！"
   ]
  },
  {
   "cell_type": "markdown",
   "metadata": {},
   "source": [
    "# 超参数的选择："
   ]
  },
  {
   "cell_type": "markdown",
   "metadata": {},
   "source": [
    "目标：达到精度要求的前提下，尽量减少过拟合现象。下面结合整个工作流程来说明“超参数”的选择策略：\n",
    "\n",
    "整个操作、选择、调整流程如下：\n",
    "\n",
    "（1）首先开放一个过拟合的模型：保证网络的预测精度上限\n",
    "- 添加更多的层；\n",
    "- 每层增加更多的神经元；\n",
    "- 训练更多的轮次。\n",
    "\n",
    "（2）抑制过拟合：优化模型\n",
    "- 添加dropout层；\n",
    "- 添加正则化；\n",
    "- 图像增强：相当于增大的训练数据样本。\n",
    "\n",
    "（3）再次调到过拟合：小调\n",
    "- 学习速率；\n",
    "- 隐藏层单元数：此时再删减/增加层数就动作太大了！\n",
    "- 训练轮次。"
   ]
  },
  {
   "cell_type": "markdown",
   "metadata": {},
   "source": [
    "# 多次调参后可能出现的问题："
   ]
  },
  {
   "cell_type": "markdown",
   "metadata": {},
   "source": [
    "评判模型好坏一直使用的是那一组测试数据！这其实还是会导致模型越来越“**偏靠（所有的调整都是为了在这组测试数据上获得好结果）**”这样的一组数据！从而又反而导致模型的泛化能力变差！\n",
    "\n",
    "解决此问题，很明显是要多换换测试数据，可以用：**交叉验证**。"
   ]
  },
  {
   "cell_type": "code",
   "execution_count": null,
   "metadata": {},
   "outputs": [],
   "source": []
  }
 ],
 "metadata": {
  "kernelspec": {
   "display_name": "Python 3",
   "language": "python",
   "name": "python3"
  },
  "language_info": {
   "codemirror_mode": {
    "name": "ipython",
    "version": 3
   },
   "file_extension": ".py",
   "mimetype": "text/x-python",
   "name": "python",
   "nbconvert_exporter": "python",
   "pygments_lexer": "ipython3",
   "version": "3.7.4"
  }
 },
 "nbformat": 4,
 "nbformat_minor": 2
}
